{
 "cells": [
  {
   "cell_type": "code",
   "execution_count": 14,
   "metadata": {},
   "outputs": [],
   "source": [
    "import numpy as np\n",
    "import pandas as pd\n",
    "from spacy.lang.en import English\n",
    "from spacy import displacy\n",
    "from spacy.lang.en.stop_words import STOP_WORDS"
   ]
  },
  {
   "cell_type": "markdown",
   "metadata": {},
   "source": [
    "# Tokenization"
   ]
  },
  {
   "cell_type": "code",
   "execution_count": 15,
   "metadata": {},
   "outputs": [],
   "source": [
    "nlp = English()"
   ]
  },
  {
   "cell_type": "code",
   "execution_count": 16,
   "metadata": {},
   "outputs": [
    {
     "name": "stdout",
     "output_type": "stream",
     "text": [
      "Tesla\n",
      "Inc\n",
      "(\n",
      "TSLA.O\n",
      ")\n",
      "on\n",
      "Wednesday\n",
      "surprised\n",
      "investors\n",
      "with\n",
      "a\n",
      "quarterly\n",
      "profit\n",
      "that\n",
      "sent\n",
      "its\n",
      "shares\n",
      "soaring\n",
      ",\n",
      "as\n",
      "Chief\n",
      "Executive\n",
      "Elon\n",
      "Musk\n",
      "promised\n",
      "a\n",
      "2020\n",
      "rollout\n",
      "of\n",
      "a\n",
      "cheaper\n",
      "SUV\n",
      "and\n",
      "more\n",
      "self\n",
      "-\n",
      "driving\n",
      "technology\n",
      "to\n",
      "stay\n",
      "ahead\n",
      "of\n",
      "larger\n",
      "rivals\n",
      "rushing\n",
      "into\n",
      "the\n",
      "premium\n",
      "electric\n",
      "vehicle\n",
      "market\n",
      "he\n",
      "created\n",
      ".\n",
      "Shares\n",
      "rose\n",
      "nearly\n",
      "21\n",
      "%\n",
      "to\n",
      "$\n",
      "307.12\n",
      "after\n",
      "hours\n",
      "on\n",
      "the\n",
      "unexpected\n",
      "news\n",
      ",\n",
      "crossing\n",
      "$\n",
      "300\n",
      "for\n",
      "the\n",
      "first\n",
      "time\n",
      "since\n",
      "March\n",
      "1\n",
      "after\n",
      "record\n",
      "deliveries\n",
      "and\n",
      "cost\n",
      "cuts\n",
      "ensured\n",
      "a\n",
      "profitable\n",
      "third\n",
      "quarter\n",
      ".\n",
      "Tesla\n",
      "on\n",
      "Wednesday\n",
      "posted\n",
      "a\n",
      "cash\n",
      "balance\n",
      "increase\n",
      "to\n",
      "$\n",
      "5.3\n",
      "billion\n",
      "and\n",
      "reported\n",
      "a\n",
      "profit\n",
      "of\n",
      "$\n",
      "1.86\n",
      "per\n",
      "share\n",
      ",\n",
      "shattering\n",
      "analyst\n",
      "expectations\n",
      "for\n",
      "a\n",
      "loss\n",
      "of\n",
      "42\n",
      "cents\n",
      "per\n",
      "share\n",
      ".\n"
     ]
    }
   ],
   "source": [
    "doc = nlp(\"Tesla Inc (TSLA.O) on Wednesday surprised investors with a quarterly profit that sent its shares soaring, as Chief Executive Elon Musk promised a 2020 rollout of a cheaper SUV and more self-driving technology to stay ahead of larger rivals rushing into the premium electric vehicle market he created. Shares rose nearly 21% to $307.12 after hours on the unexpected news, crossing $300 for the first time since March 1 after record deliveries and cost cuts ensured a profitable third quarter. Tesla on Wednesday posted a cash balance increase to $5.3 billion and reported a profit of $1.86 per share, shattering analyst expectations for a loss of 42 cents per share.\")\n",
    "\n",
    "for token in doc:\n",
    "    print(token.text)"
   ]
  },
  {
   "cell_type": "markdown",
   "metadata": {},
   "source": [
    "# Text Cleaning"
   ]
  },
  {
   "cell_type": "code",
   "execution_count": 17,
   "metadata": {},
   "outputs": [],
   "source": [
    "#-- creating my own stopwords and adding to spacy\n",
    "my_stop_words = ['Inc', 'TSLA.O', '$']\n",
    "STOP_WORDS.add('my_stop_words')"
   ]
  },
  {
   "cell_type": "code",
   "execution_count": 18,
   "metadata": {},
   "outputs": [
    {
     "name": "stdout",
     "output_type": "stream",
     "text": [
      "['Tesla', 'Inc', 'TSLA.O', 'Wednesday', 'surprised', 'investors', 'quarterly', 'profit', 'sent', 'shares', 'soaring', 'Chief', 'Executive', 'Elon', 'Musk', 'promised', 'rollout', 'cheaper', 'SUV', 'self', 'driving', 'technology', 'stay', 'ahead', 'larger', 'rivals', 'rushing', 'premium', 'electric', 'vehicle', 'market', 'created', 'Shares', 'rose', 'nearly', '$', 'hours', 'unexpected', 'news', 'crossing', '$', 'time', 'March', 'record', 'deliveries', 'cost', 'cuts', 'ensured', 'profitable', 'quarter', 'Tesla', 'Wednesday', 'posted', 'cash', 'balance', 'increase', '$', 'reported', 'profit', '$', 'share', 'shattering', 'analyst', 'expectations', 'loss', 'cents', 'share']\n"
     ]
    }
   ],
   "source": [
    "text = []\n",
    "for w in doc:\n",
    "    #-- if it's not a stop word or punctuation mark, add it to our article!\n",
    "    if w.text != 'n' and not w.is_stop and not w.is_punct and not w.like_num:\n",
    "        #-- adding the lematized version of the word\n",
    "        text.append(w.lemma_)\n",
    "print(text)"
   ]
  }
 ],
 "metadata": {
  "kernelspec": {
   "display_name": "Python 3",
   "language": "python",
   "name": "python3"
  },
  "language_info": {
   "codemirror_mode": {
    "name": "ipython",
    "version": 3
   },
   "file_extension": ".py",
   "mimetype": "text/x-python",
   "name": "python",
   "nbconvert_exporter": "python",
   "pygments_lexer": "ipython3",
   "version": "3.7.3"
  }
 },
 "nbformat": 4,
 "nbformat_minor": 4
}
