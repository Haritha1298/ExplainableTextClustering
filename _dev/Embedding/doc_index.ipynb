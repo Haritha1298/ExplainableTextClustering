{
 "cells": [
  {
   "cell_type": "markdown",
   "metadata": {},
   "source": [
    "## **Import the needed packages**"
   ]
  },
  {
   "cell_type": "code",
   "execution_count": 50,
   "metadata": {},
   "outputs": [
    {
     "name": "stderr",
     "output_type": "stream",
     "text": [
      "[nltk_data] Downloading package stopwords to\n",
      "[nltk_data]     C:\\Users\\Roy\\AppData\\Roaming\\nltk_data...\n",
      "[nltk_data]   Package stopwords is already up-to-date!\n",
      "[nltk_data] Downloading package wordnet to\n",
      "[nltk_data]     C:\\Users\\Roy\\AppData\\Roaming\\nltk_data...\n",
      "[nltk_data]   Package wordnet is already up-to-date!\n"
     ]
    }
   ],
   "source": [
    "%matplotlib inline\n",
    "import matplotlib.pyplot as plt\n",
    "import nltk\n",
    "from nltk.corpus import stopwords\n",
    "nltk.download('stopwords')\n",
    "nltk.download('wordnet')\n",
    "from nltk.stem.wordnet import WordNetLemmatizer\n",
    "import numpy as np\n",
    "import pandas as pd\n",
    "from sklearn.cluster import MiniBatchKMeans\n",
    "from sklearn.decomposition import PCA\n",
    "from sklearn.feature_extraction.text import TfidfVectorizer\n",
    "from sklearn.decomposition import TruncatedSVD\n",
    "from sklearn.neighbors import KDTree\n",
    "from sklearn.preprocessing import Normalizer"
   ]
  },
  {
   "cell_type": "markdown",
   "metadata": {},
   "source": [
    "## **Load the dataset**"
   ]
  },
  {
   "cell_type": "code",
   "execution_count": 51,
   "metadata": {},
   "outputs": [
    {
     "name": "stdout",
     "output_type": "stream",
     "text": [
      "Number of rows : 2225\n"
     ]
    },
    {
     "data": {
      "text/html": [
       "<div>\n",
       "<style scoped>\n",
       "    .dataframe tbody tr th:only-of-type {\n",
       "        vertical-align: middle;\n",
       "    }\n",
       "\n",
       "    .dataframe tbody tr th {\n",
       "        vertical-align: top;\n",
       "    }\n",
       "\n",
       "    .dataframe thead th {\n",
       "        text-align: right;\n",
       "    }\n",
       "</style>\n",
       "<table border=\"1\" class=\"dataframe\">\n",
       "  <thead>\n",
       "    <tr style=\"text-align: right;\">\n",
       "      <th></th>\n",
       "      <th>text</th>\n",
       "      <th>Label</th>\n",
       "    </tr>\n",
       "  </thead>\n",
       "  <tbody>\n",
       "    <tr>\n",
       "      <td>614</td>\n",
       "      <td>Holmes wins '2004 top TV moment'\\n\\nSprinter K...</td>\n",
       "      <td>Entertainment</td>\n",
       "    </tr>\n",
       "    <tr>\n",
       "      <td>1446</td>\n",
       "      <td>Hodges announces rugby retirement\\n\\nScarlets ...</td>\n",
       "      <td>Sports</td>\n",
       "    </tr>\n",
       "    <tr>\n",
       "      <td>289</td>\n",
       "      <td>India calls for fair trade rules\\n\\nIndia, whi...</td>\n",
       "      <td>Business</td>\n",
       "    </tr>\n",
       "    <tr>\n",
       "      <td>1984</td>\n",
       "      <td>Multi-purpose TV aids India\\n\\nTwo-thirds of t...</td>\n",
       "      <td>Technology</td>\n",
       "    </tr>\n",
       "    <tr>\n",
       "      <td>1299</td>\n",
       "      <td>Goldsmith denies war advice claim\\n\\nThe attor...</td>\n",
       "      <td>Politics</td>\n",
       "    </tr>\n",
       "  </tbody>\n",
       "</table>\n",
       "</div>"
      ],
      "text/plain": [
       "                                                   text          Label\n",
       "614   Holmes wins '2004 top TV moment'\\n\\nSprinter K...  Entertainment\n",
       "1446  Hodges announces rugby retirement\\n\\nScarlets ...         Sports\n",
       "289   India calls for fair trade rules\\n\\nIndia, whi...       Business\n",
       "1984  Multi-purpose TV aids India\\n\\nTwo-thirds of t...     Technology\n",
       "1299  Goldsmith denies war advice claim\\n\\nThe attor...       Politics"
      ]
     },
     "execution_count": 51,
     "metadata": {},
     "output_type": "execute_result"
    }
   ],
   "source": [
    "#-- The BBC dataset\n",
    "df = pd.read_csv('articles.csv')\n",
    "\n",
    "#-- let's look at some of the data\n",
    "print(\"Number of rows : \" + str(df.shape[0]))\n",
    "df.sample(5)"
   ]
  },
  {
   "cell_type": "markdown",
   "metadata": {},
   "source": [
    "## **Let's keep the data we want**"
   ]
  },
  {
   "cell_type": "code",
   "execution_count": 52,
   "metadata": {},
   "outputs": [
    {
     "data": {
      "text/html": [
       "<div>\n",
       "<style scoped>\n",
       "    .dataframe tbody tr th:only-of-type {\n",
       "        vertical-align: middle;\n",
       "    }\n",
       "\n",
       "    .dataframe tbody tr th {\n",
       "        vertical-align: top;\n",
       "    }\n",
       "\n",
       "    .dataframe thead th {\n",
       "        text-align: right;\n",
       "    }\n",
       "</style>\n",
       "<table border=\"1\" class=\"dataframe\">\n",
       "  <thead>\n",
       "    <tr style=\"text-align: right;\">\n",
       "      <th></th>\n",
       "      <th>index</th>\n",
       "      <th>text</th>\n",
       "      <th>word_count</th>\n",
       "    </tr>\n",
       "  </thead>\n",
       "  <tbody>\n",
       "    <tr>\n",
       "      <td>0</td>\n",
       "      <td>0</td>\n",
       "      <td>UK economy facing 'major risks'\\n\\nThe UK manu...</td>\n",
       "      <td>319</td>\n",
       "    </tr>\n",
       "    <tr>\n",
       "      <td>1</td>\n",
       "      <td>1</td>\n",
       "      <td>Aids and climate top Davos agenda\\n\\nClimate c...</td>\n",
       "      <td>442</td>\n",
       "    </tr>\n",
       "    <tr>\n",
       "      <td>2</td>\n",
       "      <td>2</td>\n",
       "      <td>Asian quake hits European shares\\n\\nShares in ...</td>\n",
       "      <td>539</td>\n",
       "    </tr>\n",
       "    <tr>\n",
       "      <td>3</td>\n",
       "      <td>3</td>\n",
       "      <td>India power shares jump on debut\\n\\nShares in ...</td>\n",
       "      <td>171</td>\n",
       "    </tr>\n",
       "    <tr>\n",
       "      <td>4</td>\n",
       "      <td>4</td>\n",
       "      <td>Lacroix label bought by US firm\\n\\nLuxury good...</td>\n",
       "      <td>148</td>\n",
       "    </tr>\n",
       "  </tbody>\n",
       "</table>\n",
       "</div>"
      ],
      "text/plain": [
       "   index                                               text  word_count\n",
       "0      0  UK economy facing 'major risks'\\n\\nThe UK manu...         319\n",
       "1      1  Aids and climate top Davos agenda\\n\\nClimate c...         442\n",
       "2      2  Asian quake hits European shares\\n\\nShares in ...         539\n",
       "3      3  India power shares jump on debut\\n\\nShares in ...         171\n",
       "4      4  Lacroix label bought by US firm\\n\\nLuxury good...         148"
      ]
     },
     "execution_count": 52,
     "metadata": {},
     "output_type": "execute_result"
    }
   ],
   "source": [
    "abstract_df = pd.DataFrame(columns=['text', 'word_count'])\n",
    "abstract_df['text'] = df['text']\n",
    "abstract_df.reset_index(inplace = True)\n",
    "abstract_df['word_count'] = abstract_df['text'].apply(lambda x: len(x.split(\" \")))\n",
    "#total_wordcount = abstract_df['word_count'].sum()\n",
    "#print(\"sum \\t\" + str(total_wordcount))\n",
    "#print(abstract_df.word_count.describe())\n",
    "abstract_df.head()"
   ]
  },
  {
   "cell_type": "markdown",
   "metadata": {},
   "source": [
    "## **Clean our dataset**\n",
    "To clean our data, we need to do the following:\n",
    "* remove punctuation and special symbols\n",
    "* remove tags\n",
    "* remove digits\n",
    "* make all characters lower case\n",
    "* remove all stopwords\n",
    "* get the lemmas for our words (lemmatization)"
   ]
  },
  {
   "cell_type": "code",
   "execution_count": 53,
   "metadata": {},
   "outputs": [
    {
     "data": {
      "text/plain": [
       "['UK economy facing major risk The UK manufacturing sector continue face serious challenge next two year British Chamber Commerce BCC said The group quarterly survey company found export picked last three month best level eight year The rise came despite exchange rate cited major concern However BCC found whole UK economy still faced major risk warned growth set slow It recently forecast economic growth slow little Manufacturers domestic sale growth fell back slightly quarter survey firm found Employment manufacturing also fell job expectation lowest level year Despite positive news export sector worrying sign manufacturing BCC said These result reinforce concern sector persistent inability sustain recovery The outlook service sector uncertain despite increase export order quarter BCC noted The BCC found confidence increased quarter across manufacturing service sector although overall failed reach level start The reduced threat interest rate increase contributed improved confidence said The Bank England raised interest rate five time November August last year But rate kept hold since amid sign falling consumer confidence slowdown output The pressure cost margin relentless increase regulation threat higher tax remain serious problem BCC director general David Frost said While consumer spending set decelerate significantly next month unlikely investment export rise sufficiently strongly pick slack']"
      ]
     },
     "execution_count": 53,
     "metadata": {},
     "output_type": "execute_result"
    }
   ],
   "source": [
    "corpus = []\n",
    "\n",
    "#-- initialize the lemmatizer\n",
    "lem = WordNetLemmatizer()\n",
    "\n",
    "#-- create a set of stopwords\n",
    "stop_words = set(stopwords.words(\"english\"))\n",
    "\n",
    "for text in abstract_df['text']:\n",
    "    #-- remove all punctuation\n",
    "    text = re.sub('[^a-zA-Z]', ' ', text)\n",
    "    #-- empty tags \n",
    "    text = re.sub(\"&lt;/?.*?&gt;\", \" &lt;&gt; \", text)\n",
    "    #-- remove special characters and digits\n",
    "    text = re.sub(\"(\\\\d|\\\\W)+\",\" \", text)\n",
    "    #-- make all chars lowercase\n",
    "    text.lower()\n",
    "    #-- create a list of words \n",
    "    words = text.split()\n",
    "    text = \" \".join([lem.lemmatize(word) for word in words if \\\n",
    "                    word not in stop_words])\n",
    "    corpus.append(text)\n",
    "    \n",
    "#-- We've now generated a normalized corpus with only word lemmas\n",
    "corpus[:1]"
   ]
  },
  {
   "cell_type": "markdown",
   "metadata": {},
   "source": [
    "## **Create document term matrix using TD-IDF**"
   ]
  },
  {
   "cell_type": "code",
   "execution_count": 54,
   "metadata": {},
   "outputs": [
    {
     "data": {
      "text/html": [
       "<div>\n",
       "<style scoped>\n",
       "    .dataframe tbody tr th:only-of-type {\n",
       "        vertical-align: middle;\n",
       "    }\n",
       "\n",
       "    .dataframe tbody tr th {\n",
       "        vertical-align: top;\n",
       "    }\n",
       "\n",
       "    .dataframe thead th {\n",
       "        text-align: right;\n",
       "    }\n",
       "</style>\n",
       "<table border=\"1\" class=\"dataframe\">\n",
       "  <thead>\n",
       "    <tr style=\"text-align: right;\">\n",
       "      <th></th>\n",
       "      <th>aa</th>\n",
       "      <th>aaa</th>\n",
       "      <th>aaas</th>\n",
       "      <th>aac</th>\n",
       "      <th>aadc</th>\n",
       "      <th>aaliyah</th>\n",
       "      <th>aaltra</th>\n",
       "      <th>aamir</th>\n",
       "      <th>aan</th>\n",
       "      <th>aara</th>\n",
       "      <th>...</th>\n",
       "      <th>zoom</th>\n",
       "      <th>zooropa</th>\n",
       "      <th>zornotza</th>\n",
       "      <th>zorro</th>\n",
       "      <th>zubair</th>\n",
       "      <th>zuluaga</th>\n",
       "      <th>zurich</th>\n",
       "      <th>zutons</th>\n",
       "      <th>zvonareva</th>\n",
       "      <th>zvyagintsev</th>\n",
       "    </tr>\n",
       "  </thead>\n",
       "  <tbody>\n",
       "    <tr>\n",
       "      <td>0</td>\n",
       "      <td>0.0</td>\n",
       "      <td>0.0</td>\n",
       "      <td>0.0</td>\n",
       "      <td>0.0</td>\n",
       "      <td>0.0</td>\n",
       "      <td>0.0</td>\n",
       "      <td>0.0</td>\n",
       "      <td>0.0</td>\n",
       "      <td>0.0</td>\n",
       "      <td>0.0</td>\n",
       "      <td>...</td>\n",
       "      <td>0.0</td>\n",
       "      <td>0.0</td>\n",
       "      <td>0.0</td>\n",
       "      <td>0.0</td>\n",
       "      <td>0.0</td>\n",
       "      <td>0.0</td>\n",
       "      <td>0.000000</td>\n",
       "      <td>0.0</td>\n",
       "      <td>0.0</td>\n",
       "      <td>0.0</td>\n",
       "    </tr>\n",
       "    <tr>\n",
       "      <td>1</td>\n",
       "      <td>0.0</td>\n",
       "      <td>0.0</td>\n",
       "      <td>0.0</td>\n",
       "      <td>0.0</td>\n",
       "      <td>0.0</td>\n",
       "      <td>0.0</td>\n",
       "      <td>0.0</td>\n",
       "      <td>0.0</td>\n",
       "      <td>0.0</td>\n",
       "      <td>0.0</td>\n",
       "      <td>...</td>\n",
       "      <td>0.0</td>\n",
       "      <td>0.0</td>\n",
       "      <td>0.0</td>\n",
       "      <td>0.0</td>\n",
       "      <td>0.0</td>\n",
       "      <td>0.0</td>\n",
       "      <td>0.000000</td>\n",
       "      <td>0.0</td>\n",
       "      <td>0.0</td>\n",
       "      <td>0.0</td>\n",
       "    </tr>\n",
       "    <tr>\n",
       "      <td>2</td>\n",
       "      <td>0.0</td>\n",
       "      <td>0.0</td>\n",
       "      <td>0.0</td>\n",
       "      <td>0.0</td>\n",
       "      <td>0.0</td>\n",
       "      <td>0.0</td>\n",
       "      <td>0.0</td>\n",
       "      <td>0.0</td>\n",
       "      <td>0.0</td>\n",
       "      <td>0.0</td>\n",
       "      <td>...</td>\n",
       "      <td>0.0</td>\n",
       "      <td>0.0</td>\n",
       "      <td>0.0</td>\n",
       "      <td>0.0</td>\n",
       "      <td>0.0</td>\n",
       "      <td>0.0</td>\n",
       "      <td>0.049918</td>\n",
       "      <td>0.0</td>\n",
       "      <td>0.0</td>\n",
       "      <td>0.0</td>\n",
       "    </tr>\n",
       "    <tr>\n",
       "      <td>3</td>\n",
       "      <td>0.0</td>\n",
       "      <td>0.0</td>\n",
       "      <td>0.0</td>\n",
       "      <td>0.0</td>\n",
       "      <td>0.0</td>\n",
       "      <td>0.0</td>\n",
       "      <td>0.0</td>\n",
       "      <td>0.0</td>\n",
       "      <td>0.0</td>\n",
       "      <td>0.0</td>\n",
       "      <td>...</td>\n",
       "      <td>0.0</td>\n",
       "      <td>0.0</td>\n",
       "      <td>0.0</td>\n",
       "      <td>0.0</td>\n",
       "      <td>0.0</td>\n",
       "      <td>0.0</td>\n",
       "      <td>0.000000</td>\n",
       "      <td>0.0</td>\n",
       "      <td>0.0</td>\n",
       "      <td>0.0</td>\n",
       "    </tr>\n",
       "    <tr>\n",
       "      <td>4</td>\n",
       "      <td>0.0</td>\n",
       "      <td>0.0</td>\n",
       "      <td>0.0</td>\n",
       "      <td>0.0</td>\n",
       "      <td>0.0</td>\n",
       "      <td>0.0</td>\n",
       "      <td>0.0</td>\n",
       "      <td>0.0</td>\n",
       "      <td>0.0</td>\n",
       "      <td>0.0</td>\n",
       "      <td>...</td>\n",
       "      <td>0.0</td>\n",
       "      <td>0.0</td>\n",
       "      <td>0.0</td>\n",
       "      <td>0.0</td>\n",
       "      <td>0.0</td>\n",
       "      <td>0.0</td>\n",
       "      <td>0.000000</td>\n",
       "      <td>0.0</td>\n",
       "      <td>0.0</td>\n",
       "      <td>0.0</td>\n",
       "    </tr>\n",
       "  </tbody>\n",
       "</table>\n",
       "<p>5 rows × 25833 columns</p>\n",
       "</div>"
      ],
      "text/plain": [
       "    aa  aaa  aaas  aac  aadc  aaliyah  aaltra  aamir  aan  aara  ...  zoom  \\\n",
       "0  0.0  0.0   0.0  0.0   0.0      0.0     0.0    0.0  0.0   0.0  ...   0.0   \n",
       "1  0.0  0.0   0.0  0.0   0.0      0.0     0.0    0.0  0.0   0.0  ...   0.0   \n",
       "2  0.0  0.0   0.0  0.0   0.0      0.0     0.0    0.0  0.0   0.0  ...   0.0   \n",
       "3  0.0  0.0   0.0  0.0   0.0      0.0     0.0    0.0  0.0   0.0  ...   0.0   \n",
       "4  0.0  0.0   0.0  0.0   0.0      0.0     0.0    0.0  0.0   0.0  ...   0.0   \n",
       "\n",
       "   zooropa  zornotza  zorro  zubair  zuluaga    zurich  zutons  zvonareva  \\\n",
       "0      0.0       0.0    0.0     0.0      0.0  0.000000     0.0        0.0   \n",
       "1      0.0       0.0    0.0     0.0      0.0  0.000000     0.0        0.0   \n",
       "2      0.0       0.0    0.0     0.0      0.0  0.049918     0.0        0.0   \n",
       "3      0.0       0.0    0.0     0.0      0.0  0.000000     0.0        0.0   \n",
       "4      0.0       0.0    0.0     0.0      0.0  0.000000     0.0        0.0   \n",
       "\n",
       "   zvyagintsev  \n",
       "0          0.0  \n",
       "1          0.0  \n",
       "2          0.0  \n",
       "3          0.0  \n",
       "4          0.0  \n",
       "\n",
       "[5 rows x 25833 columns]"
      ]
     },
     "execution_count": 54,
     "metadata": {},
     "output_type": "execute_result"
    }
   ],
   "source": [
    "#-- function to create document term matrix\n",
    "def createDTM(text):\n",
    "    vect = TfidfVectorizer()\n",
    "    dtm = vect.fit_transform(text)\n",
    "    #-- create pandas dataframe of DTM\n",
    "    return pd.DataFrame(dtm.toarray(), columns=vect.get_feature_names())\n",
    "\n",
    "#-- let's take a look at the dtm\n",
    "X = createDTM(corpus)\n",
    "X[:5]"
   ]
  },
  {
   "cell_type": "markdown",
   "metadata": {},
   "source": [
    "## **Query for neighbors within a given radius**"
   ]
  },
  {
   "cell_type": "code",
   "execution_count": 55,
   "metadata": {},
   "outputs": [
    {
     "name": "stdout",
     "output_type": "stream",
     "text": [
      "[1]\n",
      "[array([0], dtype=int64)]\n"
     ]
    }
   ],
   "source": [
    "# Instantiate KDTree\n",
    "tree = KDTree(X, leaf_size=5)\n",
    "\n",
    "# Query the tree for neighbors within a radius 0.5\n",
    "print(tree.query_radius(X[:1], r=0.5, count_only=True))\n",
    "\n",
    "# Indices of neighbors within distance 0.5\n",
    "ind = tree.query_radius(X[:1], r=0.5)\n",
    "print(ind)"
   ]
  },
  {
   "cell_type": "markdown",
   "metadata": {},
   "source": [
    "# **Clustering using k-means algorithm**"
   ]
  },
  {
   "cell_type": "code",
   "execution_count": 56,
   "metadata": {},
   "outputs": [],
   "source": [
    "vec = TfidfVectorizer(max_df=0.5, min_df=2, use_idf=True)\n",
    "vec.fit(corpus)\n",
    "features = vec.transform(corpus)"
   ]
  },
  {
   "cell_type": "code",
   "execution_count": 57,
   "metadata": {},
   "outputs": [
    {
     "data": {
      "text/plain": [
       "MiniBatchKMeans(batch_size=100, compute_labels=True, init='k-means++',\n",
       "                init_size=None, max_iter=100, max_no_improvement=10,\n",
       "                n_clusters=5, n_init=3, random_state=42,\n",
       "                reassignment_ratio=0.01, tol=0.0, verbose=0)"
      ]
     },
     "execution_count": 57,
     "metadata": {},
     "output_type": "execute_result"
    }
   ],
   "source": [
    "# Instantiate KMeans\n",
    "cls = MiniBatchKMeans(n_clusters=5, random_state=42)\n",
    "cls.fit(features)"
   ]
  },
  {
   "cell_type": "code",
   "execution_count": 58,
   "metadata": {},
   "outputs": [
    {
     "data": {
      "text/plain": [
       "array([3, 4, 3, ..., 2, 0, 2])"
      ]
     },
     "execution_count": 58,
     "metadata": {},
     "output_type": "execute_result"
    }
   ],
   "source": [
    "# Predict cluster labels for new dataset\n",
    "cls.predict(features)\n",
    "\n",
    "# to get cluster labels for the dataset used while\n",
    "# training the model (used for models that does not\n",
    "# support prediction on new dataset)\n",
    "cls.labels_"
   ]
  },
  {
   "cell_type": "code",
   "execution_count": 59,
   "metadata": {},
   "outputs": [],
   "source": [
    "# Reduce the features to 2D\n",
    "pca = PCA(n_components=2, random_state=42)\n",
    "reduced_features = pca.fit_transform(features.toarray())\n",
    "\n",
    "# Reduce the cluster centers to 2D\n",
    "reduced_cluster_centers = pca.transform(cls.cluster_centers_)"
   ]
  },
  {
   "cell_type": "code",
   "execution_count": 60,
   "metadata": {},
   "outputs": [
    {
     "data": {
      "image/png": "[encoded data removed]",
      "text/plain": [
       "<Figure size 432x288 with 1 Axes>"
      ]
     },
     "metadata": {
      "needs_background": "light"
     },
     "output_type": "display_data"
    }
   ],
   "source": [
    "# Making the scatter plot\n",
    "plt.scatter(reduced_features[:,0], reduced_features[:,1], c=cls.predict(features))\n",
    "plt.scatter(reduced_cluster_centers[:, 0], reduced_cluster_centers[:,1], marker='x', s=150, c='b');"
   ]
  },
  {
   "cell_type": "markdown",
   "metadata": {},
   "source": [
    "# **Homogeneity and Silhouette score**"
   ]
  },
  {
   "cell_type": "code",
   "execution_count": 61,
   "metadata": {},
   "outputs": [
    {
     "data": {
      "text/plain": [
       "0.6447199334522007"
      ]
     },
     "execution_count": 61,
     "metadata": {},
     "output_type": "execute_result"
    }
   ],
   "source": [
    "from sklearn.metrics import homogeneity_score\n",
    "homogeneity_score(df.Label, cls.predict(features))"
   ]
  },
  {
   "cell_type": "code",
   "execution_count": 62,
   "metadata": {},
   "outputs": [
    {
     "data": {
      "text/plain": [
       "0.011338357250552645"
      ]
     },
     "execution_count": 62,
     "metadata": {},
     "output_type": "execute_result"
    }
   ],
   "source": [
    "from sklearn.metrics import silhouette_score\n",
    "silhouette_score(features, labels=cls.predict(features))"
   ]
  }
 ],
 "metadata": {
  "kernelspec": {
   "display_name": "Python 3",
   "language": "python",
   "name": "python3"
  },
  "language_info": {
   "codemirror_mode": {
    "name": "ipython",
    "version": 3
   },
   "file_extension": ".py",
   "mimetype": "text/x-python",
   "name": "python",
   "nbconvert_exporter": "python",
   "pygments_lexer": "ipython3",
   "version": "3.7.4"
  }
 },
 "nbformat": 4,
 "nbformat_minor": 4
}
