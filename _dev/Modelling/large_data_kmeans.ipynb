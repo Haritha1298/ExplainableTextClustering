{
 "cells": [
  {
   "cell_type": "code",
   "execution_count": 2,
   "metadata": {},
   "outputs": [],
   "source": [
    "import urllib.request  as urllib2\n",
    "from newspaper import Article\n",
    "import csv\n",
    "import pandas as pd\n",
    "import socket\n",
    "#url = 'https://techcrunch.com/2014/03/10/ebay-asks-shareholders-to-vote-against-paypal-split-while-icahn-claims-ceo-incompetence-cost-4b/'"
   ]
  },
  {
   "cell_type": "code",
   "execution_count": 214,
   "metadata": {},
   "outputs": [
    {
     "data": {
      "text/plain": [
       "\"#reader = csv.reader('newsCorpora.csv', delimiter='\\t')\\nreader = pd.read_csv('newsCorpora.csv', delimiter='\\t', header=None)\\nreader.drop([0,5,6,7], axis =1, inplace = True)\\nreader.columns = ['Title', 'Text','Page','Category']\\n#reader2 = reader.head(500)\\nreader.head()\""
      ]
     },
     "execution_count": 214,
     "metadata": {},
     "output_type": "execute_result"
    }
   ],
   "source": [
    "\"\"\"#reader = csv.reader('newsCorpora.csv', delimiter='\\t')\n",
    "reader = pd.read_csv('newsCorpora.csv', delimiter='\\t', header=None)\n",
    "reader.drop([0,5,6,7], axis =1, inplace = True)\n",
    "reader.columns = ['Title', 'Text','Page','Category']\n",
    "#reader2 = reader.head(500)\n",
    "reader.head()\"\"\""
   ]
  },
  {
   "cell_type": "code",
   "execution_count": 77,
   "metadata": {},
   "outputs": [],
   "source": [
    "\"\"\"# converts unicode value to corresponding ASCII value, not extensive!\n",
    "def unicodetoascii(text):\n",
    "    print(\"entering inside\")\n",
    "\n",
    "    TEXT = (text.\n",
    "            replace('\\xe2\\x80\\x99', \"'\").\n",
    "            replace('\\xc3\\xa9', 'e').\n",
    "            replace('\\xe2\\x80\\x90', '-').\n",
    "            replace('\\xe2\\x80\\x91', '-').\n",
    "            replace('\\xe2\\x80\\x92', '-').\n",
    "            replace('\\xe2\\x80\\x93', '-').\n",
    "            replace('\\xe2\\x80\\x94', '-').\n",
    "            replace('\\xe2\\x80\\x94', '-').\n",
    "            replace('\\xe2\\x80\\x98', \"'\").\n",
    "            replace('\\xe2\\x80\\x9b', \"'\").\n",
    "            replace('\\xe2\\x80\\x9c', '\"').\n",
    "            replace('\\xe2\\x80\\x9c', '\"').\n",
    "            replace('\\xe2\\x80\\x9d', '\"').\n",
    "            replace('\\xe2\\x80\\x9e', '\"').\n",
    "            replace('\\xe2\\x80\\x9f', '\"').\n",
    "            replace('\\xe2\\x80\\xa6', '...').\n",
    "            replace('\\xe2\\x80\\xb2', \"'\").\n",
    "            replace('\\xe2\\x80\\xb3', \"'\").\n",
    "            replace('\\xe2\\x80\\xb4', \"'\").\n",
    "            replace('\\xe2\\x80\\xb5', \"'\").\n",
    "            replace('\\xe2\\x80\\xb6', \"'\").\n",
    "            replace('\\xe2\\x80\\xb7', \"'\").\n",
    "            replace('\\xe2\\x81\\xba', \"+\").\n",
    "            replace('\\xe2\\x81\\xbb', \"-\").\n",
    "            replace('\\xe2\\x81\\xbc', \"=\").\n",
    "            replace('\\xe2\\x81\\xbd', \"(\").\n",
    "            replace('\\xe2\\x81\\xbe', \")\").\n",
    "            replace('\\n', \" \").\n",
    "            replace('\\'', \"'\"))\n",
    "    \n",
    "    return TEXT\"\"\""
   ]
  },
  {
   "cell_type": "code",
   "execution_count": 213,
   "metadata": {
    "scrolled": true
   },
   "outputs": [
    {
     "data": {
      "text/plain": [
       "'count_accepted = 0\\ntimeout = 10\\nwith open(\"output.csv\", \"w\", newline=\\'\\') as myfile:\\n    wr = csv.writer(myfile, quoting=csv.QUOTE_ALL)\\n    for index, row in reader.iterrows():\\n        url = row[\\'Text\\'].strip()\\n        #title = row[\\'Title\\']\\n        \\n        #print(\"url is \",row[\\'Text\\'])\\n        if((index>=65628) & (row[\\'Category\\'] == \\'m\\')):\\n        \\n            try:\\n                #print(\"url \",url)\\n\\n                socket.setdefaulttimeout(timeout)\\n                urllib2.urlopen(url)\\n                #print(\"pass1\")\\n                article = Article(url)\\n                #print(\"pass2\")\\n                article.download()\\n                #print(\"pass3\")\\n                article.parse()\\n                #print(\\'pass4\\')\\n                article_text = unicodetoascii(article.text)\\n                #print(\"pass5\")\\n                title = row[\\'Title\\']\\n                #print(\"pass6\")\\n                category = row[\\'Category\\']\\n                #print(\"pass7\")\\n                count_accepted = count_accepted+1\\n\\n                wr.writerow([title, article_text, category])\\n                print(count_accepted)\\n                #print(\"pass4\")\\n            except Exception as e:\\n                print(\"ignoring\")\\n        #print(\"---------------------------------\")\\nprint(count_accepted)'"
      ]
     },
     "execution_count": 213,
     "metadata": {},
     "output_type": "execute_result"
    }
   ],
   "source": [
    "\"\"\"count_accepted = 0\n",
    "timeout = 10\n",
    "with open(\"output.csv\", \"w\", newline='') as myfile:\n",
    "    wr = csv.writer(myfile, quoting=csv.QUOTE_ALL)\n",
    "    for index, row in reader.iterrows():\n",
    "        url = row['Text'].strip()\n",
    "        #title = row['Title']\n",
    "        \n",
    "        #print(\"url is \",row['Text'])\n",
    "        if((index>=65628) & (row['Category'] == 'm')):\n",
    "        \n",
    "            try:\n",
    "                #print(\"url \",url)\n",
    "\n",
    "                socket.setdefaulttimeout(timeout)\n",
    "                urllib2.urlopen(url)\n",
    "                #print(\"pass1\")\n",
    "                article = Article(url)\n",
    "                #print(\"pass2\")\n",
    "                article.download()\n",
    "                #print(\"pass3\")\n",
    "                article.parse()\n",
    "                #print('pass4')\n",
    "                article_text = unicodetoascii(article.text)\n",
    "                #print(\"pass5\")\n",
    "                title = row['Title']\n",
    "                #print(\"pass6\")\n",
    "                category = row['Category']\n",
    "                #print(\"pass7\")\n",
    "                count_accepted = count_accepted+1\n",
    "\n",
    "                wr.writerow([title, article_text, category])\n",
    "                print(count_accepted)\n",
    "                #print(\"pass4\")\n",
    "            except Exception as e:\n",
    "                print(\"ignoring\")\n",
    "        #print(\"---------------------------------\")\n",
    "print(count_accepted)\"\"\""
   ]
  },
  {
   "cell_type": "code",
   "execution_count": 181,
   "metadata": {},
   "outputs": [
    {
     "data": {
      "text/html": [
       "<div>\n",
       "<style scoped>\n",
       "    .dataframe tbody tr th:only-of-type {\n",
       "        vertical-align: middle;\n",
       "    }\n",
       "\n",
       "    .dataframe tbody tr th {\n",
       "        vertical-align: top;\n",
       "    }\n",
       "\n",
       "    .dataframe thead th {\n",
       "        text-align: right;\n",
       "    }\n",
       "</style>\n",
       "<table border=\"1\" class=\"dataframe\">\n",
       "  <thead>\n",
       "    <tr style=\"text-align: right;\">\n",
       "      <th></th>\n",
       "      <th>Title</th>\n",
       "      <th>Text</th>\n",
       "      <th>Category</th>\n",
       "      <th>text</th>\n",
       "    </tr>\n",
       "  </thead>\n",
       "  <tbody>\n",
       "    <tr>\n",
       "      <th>0</th>\n",
       "      <td>Fed's Charles Plosser sees high bar for change...</td>\n",
       "      <td>Paris/London/Atlanta: Federal Reserve Bank of ...</td>\n",
       "      <td>b</td>\n",
       "      <td>Fed's Charles Plosser sees high bar for change...</td>\n",
       "    </tr>\n",
       "    <tr>\n",
       "      <th>1</th>\n",
       "      <td>Fed's Plosser: Nasty Weather Has Curbed Job Gr...</td>\n",
       "      <td>Severe winter weather likely affected U.S. job...</td>\n",
       "      <td>b</td>\n",
       "      <td>Fed's Plosser: Nasty Weather Has Curbed Job Gr...</td>\n",
       "    </tr>\n",
       "    <tr>\n",
       "      <th>2</th>\n",
       "      <td>Plosser: Fed May Have to Accelerate Tapering Pace</td>\n",
       "      <td>Entrepreneurship is about being a bulldog but ...</td>\n",
       "      <td>b</td>\n",
       "      <td>Plosser: Fed May Have to Accelerate Tapering P...</td>\n",
       "    </tr>\n",
       "    <tr>\n",
       "      <th>3</th>\n",
       "      <td>Fed's Plosser: Taper pace may be too slow</td>\n",
       "      <td>PARISn — The Federal Reserve may have to accel...</td>\n",
       "      <td>b</td>\n",
       "      <td>Fed's Plosser: Taper pace may be too slow PARI...</td>\n",
       "    </tr>\n",
       "    <tr>\n",
       "      <th>4</th>\n",
       "      <td>Fed's Plosser expects US unemployment to fall ...</td>\n",
       "      <td>FXStreet (Łódź) - Philadelphia Fed President C...</td>\n",
       "      <td>b</td>\n",
       "      <td>Fed's Plosser expects US unemployment to fall ...</td>\n",
       "    </tr>\n",
       "  </tbody>\n",
       "</table>\n",
       "</div>"
      ],
      "text/plain": [
       "                                               Title  \\\n",
       "0  Fed's Charles Plosser sees high bar for change...   \n",
       "1  Fed's Plosser: Nasty Weather Has Curbed Job Gr...   \n",
       "2  Plosser: Fed May Have to Accelerate Tapering Pace   \n",
       "3          Fed's Plosser: Taper pace may be too slow   \n",
       "4  Fed's Plosser expects US unemployment to fall ...   \n",
       "\n",
       "                                                Text Category  \\\n",
       "0  Paris/London/Atlanta: Federal Reserve Bank of ...        b   \n",
       "1  Severe winter weather likely affected U.S. job...        b   \n",
       "2  Entrepreneurship is about being a bulldog but ...        b   \n",
       "3  PARISn — The Federal Reserve may have to accel...        b   \n",
       "4  FXStreet (Łódź) - Philadelphia Fed President C...        b   \n",
       "\n",
       "                                                text  \n",
       "0  Fed's Charles Plosser sees high bar for change...  \n",
       "1  Fed's Plosser: Nasty Weather Has Curbed Job Gr...  \n",
       "2  Plosser: Fed May Have to Accelerate Tapering P...  \n",
       "3  Fed's Plosser: Taper pace may be too slow PARI...  \n",
       "4  Fed's Plosser expects US unemployment to fall ...  "
      ]
     },
     "execution_count": 181,
     "metadata": {},
     "output_type": "execute_result"
    }
   ],
   "source": [
    "df = pd.read_csv('output2.csv')\n",
    "df.dropna(inplace=True)\n",
    "#df.columns = ['Title', 'text','Category']\n",
    "df['text'] = df[['Title', 'Text']].apply(lambda x: ' '.join(x), axis=1)\n",
    "df.head()"
   ]
  },
  {
   "cell_type": "code",
   "execution_count": 182,
   "metadata": {},
   "outputs": [
    {
     "data": {
      "text/plain": [
       "21774"
      ]
     },
     "execution_count": 182,
     "metadata": {},
     "output_type": "execute_result"
    }
   ],
   "source": [
    "len(df)"
   ]
  },
  {
   "cell_type": "code",
   "execution_count": 183,
   "metadata": {},
   "outputs": [
    {
     "data": {
      "text/html": [
       "<div>\n",
       "<style scoped>\n",
       "    .dataframe tbody tr th:only-of-type {\n",
       "        vertical-align: middle;\n",
       "    }\n",
       "\n",
       "    .dataframe tbody tr th {\n",
       "        vertical-align: top;\n",
       "    }\n",
       "\n",
       "    .dataframe thead th {\n",
       "        text-align: right;\n",
       "    }\n",
       "</style>\n",
       "<table border=\"1\" class=\"dataframe\">\n",
       "  <thead>\n",
       "    <tr style=\"text-align: right;\">\n",
       "      <th></th>\n",
       "      <th>Title</th>\n",
       "      <th>Text</th>\n",
       "      <th>Category</th>\n",
       "      <th>text</th>\n",
       "      <th>Count</th>\n",
       "    </tr>\n",
       "  </thead>\n",
       "  <tbody>\n",
       "    <tr>\n",
       "      <th>0</th>\n",
       "      <td>Fed's Charles Plosser sees high bar for change...</td>\n",
       "      <td>Paris/London/Atlanta: Federal Reserve Bank of ...</td>\n",
       "      <td>b</td>\n",
       "      <td>Fed's Charles Plosser sees high bar for change...</td>\n",
       "      <td>436</td>\n",
       "    </tr>\n",
       "    <tr>\n",
       "      <th>1</th>\n",
       "      <td>Fed's Plosser: Nasty Weather Has Curbed Job Gr...</td>\n",
       "      <td>Severe winter weather likely affected U.S. job...</td>\n",
       "      <td>b</td>\n",
       "      <td>Fed's Plosser: Nasty Weather Has Curbed Job Gr...</td>\n",
       "      <td>214</td>\n",
       "    </tr>\n",
       "    <tr>\n",
       "      <th>2</th>\n",
       "      <td>Plosser: Fed May Have to Accelerate Tapering Pace</td>\n",
       "      <td>Entrepreneurship is about being a bulldog but ...</td>\n",
       "      <td>b</td>\n",
       "      <td>Plosser: Fed May Have to Accelerate Tapering P...</td>\n",
       "      <td>19</td>\n",
       "    </tr>\n",
       "    <tr>\n",
       "      <th>3</th>\n",
       "      <td>Fed's Plosser: Taper pace may be too slow</td>\n",
       "      <td>PARISn — The Federal Reserve may have to accel...</td>\n",
       "      <td>b</td>\n",
       "      <td>Fed's Plosser: Taper pace may be too slow PARI...</td>\n",
       "      <td>302</td>\n",
       "    </tr>\n",
       "    <tr>\n",
       "      <th>4</th>\n",
       "      <td>Fed's Plosser expects US unemployment to fall ...</td>\n",
       "      <td>FXStreet (Łódź) - Philadelphia Fed President C...</td>\n",
       "      <td>b</td>\n",
       "      <td>Fed's Plosser expects US unemployment to fall ...</td>\n",
       "      <td>143</td>\n",
       "    </tr>\n",
       "  </tbody>\n",
       "</table>\n",
       "</div>"
      ],
      "text/plain": [
       "                                               Title  \\\n",
       "0  Fed's Charles Plosser sees high bar for change...   \n",
       "1  Fed's Plosser: Nasty Weather Has Curbed Job Gr...   \n",
       "2  Plosser: Fed May Have to Accelerate Tapering Pace   \n",
       "3          Fed's Plosser: Taper pace may be too slow   \n",
       "4  Fed's Plosser expects US unemployment to fall ...   \n",
       "\n",
       "                                                Text Category  \\\n",
       "0  Paris/London/Atlanta: Federal Reserve Bank of ...        b   \n",
       "1  Severe winter weather likely affected U.S. job...        b   \n",
       "2  Entrepreneurship is about being a bulldog but ...        b   \n",
       "3  PARISn — The Federal Reserve may have to accel...        b   \n",
       "4  FXStreet (Łódź) - Philadelphia Fed President C...        b   \n",
       "\n",
       "                                                text  Count  \n",
       "0  Fed's Charles Plosser sees high bar for change...    436  \n",
       "1  Fed's Plosser: Nasty Weather Has Curbed Job Gr...    214  \n",
       "2  Plosser: Fed May Have to Accelerate Tapering P...     19  \n",
       "3  Fed's Plosser: Taper pace may be too slow PARI...    302  \n",
       "4  Fed's Plosser expects US unemployment to fall ...    143  "
      ]
     },
     "execution_count": 183,
     "metadata": {},
     "output_type": "execute_result"
    }
   ],
   "source": [
    "df['Count'] = df['text'].str.split().apply(len)\n",
    "df.head()"
   ]
  },
  {
   "cell_type": "code",
   "execution_count": 184,
   "metadata": {},
   "outputs": [
    {
     "data": {
      "text/plain": [
       "19340"
      ]
     },
     "execution_count": 184,
     "metadata": {},
     "output_type": "execute_result"
    }
   ],
   "source": [
    "df_sub = df[~ (df['Count'] < 50)]\n",
    "len(df_sub)"
   ]
  },
  {
   "cell_type": "code",
   "execution_count": 185,
   "metadata": {},
   "outputs": [
    {
     "data": {
      "text/html": [
       "<div>\n",
       "<style scoped>\n",
       "    .dataframe tbody tr th:only-of-type {\n",
       "        vertical-align: middle;\n",
       "    }\n",
       "\n",
       "    .dataframe tbody tr th {\n",
       "        vertical-align: top;\n",
       "    }\n",
       "\n",
       "    .dataframe thead th {\n",
       "        text-align: right;\n",
       "    }\n",
       "</style>\n",
       "<table border=\"1\" class=\"dataframe\">\n",
       "  <thead>\n",
       "    <tr style=\"text-align: right;\">\n",
       "      <th></th>\n",
       "      <th>Title</th>\n",
       "      <th>Text</th>\n",
       "      <th>Category</th>\n",
       "      <th>text</th>\n",
       "      <th>Count</th>\n",
       "      <th>b</th>\n",
       "      <th>e</th>\n",
       "      <th>m</th>\n",
       "      <th>t</th>\n",
       "    </tr>\n",
       "  </thead>\n",
       "  <tbody>\n",
       "    <tr>\n",
       "      <th>0</th>\n",
       "      <td>Fed's Charles Plosser sees high bar for change...</td>\n",
       "      <td>Paris/London/Atlanta: Federal Reserve Bank of ...</td>\n",
       "      <td>b</td>\n",
       "      <td>Fed's Charles Plosser sees high bar for change...</td>\n",
       "      <td>436</td>\n",
       "      <td>1</td>\n",
       "      <td>0</td>\n",
       "      <td>0</td>\n",
       "      <td>0</td>\n",
       "    </tr>\n",
       "    <tr>\n",
       "      <th>1</th>\n",
       "      <td>Fed's Plosser: Nasty Weather Has Curbed Job Gr...</td>\n",
       "      <td>Severe winter weather likely affected U.S. job...</td>\n",
       "      <td>b</td>\n",
       "      <td>Fed's Plosser: Nasty Weather Has Curbed Job Gr...</td>\n",
       "      <td>214</td>\n",
       "      <td>1</td>\n",
       "      <td>0</td>\n",
       "      <td>0</td>\n",
       "      <td>0</td>\n",
       "    </tr>\n",
       "    <tr>\n",
       "      <th>3</th>\n",
       "      <td>Fed's Plosser: Taper pace may be too slow</td>\n",
       "      <td>PARISn — The Federal Reserve may have to accel...</td>\n",
       "      <td>b</td>\n",
       "      <td>Fed's Plosser: Taper pace may be too slow PARI...</td>\n",
       "      <td>302</td>\n",
       "      <td>1</td>\n",
       "      <td>0</td>\n",
       "      <td>0</td>\n",
       "      <td>0</td>\n",
       "    </tr>\n",
       "    <tr>\n",
       "      <th>4</th>\n",
       "      <td>Fed's Plosser expects US unemployment to fall ...</td>\n",
       "      <td>FXStreet (Łódź) - Philadelphia Fed President C...</td>\n",
       "      <td>b</td>\n",
       "      <td>Fed's Plosser expects US unemployment to fall ...</td>\n",
       "      <td>143</td>\n",
       "      <td>1</td>\n",
       "      <td>0</td>\n",
       "      <td>0</td>\n",
       "      <td>0</td>\n",
       "    </tr>\n",
       "    <tr>\n",
       "      <th>5</th>\n",
       "      <td>ECB unlikely to end sterilisation of SMP purch...</td>\n",
       "      <td>The best investment choice and insight around ...</td>\n",
       "      <td>b</td>\n",
       "      <td>ECB unlikely to end sterilisation of SMP purch...</td>\n",
       "      <td>206</td>\n",
       "      <td>1</td>\n",
       "      <td>0</td>\n",
       "      <td>0</td>\n",
       "      <td>0</td>\n",
       "    </tr>\n",
       "  </tbody>\n",
       "</table>\n",
       "</div>"
      ],
      "text/plain": [
       "                                               Title  \\\n",
       "0  Fed's Charles Plosser sees high bar for change...   \n",
       "1  Fed's Plosser: Nasty Weather Has Curbed Job Gr...   \n",
       "3          Fed's Plosser: Taper pace may be too slow   \n",
       "4  Fed's Plosser expects US unemployment to fall ...   \n",
       "5  ECB unlikely to end sterilisation of SMP purch...   \n",
       "\n",
       "                                                Text Category  \\\n",
       "0  Paris/London/Atlanta: Federal Reserve Bank of ...        b   \n",
       "1  Severe winter weather likely affected U.S. job...        b   \n",
       "3  PARISn — The Federal Reserve may have to accel...        b   \n",
       "4  FXStreet (Łódź) - Philadelphia Fed President C...        b   \n",
       "5  The best investment choice and insight around ...        b   \n",
       "\n",
       "                                                text  Count  b  e  m  t  \n",
       "0  Fed's Charles Plosser sees high bar for change...    436  1  0  0  0  \n",
       "1  Fed's Plosser: Nasty Weather Has Curbed Job Gr...    214  1  0  0  0  \n",
       "3  Fed's Plosser: Taper pace may be too slow PARI...    302  1  0  0  0  \n",
       "4  Fed's Plosser expects US unemployment to fall ...    143  1  0  0  0  \n",
       "5  ECB unlikely to end sterilisation of SMP purch...    206  1  0  0  0  "
      ]
     },
     "execution_count": 185,
     "metadata": {},
     "output_type": "execute_result"
    }
   ],
   "source": [
    "df_sub_dum = pd.get_dummies(df_sub['Category'])\n",
    "dataset = pd.concat([df_sub, df_sub_dum], axis=1)\n",
    "dataset.head()"
   ]
  },
  {
   "cell_type": "code",
   "execution_count": 186,
   "metadata": {},
   "outputs": [
    {
     "data": {
      "text/plain": [
       "e    5837\n",
       "b    4728\n",
       "m    4507\n",
       "t    4268\n",
       "Name: Category, dtype: int64"
      ]
     },
     "execution_count": 186,
     "metadata": {},
     "output_type": "execute_result"
    }
   ],
   "source": [
    "dataset['Category'].value_counts() "
   ]
  },
  {
   "cell_type": "code",
   "execution_count": 187,
   "metadata": {},
   "outputs": [
    {
     "data": {
      "text/html": [
       "<div>\n",
       "<style scoped>\n",
       "    .dataframe tbody tr th:only-of-type {\n",
       "        vertical-align: middle;\n",
       "    }\n",
       "\n",
       "    .dataframe tbody tr th {\n",
       "        vertical-align: top;\n",
       "    }\n",
       "\n",
       "    .dataframe thead th {\n",
       "        text-align: right;\n",
       "    }\n",
       "</style>\n",
       "<table border=\"1\" class=\"dataframe\">\n",
       "  <thead>\n",
       "    <tr style=\"text-align: right;\">\n",
       "      <th></th>\n",
       "      <th>Text</th>\n",
       "      <th>Category</th>\n",
       "      <th>text</th>\n",
       "      <th>b</th>\n",
       "      <th>e</th>\n",
       "      <th>m</th>\n",
       "      <th>t</th>\n",
       "    </tr>\n",
       "  </thead>\n",
       "  <tbody>\n",
       "    <tr>\n",
       "      <th>0</th>\n",
       "      <td>Paris/London/Atlanta: Federal Reserve Bank of ...</td>\n",
       "      <td>b</td>\n",
       "      <td>Fed's Charles Plosser sees high bar for change...</td>\n",
       "      <td>1</td>\n",
       "      <td>0</td>\n",
       "      <td>0</td>\n",
       "      <td>0</td>\n",
       "    </tr>\n",
       "    <tr>\n",
       "      <th>1</th>\n",
       "      <td>Severe winter weather likely affected U.S. job...</td>\n",
       "      <td>b</td>\n",
       "      <td>Fed's Plosser: Nasty Weather Has Curbed Job Gr...</td>\n",
       "      <td>1</td>\n",
       "      <td>0</td>\n",
       "      <td>0</td>\n",
       "      <td>0</td>\n",
       "    </tr>\n",
       "    <tr>\n",
       "      <th>3</th>\n",
       "      <td>PARISn — The Federal Reserve may have to accel...</td>\n",
       "      <td>b</td>\n",
       "      <td>Fed's Plosser: Taper pace may be too slow PARI...</td>\n",
       "      <td>1</td>\n",
       "      <td>0</td>\n",
       "      <td>0</td>\n",
       "      <td>0</td>\n",
       "    </tr>\n",
       "    <tr>\n",
       "      <th>4</th>\n",
       "      <td>FXStreet (Łódź) - Philadelphia Fed President C...</td>\n",
       "      <td>b</td>\n",
       "      <td>Fed's Plosser expects US unemployment to fall ...</td>\n",
       "      <td>1</td>\n",
       "      <td>0</td>\n",
       "      <td>0</td>\n",
       "      <td>0</td>\n",
       "    </tr>\n",
       "    <tr>\n",
       "      <th>5</th>\n",
       "      <td>The best investment choice and insight around ...</td>\n",
       "      <td>b</td>\n",
       "      <td>ECB unlikely to end sterilisation of SMP purch...</td>\n",
       "      <td>1</td>\n",
       "      <td>0</td>\n",
       "      <td>0</td>\n",
       "      <td>0</td>\n",
       "    </tr>\n",
       "  </tbody>\n",
       "</table>\n",
       "</div>"
      ],
      "text/plain": [
       "                                                Text Category  \\\n",
       "0  Paris/London/Atlanta: Federal Reserve Bank of ...        b   \n",
       "1  Severe winter weather likely affected U.S. job...        b   \n",
       "3  PARISn — The Federal Reserve may have to accel...        b   \n",
       "4  FXStreet (Łódź) - Philadelphia Fed President C...        b   \n",
       "5  The best investment choice and insight around ...        b   \n",
       "\n",
       "                                                text  b  e  m  t  \n",
       "0  Fed's Charles Plosser sees high bar for change...  1  0  0  0  \n",
       "1  Fed's Plosser: Nasty Weather Has Curbed Job Gr...  1  0  0  0  \n",
       "3  Fed's Plosser: Taper pace may be too slow PARI...  1  0  0  0  \n",
       "4  Fed's Plosser expects US unemployment to fall ...  1  0  0  0  \n",
       "5  ECB unlikely to end sterilisation of SMP purch...  1  0  0  0  "
      ]
     },
     "execution_count": 187,
     "metadata": {},
     "output_type": "execute_result"
    }
   ],
   "source": [
    "dataset.drop(['Title','Count'], axis =1, inplace = True)\n",
    "dataset.head()"
   ]
  },
  {
   "cell_type": "code",
   "execution_count": 188,
   "metadata": {},
   "outputs": [
    {
     "data": {
      "text/html": [
       "<div>\n",
       "<style scoped>\n",
       "    .dataframe tbody tr th:only-of-type {\n",
       "        vertical-align: middle;\n",
       "    }\n",
       "\n",
       "    .dataframe tbody tr th {\n",
       "        vertical-align: top;\n",
       "    }\n",
       "\n",
       "    .dataframe thead th {\n",
       "        text-align: right;\n",
       "    }\n",
       "</style>\n",
       "<table border=\"1\" class=\"dataframe\">\n",
       "  <thead>\n",
       "    <tr style=\"text-align: right;\">\n",
       "      <th></th>\n",
       "      <th>Text</th>\n",
       "      <th>Category</th>\n",
       "      <th>text</th>\n",
       "      <th>b</th>\n",
       "      <th>e</th>\n",
       "      <th>m</th>\n",
       "      <th>t</th>\n",
       "    </tr>\n",
       "  </thead>\n",
       "  <tbody>\n",
       "    <tr>\n",
       "      <th>0</th>\n",
       "      <td>An employee hugs an elephant at the Arlette Gr...</td>\n",
       "      <td>t</td>\n",
       "      <td>Elephants can gauge threat from human voices, ...</td>\n",
       "      <td>0</td>\n",
       "      <td>0</td>\n",
       "      <td>0</td>\n",
       "      <td>1</td>\n",
       "    </tr>\n",
       "    <tr>\n",
       "      <th>1</th>\n",
       "      <td>* Citigroup shares slump after Fed rejects cap...</td>\n",
       "      <td>b</td>\n",
       "      <td>US STOCKS-Wall St dips after data; Citi leads ...</td>\n",
       "      <td>1</td>\n",
       "      <td>0</td>\n",
       "      <td>0</td>\n",
       "      <td>0</td>\n",
       "    </tr>\n",
       "    <tr>\n",
       "      <th>2</th>\n",
       "      <td>The Medicare reimbursement data released this ...</td>\n",
       "      <td>m</td>\n",
       "      <td>Editorial: Throwing a light on Medicare billin...</td>\n",
       "      <td>0</td>\n",
       "      <td>0</td>\n",
       "      <td>1</td>\n",
       "      <td>0</td>\n",
       "    </tr>\n",
       "    <tr>\n",
       "      <th>3</th>\n",
       "      <td>The availability of free medication samples in...</td>\n",
       "      <td>m</td>\n",
       "      <td>Free drug samples can change prescribing habit...</td>\n",
       "      <td>0</td>\n",
       "      <td>0</td>\n",
       "      <td>1</td>\n",
       "      <td>0</td>\n",
       "    </tr>\n",
       "    <tr>\n",
       "      <th>4</th>\n",
       "      <td>A new study, published in Alcoholism: Clinical...</td>\n",
       "      <td>m</td>\n",
       "      <td>New research explains why binge drinking prolo...</td>\n",
       "      <td>0</td>\n",
       "      <td>0</td>\n",
       "      <td>1</td>\n",
       "      <td>0</td>\n",
       "    </tr>\n",
       "  </tbody>\n",
       "</table>\n",
       "</div>"
      ],
      "text/plain": [
       "                                                Text Category  \\\n",
       "0  An employee hugs an elephant at the Arlette Gr...        t   \n",
       "1  * Citigroup shares slump after Fed rejects cap...        b   \n",
       "2  The Medicare reimbursement data released this ...        m   \n",
       "3  The availability of free medication samples in...        m   \n",
       "4  A new study, published in Alcoholism: Clinical...        m   \n",
       "\n",
       "                                                text  b  e  m  t  \n",
       "0  Elephants can gauge threat from human voices, ...  0  0  0  1  \n",
       "1  US STOCKS-Wall St dips after data; Citi leads ...  1  0  0  0  \n",
       "2  Editorial: Throwing a light on Medicare billin...  0  0  1  0  \n",
       "3  Free drug samples can change prescribing habit...  0  0  1  0  \n",
       "4  New research explains why binge drinking prolo...  0  0  1  0  "
      ]
     },
     "execution_count": 188,
     "metadata": {},
     "output_type": "execute_result"
    }
   ],
   "source": [
    "dataset = dataset.sample(frac=1).reset_index(drop=True)\n",
    "dataset.head()"
   ]
  },
  {
   "cell_type": "code",
   "execution_count": 189,
   "metadata": {},
   "outputs": [],
   "source": [
    "import numpy as np # linear algebra\n",
    "import pandas as pd # data processing, CSV file I/O (e.g. pd.read_csv)\n",
    "from sklearn.cluster import KMeans \n",
    "from sklearn.feature_extraction.text import TfidfVectorizer\n",
    "from sklearn.decomposition import PCA\n",
    "from sklearn.preprocessing import normalize\n",
    "from sklearn.metrics import pairwise_distances\n",
    "from nltk.tokenize import word_tokenize\n",
    "from nltk.stem.porter import PorterStemmer\n",
    "from nltk.corpus import stopwords\n",
    "from bs4 import BeautifulSoup\n",
    "from scipy.stats import multivariate_normal as mvn\n",
    "import nltk\n",
    "import os\n",
    "import random\n",
    "import matplotlib.pyplot as plt\n",
    "%matplotlib inline\n",
    "plt.style.use('fivethirtyeight')"
   ]
  },
  {
   "cell_type": "code",
   "execution_count": 190,
   "metadata": {},
   "outputs": [
    {
     "name": "stdout",
     "output_type": "stream",
     "text": [
      "19340\n",
      "0    Elephants can gauge threat from human voices, ...\n",
      "1    US STOCKS-Wall St dips after data; Citi leads ...\n",
      "2    Editorial: Throwing a light on Medicare billin...\n",
      "3    Free drug samples can change prescribing habit...\n",
      "4    New research explains why binge drinking prolo...\n",
      "Name: text, dtype: object\n",
      "19340\n"
     ]
    },
    {
     "name": "stderr",
     "output_type": "stream",
     "text": [
      "/Users/snehachoudhary/anaconda3/lib/python3.7/site-packages/sklearn/feature_extraction/text.py:385: UserWarning: Your stop_words may be inconsistent with your preprocessing. Tokenizing the stop words generated tokens ['abov', 'ani', 'arent', 'becaus', 'befor', 'couldnt', 'didnt', 'doe', 'doesnt', 'dont', 'dure', 'ha', 'hadnt', 'hasnt', 'havent', 'hi', 'isnt', 'mightnt', 'mustnt', 'neednt', 'onc', 'onli', 'ourselv', 'shant', 'shouldnt', 'shouldv', 'thatll', 'themselv', 'thi', 'veri', 'wa', 'wasnt', 'werent', 'whi', 'wont', 'wouldnt', 'youd', 'youll', 'yourselv', 'youv'] not in stop_words.\n",
      "  'stop_words.' % sorted(inconsistent))\n"
     ]
    },
    {
     "name": "stdout",
     "output_type": "stream",
     "text": [
      "CPU times: user 2min 14s, sys: 302 ms, total: 2min 14s\n",
      "Wall time: 2min 14s\n"
     ]
    }
   ],
   "source": [
    "from sklearn.feature_extraction.text import TfidfVectorizer\n",
    "import pandas as pd\n",
    "import string\n",
    "from nltk.corpus import stopwords\n",
    "stop_words = set(stopwords.words('english'))\n",
    "trans_table = {ord(c): None for c in string.punctuation + string.digits}    \n",
    "stemmer = PorterStemmer()\n",
    "#dataset = pd.read_csv('articles.csv')\n",
    "def tokenize(text):\n",
    "        # my text was unicode so I had to use the unicode-specific translate function. If your documents are strings, you will need to use a different `translate` function here. `Translated` here just does search-replace. See the trans_table: any matching character in the set is replaced with `None`\n",
    "        tokens = [word for word in nltk.word_tokenize(text.translate(trans_table)) if len(word) > 1] #if len(word) > 1 because I only want to retain words that are at least two characters before stemming, although I can't think of any such words that are not also stopwords\n",
    "        stems = [stemmer.stem(item) for item in tokens]\n",
    "        return stems\n",
    "docs = []\n",
    "df_docs = dataset[dataset['text'].notnull()]\n",
    "\"\"\"for row_val in df_docs['body']:\n",
    "    val = str(row_val).split(',')\n",
    "    docs.append(''.join(val))\n",
    "    \"\"\"\n",
    "print(len(df_docs))\n",
    "#df_docs['text'] = df_docs['text'].str.replace('\\n',' ')\n",
    "\n",
    "data = dataset['text']\n",
    "print(data.head())\n",
    "print(len(data))\n",
    "\n",
    "tf_idf_vectorizor = TfidfVectorizer(stop_words = stop_words, tokenizer=tokenize,\n",
    "                             max_features = 5000)\n",
    "%time tf_idf = tf_idf_vectorizor.fit_transform(data)\n",
    "tf_idf_norm = normalize(tf_idf)\n",
    "tf_idf_array = tf_idf_norm.toarray()\n",
    "df_tfidf = pd.DataFrame(tf_idf_array, columns=tf_idf_vectorizor.get_feature_names()).head()"
   ]
  },
  {
   "cell_type": "code",
   "execution_count": 191,
   "metadata": {},
   "outputs": [],
   "source": [
    "class Kmeans:\n",
    "    \"\"\" K Means Clustering\n",
    "    \n",
    "    Parameters\n",
    "    -----------\n",
    "        k: int , number of clusters\n",
    "        \n",
    "        seed: int, will be randomly set if None\n",
    "        \n",
    "        max_iter: int, number of iterations to run algorithm, default: 200\n",
    "        \n",
    "    Attributes\n",
    "    -----------\n",
    "       centroids: array, k, number_features\n",
    "       \n",
    "       cluster_labels: label for each data point\n",
    "       \n",
    "    \"\"\"\n",
    "    \n",
    "    def __init__(self, k, seed = None, max_iter = 200):\n",
    "        self.k = k\n",
    "        self.seed = seed\n",
    "        if self.seed is not None:\n",
    "            np.random.seed(self.seed)\n",
    "        self.max_iter = max_iter\n",
    "    def initialise_centroids(self, data):\n",
    "        \"\"\"Randomly Initialise Centroids\n",
    "        \n",
    "        Parameters\n",
    "        ----------\n",
    "        data: array or matrix, number_rows, number_features\n",
    "        \n",
    "        Returns\n",
    "        --------\n",
    "        centroids: array of k centroids chosen as random data points \n",
    "        \"\"\"\n",
    "        \n",
    "        initial_centroids = np.random.permutation(data.shape[0])[:self.k]\n",
    "        self.centroids = data[initial_centroids]\n",
    "\n",
    "        return self.centroids\n",
    "    \n",
    "    \n",
    "    def assign_clusters(self, data):\n",
    "        \"\"\"Compute distance of data from clusters and assign data point\n",
    "           to closest cluster.\n",
    "        \n",
    "        Parameters\n",
    "        ----------\n",
    "        data: array or matrix, number_rows, number_features\n",
    "        \n",
    "        Returns\n",
    "        --------\n",
    "        cluster_labels: index which minmises the distance of data to each\n",
    "        cluster\n",
    "            \n",
    "        \"\"\"\n",
    "        if data.ndim == 1:\n",
    "            data = data.reshape(-1, 1)\n",
    "        \n",
    "        dist_to_centroid =  pairwise_distances(data, self.centroids, metric = 'euclidean')\n",
    "        self.cluster_labels = np.argmin(dist_to_centroid, axis = 1)\n",
    "        \n",
    "        return  self.cluster_labels\n",
    "    def update_centroids(self, data):\n",
    "        \"\"\"Computes average of all data points in cluster and\n",
    "           assigns new centroids as average of data points\n",
    "        \n",
    "        Parameters\n",
    "        -----------\n",
    "        data: array or matrix, number_rows, number_features\n",
    "        \n",
    "        Returns\n",
    "        -----------\n",
    "        centroids: array, k, number_features\n",
    "        \"\"\"\n",
    "        \n",
    "        self.centroids = np.array([data[self.cluster_labels == i].mean(axis = 0) for i in range(self.k)])\n",
    "        \n",
    "        return self.centroids\n",
    "    \n",
    "    \n",
    "    def convergence_calculation(self):\n",
    "        \"\"\"\n",
    "        Calculates \n",
    "        \n",
    "        \"\"\"\n",
    "        pass\n",
    "    def predict(self, data):\n",
    "        \"\"\"Predict which cluster data point belongs to\n",
    "        \n",
    "        Parameters\n",
    "        ----------\n",
    "        data: array or matrix, number_rows, number_features\n",
    "        \n",
    "        Returns\n",
    "        --------\n",
    "        cluster_labels: index which minmises the distance of data to each\n",
    "        cluster\n",
    "        \"\"\"\n",
    "        \n",
    "        return self.assign_clusters(data)\n",
    "    def fit_kmeans(self, data):\n",
    "        \"\"\"\n",
    "        This function contains the main loop to fit the algorithm\n",
    "        Implements initialise centroids and update_centroids\n",
    "        according to max_iter\n",
    "        -----------------------\n",
    "        \n",
    "        Returns\n",
    "        -------\n",
    "        instance of kmeans class\n",
    "            \n",
    "        \"\"\"\n",
    "        self.centroids = self.initialise_centroids(data)\n",
    "        # Main kmeans loop\n",
    "        for iter in range(self.max_iter):\n",
    "\n",
    "            self.cluster_labels = self.assign_clusters(data)\n",
    "            self.centroids = self.update_centroids(data)          \n",
    "            if iter % 100 == 0:\n",
    "                print(\"Running Model Iteration %d \" %iter)\n",
    "        print(\"Model finished running\")\n",
    "        return self"
   ]
  },
  {
   "cell_type": "code",
   "execution_count": 203,
   "metadata": {},
   "outputs": [
    {
     "name": "stdout",
     "output_type": "stream",
     "text": [
      "CPU times: user 907 ms, sys: 15 ms, total: 922 ms\n",
      "Wall time: 175 ms\n"
     ]
    },
    {
     "data": {
      "image/png": "[encoded data removed]",
      "text/plain": [
       "<Figure size 432x288 with 1 Axes>"
      ]
     },
     "metadata": {},
     "output_type": "display_data"
    }
   ],
   "source": [
    "from sklearn.cluster import KMeans\n",
    "n_clusters = 4\n",
    "sklearn_pca = PCA(n_components = 2)\n",
    "Y_sklearn = sklearn_pca.fit_transform(tf_idf_array)\n",
    "kmeans = KMeans(n_clusters= n_clusters, max_iter=600, algorithm = 'auto')\n",
    "%time fitted = kmeans.fit(Y_sklearn)\n",
    "prediction = kmeans.predict(Y_sklearn)\n",
    "#%time fitted = kmeans.fit(tf_idf_array)\n",
    "#prediction = kmeans.predict(tf_idf_array)\n",
    "plt.scatter(Y_sklearn[:, 0], Y_sklearn[:, 1],c=prediction ,s=50, cmap='viridis')\n",
    "\n",
    "centers2 = fitted.cluster_centers_\n",
    "plt.scatter(centers2[:, 0], centers2[:, 1],c='black', s=300, alpha=0.6);"
   ]
  },
  {
   "cell_type": "code",
   "execution_count": 204,
   "metadata": {},
   "outputs": [],
   "source": [
    "\n",
    "def get_top_features_cluster(tf_idf_array, prediction, n_feats):\n",
    "    labels = np.unique(prediction)\n",
    "    dfs = []\n",
    "    for label in labels:\n",
    "        id_temp = np.where(prediction==label) # indices for each cluster\n",
    "        x_means = np.mean(tf_idf_array[id_temp], axis = 0) # returns average score across cluster\n",
    "        sorted_means = np.argsort(x_means)[::-1][:n_feats] # indices with top 20 scores\n",
    "        features = tf_idf_vectorizor.get_feature_names()\n",
    "        best_features = [(features[i], x_means[i]) for i in sorted_means]\n",
    "        df = pd.DataFrame(best_features, columns = ['features', 'score'])\n",
    "        dfs.append(df)\n",
    "    return dfs\n",
    "dfs = get_top_features_cluster(tf_idf_array, prediction, 20)"
   ]
  },
  {
   "cell_type": "code",
   "execution_count": 205,
   "metadata": {},
   "outputs": [
    {
     "data": {
      "text/plain": [
       "<matplotlib.axes._subplots.AxesSubplot at 0x1a8ecf4a8>"
      ]
     },
     "execution_count": 205,
     "metadata": {},
     "output_type": "execute_result"
    },
    {
     "data": {
      "image/png": "[encoded data removed]",
      "text/plain": [
       "<Figure size 576x432 with 1 Axes>"
      ]
     },
     "metadata": {},
     "output_type": "display_data"
    }
   ],
   "source": [
    "import seaborn as sns\n",
    "plt.figure(figsize=(8,6))\n",
    "sns.barplot(x = 'score' , y = 'features', orient = 'h' , data = dfs[0][:15])"
   ]
  },
  {
   "cell_type": "code",
   "execution_count": 206,
   "metadata": {},
   "outputs": [
    {
     "data": {
      "image/png": "[encoded data removed]",
      "text/plain": [
       "<Figure size 1008x864 with 4 Axes>"
      ]
     },
     "metadata": {},
     "output_type": "display_data"
    }
   ],
   "source": [
    "def plot_features(dfs):\n",
    "    fig = plt.figure(figsize=(14,12))\n",
    "    x = np.arange(len(dfs[0]))\n",
    "    for i, df in enumerate(dfs):\n",
    "        ax = fig.add_subplot(1, len(dfs), i+1)\n",
    "        ax.set_title(\"Cluster: \"+ str(i), fontsize = 14)\n",
    "        ax.spines[\"top\"].set_visible(False)\n",
    "        ax.spines[\"right\"].set_visible(False)\n",
    "        ax.set_frame_on(False)\n",
    "        ax.get_xaxis().tick_bottom()\n",
    "        ax.get_yaxis().tick_left()\n",
    "        ax.ticklabel_format(axis='x', style='sci', scilimits=(-2,2))\n",
    "        ax.barh(x, df.score, align='center', color='#40826d')\n",
    "        yticks = ax.set_yticklabels(df.features)\n",
    "    plt.show();\n",
    "plot_features(dfs)"
   ]
  },
  {
   "cell_type": "code",
   "execution_count": 207,
   "metadata": {},
   "outputs": [
    {
     "data": {
      "text/plain": [
       "\"lis = []\\nfor row in prediction:\\n    if(row == 0):\\n        lis.append('b')\\n    elif(row == 1):\\n        lis.append('t')\\n    elif(row == 2):\\n        lis.append('e')\\n    elif(row == 3):\\n        lis.append('m')\""
      ]
     },
     "execution_count": 207,
     "metadata": {},
     "output_type": "execute_result"
    }
   ],
   "source": [
    "\"\"\"lis = []\n",
    "for row in prediction:\n",
    "    if(row == 0):\n",
    "        lis.append('b')\n",
    "    elif(row == 1):\n",
    "        lis.append('t')\n",
    "    elif(row == 2):\n",
    "        lis.append('e')\n",
    "    elif(row == 3):\n",
    "        lis.append('m')\"\"\""
   ]
  },
  {
   "cell_type": "code",
   "execution_count": 208,
   "metadata": {},
   "outputs": [],
   "source": [
    "#df1=pd.DataFrame(lis, columns=['pred'])"
   ]
  },
  {
   "cell_type": "code",
   "execution_count": 209,
   "metadata": {},
   "outputs": [],
   "source": [
    "#df_final = pd.concat([dataset,df1],axis=1)\n",
    "#df_final.to_csv('out_final.csv',index = False)\n",
    "#df_final.head()"
   ]
  },
  {
   "cell_type": "code",
   "execution_count": 210,
   "metadata": {},
   "outputs": [],
   "source": [
    "lis = []\n",
    "for row in dataset['Category']:\n",
    "    if(row == 'm'):\n",
    "        lis.append(3)\n",
    "    if(row == 'b'):\n",
    "        lis.append(1)\n",
    "    if(row == 'e'):\n",
    "        lis.append(2)\n",
    "    if(row == 't'):\n",
    "        lis.append(0)"
   ]
  },
  {
   "cell_type": "code",
   "execution_count": 211,
   "metadata": {},
   "outputs": [
    {
     "data": {
      "text/plain": [
       "array([[2124, 1011, 1003,  130],\n",
       "       [ 300, 3371,  519,  538],\n",
       "       [  31,   69, 5722,   15],\n",
       "       [   1,  533,  782, 3191]])"
      ]
     },
     "execution_count": 211,
     "metadata": {},
     "output_type": "execute_result"
    }
   ],
   "source": [
    "from sklearn.metrics import confusion_matrix\n",
    "confusion_matrix(lis, prediction)"
   ]
  },
  {
   "cell_type": "code",
   "execution_count": 212,
   "metadata": {},
   "outputs": [
    {
     "data": {
      "text/html": [
       "<div>\n",
       "<style scoped>\n",
       "    .dataframe tbody tr th:only-of-type {\n",
       "        vertical-align: middle;\n",
       "    }\n",
       "\n",
       "    .dataframe tbody tr th {\n",
       "        vertical-align: top;\n",
       "    }\n",
       "\n",
       "    .dataframe thead th {\n",
       "        text-align: right;\n",
       "    }\n",
       "</style>\n",
       "<table border=\"1\" class=\"dataframe\">\n",
       "  <thead>\n",
       "    <tr style=\"text-align: right;\">\n",
       "      <th></th>\n",
       "      <th>precision</th>\n",
       "      <th>recall</th>\n",
       "      <th>f1-score</th>\n",
       "      <th>support</th>\n",
       "    </tr>\n",
       "  </thead>\n",
       "  <tbody>\n",
       "    <tr>\n",
       "      <th>Medical</th>\n",
       "      <td>0.864821</td>\n",
       "      <td>0.497657</td>\n",
       "      <td>0.631767</td>\n",
       "      <td>4268.000000</td>\n",
       "    </tr>\n",
       "    <tr>\n",
       "      <th>Business</th>\n",
       "      <td>0.676364</td>\n",
       "      <td>0.712986</td>\n",
       "      <td>0.694193</td>\n",
       "      <td>4728.000000</td>\n",
       "    </tr>\n",
       "    <tr>\n",
       "      <th>Entertainment</th>\n",
       "      <td>0.712933</td>\n",
       "      <td>0.980298</td>\n",
       "      <td>0.825507</td>\n",
       "      <td>5837.000000</td>\n",
       "    </tr>\n",
       "    <tr>\n",
       "      <th>Technology</th>\n",
       "      <td>0.823696</td>\n",
       "      <td>0.708010</td>\n",
       "      <td>0.761484</td>\n",
       "      <td>4507.000000</td>\n",
       "    </tr>\n",
       "    <tr>\n",
       "      <th>accuracy</th>\n",
       "      <td>0.744984</td>\n",
       "      <td>0.744984</td>\n",
       "      <td>0.744984</td>\n",
       "      <td>0.744984</td>\n",
       "    </tr>\n",
       "    <tr>\n",
       "      <th>macro avg</th>\n",
       "      <td>0.769454</td>\n",
       "      <td>0.724738</td>\n",
       "      <td>0.728238</td>\n",
       "      <td>19340.000000</td>\n",
       "    </tr>\n",
       "    <tr>\n",
       "      <th>weighted avg</th>\n",
       "      <td>0.763324</td>\n",
       "      <td>0.744984</td>\n",
       "      <td>0.735730</td>\n",
       "      <td>19340.000000</td>\n",
       "    </tr>\n",
       "  </tbody>\n",
       "</table>\n",
       "</div>"
      ],
      "text/plain": [
       "               precision    recall  f1-score       support\n",
       "Medical         0.864821  0.497657  0.631767   4268.000000\n",
       "Business        0.676364  0.712986  0.694193   4728.000000\n",
       "Entertainment   0.712933  0.980298  0.825507   5837.000000\n",
       "Technology      0.823696  0.708010  0.761484   4507.000000\n",
       "accuracy        0.744984  0.744984  0.744984      0.744984\n",
       "macro avg       0.769454  0.724738  0.728238  19340.000000\n",
       "weighted avg    0.763324  0.744984  0.735730  19340.000000"
      ]
     },
     "execution_count": 212,
     "metadata": {},
     "output_type": "execute_result"
    }
   ],
   "source": [
    "from sklearn.metrics import classification_report\n",
    "report = classification_report(lis, prediction, target_names = ['Medical','Business','Entertainment','Technology'], output_dict=True)\n",
    "df = pd.DataFrame(report).transpose()\n",
    "df"
   ]
  },
  {
   "cell_type": "code",
   "execution_count": null,
   "metadata": {},
   "outputs": [],
   "source": []
  }
 ],
 "metadata": {
  "kernelspec": {
   "display_name": "Python 3",
   "language": "python",
   "name": "python3"
  },
  "language_info": {
   "codemirror_mode": {
    "name": "ipython",
    "version": 3
   },
   "file_extension": ".py",
   "mimetype": "text/x-python",
   "name": "python",
   "nbconvert_exporter": "python",
   "pygments_lexer": "ipython3",
   "version": "3.7.3"
  }
 },
 "nbformat": 4,
 "nbformat_minor": 2
}
