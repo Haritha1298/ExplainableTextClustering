{
 "cells": [
  {
   "cell_type": "code",
   "execution_count": 50,
   "metadata": {},
   "outputs": [],
   "source": [
    "import numpy as np\n",
    "import pandas as pd\n",
    "import string\n",
    "import nltk\n",
    "import threading # will potentially use multi-threading\n",
    "from nltk.stem.porter import *\n",
    "from nltk.corpus import stopwords\n",
    "from sklearn.feature_extraction.text import CountVectorizer\n",
    "from nltk.corpus import wordnet"
   ]
  },
  {
   "cell_type": "code",
   "execution_count": 32,
   "metadata": {},
   "outputs": [],
   "source": [
    "df_docs = pd.read_csv('Documents_Complete.csv')"
   ]
  },
  {
   "cell_type": "code",
   "execution_count": 33,
   "metadata": {},
   "outputs": [
    {
     "data": {
      "text/html": [
       "<div>\n",
       "<style scoped>\n",
       "    .dataframe tbody tr th:only-of-type {\n",
       "        vertical-align: middle;\n",
       "    }\n",
       "\n",
       "    .dataframe tbody tr th {\n",
       "        vertical-align: top;\n",
       "    }\n",
       "\n",
       "    .dataframe thead th {\n",
       "        text-align: right;\n",
       "    }\n",
       "</style>\n",
       "<table border=\"1\" class=\"dataframe\">\n",
       "  <thead>\n",
       "    <tr style=\"text-align: right;\">\n",
       "      <th></th>\n",
       "      <th>body</th>\n",
       "      <th>places</th>\n",
       "      <th>title</th>\n",
       "      <th>topics</th>\n",
       "    </tr>\n",
       "  </thead>\n",
       "  <tbody>\n",
       "    <tr>\n",
       "      <th>0</th>\n",
       "      <td>said, expect, earlier, report, remov, jone, in...</td>\n",
       "      <td>canada</td>\n",
       "      <td>major, impact, remov</td>\n",
       "      <td>NaN</td>\n",
       "    </tr>\n",
       "    <tr>\n",
       "      <th>1</th>\n",
       "      <td>mason, former, presid, chief, oper, offic, emp...</td>\n",
       "      <td>usa</td>\n",
       "      <td>former, empir, carolina, exec, sentenc</td>\n",
       "      <td>NaN</td>\n",
       "    </tr>\n",
       "    <tr>\n",
       "      <th>2</th>\n",
       "      <td>discoveri, complic, search, vaccin, team, armi...</td>\n",
       "      <td>usa</td>\n",
       "      <td>doctor, find, link, smallpox, viru</td>\n",
       "      <td>NaN</td>\n",
       "    </tr>\n",
       "    <tr>\n",
       "      <th>3</th>\n",
       "      <td>doctor, center, diseas, control, atlanta, said...</td>\n",
       "      <td>usa</td>\n",
       "      <td>birth, control, pill, help, prevent, cancer, s...</td>\n",
       "      <td>NaN</td>\n",
       "    </tr>\n",
       "    <tr>\n",
       "      <th>4</th>\n",
       "      <td>econom, data, week, determin, interest, rate, ...</td>\n",
       "      <td>usa</td>\n",
       "      <td>econom, data, debt, futur, outlook</td>\n",
       "      <td>interest, retail, ipi</td>\n",
       "    </tr>\n",
       "    <tr>\n",
       "      <th>5</th>\n",
       "      <td>reagan, administr, respond, last, year, unit, ...</td>\n",
       "      <td>usa</td>\n",
       "      <td>action, program, africa</td>\n",
       "      <td>NaN</td>\n",
       "    </tr>\n",
       "    <tr>\n",
       "      <th>6</th>\n",
       "      <td>novel, type, financ, texa, instrument, market,...</td>\n",
       "      <td>usa</td>\n",
       "      <td>unusu, texa, instrument, prefer, price</td>\n",
       "      <td>NaN</td>\n",
       "    </tr>\n",
       "    <tr>\n",
       "      <th>7</th>\n",
       "      <td>canadian, foreign, secretari, clark, wind, vis...</td>\n",
       "      <td>usa, canada</td>\n",
       "      <td>clark, expect, action, acid, rain</td>\n",
       "      <td>NaN</td>\n",
       "    </tr>\n",
       "    <tr>\n",
       "      <th>8</th>\n",
       "      <td>ford, motor, said, check, distribut, employe, ...</td>\n",
       "      <td>usa</td>\n",
       "      <td>ford, motor, distribut, profit, share</td>\n",
       "      <td>NaN</td>\n",
       "    </tr>\n",
       "    <tr>\n",
       "      <th>9</th>\n",
       "      <td>jamaica, billion, foreign, debt, reduc, oblig,...</td>\n",
       "      <td>jamaica</td>\n",
       "      <td>jamaica, borrow</td>\n",
       "      <td>NaN</td>\n",
       "    </tr>\n",
       "    <tr>\n",
       "      <th>10</th>\n",
       "      <td>team, california, research, said, develop, bet...</td>\n",
       "      <td>usa</td>\n",
       "      <td>faster, test, sickl, cell, anemia, develop</td>\n",
       "      <td>NaN</td>\n",
       "    </tr>\n",
       "    <tr>\n",
       "      <th>11</th>\n",
       "      <td>loss, profit, three, profit, profit, year, per...</td>\n",
       "      <td>canada</td>\n",
       "      <td>bank, british, columbia</td>\n",
       "      <td>earn</td>\n",
       "    </tr>\n",
       "    <tr>\n",
       "      <th>12</th>\n",
       "      <td>albert, hakim, merchant, first, player, iran, ...</td>\n",
       "      <td>usa, iran</td>\n",
       "      <td>scandal, particip, immun, offer</td>\n",
       "      <td>NaN</td>\n",
       "    </tr>\n",
       "    <tr>\n",
       "      <th>13</th>\n",
       "      <td>year, note, includ, loss, share, restat, give,...</td>\n",
       "      <td>usa</td>\n",
       "      <td>restaur, associ</td>\n",
       "      <td>earn</td>\n",
       "    </tr>\n",
       "    <tr>\n",
       "      <th>14</th>\n",
       "      <td>loss, loss, year, loss, loss, loss, note, year...</td>\n",
       "      <td>usa</td>\n",
       "      <td>michigan, gener, corp</td>\n",
       "      <td>earn</td>\n",
       "    </tr>\n",
       "    <tr>\n",
       "      <th>15</th>\n",
       "      <td>corp, said, prove, reserv, natur, liquid, fell...</td>\n",
       "      <td>usa, libya</td>\n",
       "      <td>prove, reserv, fall</td>\n",
       "      <td>crude, nat-gas, iron-steel</td>\n",
       "    </tr>\n",
       "    <tr>\n",
       "      <th>16</th>\n",
       "      <td>petroleum, chairman, said, compani, stock, ran...</td>\n",
       "      <td>usa</td>\n",
       "      <td>stock, step, pare, debt</td>\n",
       "      <td>NaN</td>\n",
       "    </tr>\n",
       "    <tr>\n",
       "      <th>17</th>\n",
       "      <td>michigan, gener, corp, said, began, exchang, o...</td>\n",
       "      <td>usa</td>\n",
       "      <td>michigan, gener, begin, exchang, offer</td>\n",
       "      <td>NaN</td>\n",
       "    </tr>\n",
       "    <tr>\n",
       "      <th>18</th>\n",
       "      <td>bank, british, columbia, said, revis, estim, s...</td>\n",
       "      <td>canada</td>\n",
       "      <td>bank, revis, share, estim</td>\n",
       "      <td>earn</td>\n",
       "    </tr>\n",
       "    <tr>\n",
       "      <th>19</th>\n",
       "      <td>hous, vote, block, militari, nicaraguan, rebel...</td>\n",
       "      <td>usa</td>\n",
       "      <td>hous, vote, block, contra, month</td>\n",
       "      <td>NaN</td>\n",
       "    </tr>\n",
       "    <tr>\n",
       "      <th>20</th>\n",
       "      <td>year</td>\n",
       "      <td>canada</td>\n",
       "      <td>gold, mine</td>\n",
       "      <td>earn</td>\n",
       "    </tr>\n",
       "    <tr>\n",
       "      <th>21</th>\n",
       "      <td>argentin, meat, export, total, tonn, tonn, shi...</td>\n",
       "      <td>argentina</td>\n",
       "      <td>argentin, meat, export, higher</td>\n",
       "      <td>carcass, livestock</td>\n",
       "    </tr>\n",
       "    <tr>\n",
       "      <th>22</th>\n",
       "      <td>gold, mine, said, plan, common, stock, split, ...</td>\n",
       "      <td>canada</td>\n",
       "      <td>plan, stock, split</td>\n",
       "      <td>earn</td>\n",
       "    </tr>\n",
       "    <tr>\n",
       "      <th>23</th>\n",
       "      <td>vanzetti, system, said, sharehold, approv, inc...</td>\n",
       "      <td>usa</td>\n",
       "      <td>vanzetti, increas, share, approv</td>\n",
       "      <td>NaN</td>\n",
       "    </tr>\n",
       "    <tr>\n",
       "      <th>24</th>\n",
       "      <td>four, four, prior, april, record, march</td>\n",
       "      <td>usa</td>\n",
       "      <td>furnitur, corp, dividend</td>\n",
       "      <td>earn</td>\n",
       "    </tr>\n",
       "    <tr>\n",
       "      <th>25</th>\n",
       "      <td>hous, trade, lawmak, took, first, vote, measur...</td>\n",
       "      <td>usa</td>\n",
       "      <td>hous, panel, take, first, trade, bill, vote</td>\n",
       "      <td>trade</td>\n",
       "    </tr>\n",
       "    <tr>\n",
       "      <th>26</th>\n",
       "      <td>soviet, first, deputi, prime, minist, said, br...</td>\n",
       "      <td>france, ussr</td>\n",
       "      <td>soviet, minist, trade, boost, french</td>\n",
       "      <td>trade</td>\n",
       "    </tr>\n",
       "    <tr>\n",
       "      <th>27</th>\n",
       "      <td>venezuela, suppli, ecuador, undetermin, amount...</td>\n",
       "      <td>ecuador, venezuela</td>\n",
       "      <td>venezuela, lend, ecuador, export</td>\n",
       "      <td>crude</td>\n",
       "    </tr>\n",
       "    <tr>\n",
       "      <th>28</th>\n",
       "      <td>profit, profit, profit, profit, month, profit,...</td>\n",
       "      <td>usa</td>\n",
       "      <td>eagl, cloth</td>\n",
       "      <td>earn</td>\n",
       "    </tr>\n",
       "    <tr>\n",
       "      <th>29</th>\n",
       "      <td>iraq, said, repel, iranian, attack, posit, hel...</td>\n",
       "      <td>iran, iraq</td>\n",
       "      <td>iraq, iran, attack, repuls, southern, front</td>\n",
       "      <td>NaN</td>\n",
       "    </tr>\n",
       "    <tr>\n",
       "      <th>...</th>\n",
       "      <td>...</td>\n",
       "      <td>...</td>\n",
       "      <td>...</td>\n",
       "      <td>...</td>\n",
       "    </tr>\n",
       "    <tr>\n",
       "      <th>20548</th>\n",
       "      <td>corp, said, sale, rose, three, month, august, ...</td>\n",
       "      <td>japan</td>\n",
       "      <td>sale, rise, electron, part, sale</td>\n",
       "      <td>NaN</td>\n",
       "    </tr>\n",
       "    <tr>\n",
       "      <th>20549</th>\n",
       "      <td>cabl, wireless, said, merg, telephon, cabl, wi...</td>\n",
       "      <td>hong-kong</td>\n",
       "      <td>cabl, wireless, detail, merger, unit</td>\n",
       "      <td>acq</td>\n",
       "    </tr>\n",
       "    <tr>\n",
       "      <th>20550</th>\n",
       "      <td>nine, month, august, group, group, billion, bi...</td>\n",
       "      <td>japan</td>\n",
       "      <td>group, nine, month</td>\n",
       "      <td>earn</td>\n",
       "    </tr>\n",
       "    <tr>\n",
       "      <th>20551</th>\n",
       "      <td>NaN</td>\n",
       "      <td>NaN</td>\n",
       "      <td>share, index, open, point, london, stock, exchang</td>\n",
       "      <td>NaN</td>\n",
       "    </tr>\n",
       "    <tr>\n",
       "      <th>20552</th>\n",
       "      <td>third, quarter, august, group, group, billion,...</td>\n",
       "      <td>japan</td>\n",
       "      <td>group, three, month, august</td>\n",
       "      <td>earn</td>\n",
       "    </tr>\n",
       "    <tr>\n",
       "      <th>20553</th>\n",
       "      <td>NaN</td>\n",
       "      <td>NaN</td>\n",
       "      <td>share, index, open, point, london, stock, exchang</td>\n",
       "      <td>NaN</td>\n",
       "    </tr>\n",
       "    <tr>\n",
       "      <th>20554</th>\n",
       "      <td>NaN</td>\n",
       "      <td>NaN</td>\n",
       "      <td>cabl, wireless, merg, unit, telecommun, oper</td>\n",
       "      <td>acq</td>\n",
       "    </tr>\n",
       "    <tr>\n",
       "      <th>20555</th>\n",
       "      <td>french, financ, minist, issu, firm, call, cont...</td>\n",
       "      <td>france</td>\n",
       "      <td>insist, mainten, louvr, accord</td>\n",
       "      <td>money-fx</td>\n",
       "    </tr>\n",
       "    <tr>\n",
       "      <th>20556</th>\n",
       "      <td>intern, rubber, organis, buffer, stock, manag,...</td>\n",
       "      <td>malaysia</td>\n",
       "      <td>rubber, stock, manag, qualiti, accept</td>\n",
       "      <td>rubber</td>\n",
       "    </tr>\n",
       "    <tr>\n",
       "      <th>20557</th>\n",
       "      <td>continent, airlin, said, frontier, airlin, bou...</td>\n",
       "      <td>usa</td>\n",
       "      <td>frontier, airlin, seek, faster, claim, settlement</td>\n",
       "      <td>NaN</td>\n",
       "    </tr>\n",
       "    <tr>\n",
       "      <th>20558</th>\n",
       "      <td>NaN</td>\n",
       "      <td>NaN</td>\n",
       "      <td>hang, stock, index, lose, point, late, afternoon</td>\n",
       "      <td>NaN</td>\n",
       "    </tr>\n",
       "    <tr>\n",
       "      <th>20559</th>\n",
       "      <td>nippon, agre, intern, issu, credit, card, call...</td>\n",
       "      <td>japan</td>\n",
       "      <td>nippon, issu, credit, card</td>\n",
       "      <td>NaN</td>\n",
       "    </tr>\n",
       "    <tr>\n",
       "      <th>20560</th>\n",
       "      <td>incom, surcharg, capit, gain, bring, urgent, n...</td>\n",
       "      <td>new-zealand</td>\n",
       "      <td>economist, lower, dollar</td>\n",
       "      <td>money-fx, nzdlr</td>\n",
       "    </tr>\n",
       "    <tr>\n",
       "      <th>20561</th>\n",
       "      <td>philippin, trade, deficit, widen, eight, month...</td>\n",
       "      <td>philippines</td>\n",
       "      <td>philippin, trade, widen</td>\n",
       "      <td>trade</td>\n",
       "    </tr>\n",
       "    <tr>\n",
       "      <th>20562</th>\n",
       "      <td>iranian, presid, said, doubt, posit, take, vio...</td>\n",
       "      <td>usa, iran</td>\n",
       "      <td>iran, presid, doubt, action, iran</td>\n",
       "      <td>NaN</td>\n",
       "    </tr>\n",
       "    <tr>\n",
       "      <th>20563</th>\n",
       "      <td>NaN</td>\n",
       "      <td>NaN</td>\n",
       "      <td>tokyo, stock, index, close, point, lower</td>\n",
       "      <td>NaN</td>\n",
       "    </tr>\n",
       "    <tr>\n",
       "      <th>20564</th>\n",
       "      <td>zealand, impos, sanction, fiji, respons, count...</td>\n",
       "      <td>new-zealand, fiji</td>\n",
       "      <td>zealand, impos, sanction, fiji</td>\n",
       "      <td>sugar</td>\n",
       "    </tr>\n",
       "    <tr>\n",
       "      <th>20565</th>\n",
       "      <td>ministri, financ, start, consid, coupon, rate,...</td>\n",
       "      <td>japan, usa</td>\n",
       "      <td>japan, start, consid, novemb, bond, coupon</td>\n",
       "      <td>NaN</td>\n",
       "    </tr>\n",
       "    <tr>\n",
       "      <th>20566</th>\n",
       "      <td>uganda, plan, export, roast, coffe, europ, pro...</td>\n",
       "      <td>uganda</td>\n",
       "      <td>uganda, plan, export, roast, coffe, europ</td>\n",
       "      <td>coffee</td>\n",
       "    </tr>\n",
       "    <tr>\n",
       "      <th>20567</th>\n",
       "      <td>soviet, union, agre, suppli, iran, refin, prod...</td>\n",
       "      <td>iran, ussr, cyprus</td>\n",
       "      <td>iran, soviet, union, swap, crude, refin, product</td>\n",
       "      <td>crude</td>\n",
       "    </tr>\n",
       "    <tr>\n",
       "      <th>20568</th>\n",
       "      <td>order, import, place, august, rose, season, ad...</td>\n",
       "      <td>new-zealand</td>\n",
       "      <td>zealand, import, order, rise, august</td>\n",
       "      <td>NaN</td>\n",
       "    </tr>\n",
       "    <tr>\n",
       "      <th>20569</th>\n",
       "      <td>thai, rice, export, rose, tonn, week, octob, p...</td>\n",
       "      <td>thailand</td>\n",
       "      <td>thai, rice, export, rise, week, octob</td>\n",
       "      <td>grain, rice</td>\n",
       "    </tr>\n",
       "    <tr>\n",
       "      <th>20570</th>\n",
       "      <td>chase, corp, said, make, offer, share, option,...</td>\n",
       "      <td>new-zealand</td>\n",
       "      <td>chase, corp, make, offer</td>\n",
       "      <td>acq</td>\n",
       "    </tr>\n",
       "    <tr>\n",
       "      <th>20571</th>\n",
       "      <td>announc, comput, system, system, unveil, machi...</td>\n",
       "      <td>usa</td>\n",
       "      <td>competit, toughen</td>\n",
       "      <td>NaN</td>\n",
       "    </tr>\n",
       "    <tr>\n",
       "      <th>20572</th>\n",
       "      <td>tokyo, foreign, exchang, market, watch, nervou...</td>\n",
       "      <td>japan, west-germany, usa</td>\n",
       "      <td>tokyo, dealer, dollar, pois, breach</td>\n",
       "      <td>money-fx, dlr, yen</td>\n",
       "    </tr>\n",
       "    <tr>\n",
       "      <th>20573</th>\n",
       "      <td>ship, confer, said, extra, risk, insur, surcha...</td>\n",
       "      <td>hong-kong, japan, india, pakistan, iran, iraq</td>\n",
       "      <td>confer, gulf, risk, charg</td>\n",
       "      <td>ship</td>\n",
       "    </tr>\n",
       "    <tr>\n",
       "      <th>20574</th>\n",
       "      <td>soviet, union, industri, output, grow, slower,...</td>\n",
       "      <td>ussr</td>\n",
       "      <td>soviet, industri, slower</td>\n",
       "      <td>ipi</td>\n",
       "    </tr>\n",
       "    <tr>\n",
       "      <th>20575</th>\n",
       "      <td>black, miner, kill, injur, rock, fall, three, ...</td>\n",
       "      <td>south-africa</td>\n",
       "      <td>kill, south, african, gold, mine, accid</td>\n",
       "      <td>gold</td>\n",
       "    </tr>\n",
       "    <tr>\n",
       "      <th>20576</th>\n",
       "      <td>prospect, domin, allianc, socialist, environme...</td>\n",
       "      <td>switzerland</td>\n",
       "      <td>project, show, swiss, voter, want, parti</td>\n",
       "      <td>NaN</td>\n",
       "    </tr>\n",
       "    <tr>\n",
       "      <th>20577</th>\n",
       "      <td>american, stock, exchang, said, introduc, opti...</td>\n",
       "      <td>usa</td>\n",
       "      <td>american, exchang, introduc, institut, index</td>\n",
       "      <td>NaN</td>\n",
       "    </tr>\n",
       "  </tbody>\n",
       "</table>\n",
       "<p>20578 rows × 4 columns</p>\n",
       "</div>"
      ],
      "text/plain": [
       "                                                    body  \\\n",
       "0      said, expect, earlier, report, remov, jone, in...   \n",
       "1      mason, former, presid, chief, oper, offic, emp...   \n",
       "2      discoveri, complic, search, vaccin, team, armi...   \n",
       "3      doctor, center, diseas, control, atlanta, said...   \n",
       "4      econom, data, week, determin, interest, rate, ...   \n",
       "5      reagan, administr, respond, last, year, unit, ...   \n",
       "6      novel, type, financ, texa, instrument, market,...   \n",
       "7      canadian, foreign, secretari, clark, wind, vis...   \n",
       "8      ford, motor, said, check, distribut, employe, ...   \n",
       "9      jamaica, billion, foreign, debt, reduc, oblig,...   \n",
       "10     team, california, research, said, develop, bet...   \n",
       "11     loss, profit, three, profit, profit, year, per...   \n",
       "12     albert, hakim, merchant, first, player, iran, ...   \n",
       "13     year, note, includ, loss, share, restat, give,...   \n",
       "14     loss, loss, year, loss, loss, loss, note, year...   \n",
       "15     corp, said, prove, reserv, natur, liquid, fell...   \n",
       "16     petroleum, chairman, said, compani, stock, ran...   \n",
       "17     michigan, gener, corp, said, began, exchang, o...   \n",
       "18     bank, british, columbia, said, revis, estim, s...   \n",
       "19     hous, vote, block, militari, nicaraguan, rebel...   \n",
       "20                                                  year   \n",
       "21     argentin, meat, export, total, tonn, tonn, shi...   \n",
       "22     gold, mine, said, plan, common, stock, split, ...   \n",
       "23     vanzetti, system, said, sharehold, approv, inc...   \n",
       "24               four, four, prior, april, record, march   \n",
       "25     hous, trade, lawmak, took, first, vote, measur...   \n",
       "26     soviet, first, deputi, prime, minist, said, br...   \n",
       "27     venezuela, suppli, ecuador, undetermin, amount...   \n",
       "28     profit, profit, profit, profit, month, profit,...   \n",
       "29     iraq, said, repel, iranian, attack, posit, hel...   \n",
       "...                                                  ...   \n",
       "20548  corp, said, sale, rose, three, month, august, ...   \n",
       "20549  cabl, wireless, said, merg, telephon, cabl, wi...   \n",
       "20550  nine, month, august, group, group, billion, bi...   \n",
       "20551                                                NaN   \n",
       "20552  third, quarter, august, group, group, billion,...   \n",
       "20553                                                NaN   \n",
       "20554                                                NaN   \n",
       "20555  french, financ, minist, issu, firm, call, cont...   \n",
       "20556  intern, rubber, organis, buffer, stock, manag,...   \n",
       "20557  continent, airlin, said, frontier, airlin, bou...   \n",
       "20558                                                NaN   \n",
       "20559  nippon, agre, intern, issu, credit, card, call...   \n",
       "20560  incom, surcharg, capit, gain, bring, urgent, n...   \n",
       "20561  philippin, trade, deficit, widen, eight, month...   \n",
       "20562  iranian, presid, said, doubt, posit, take, vio...   \n",
       "20563                                                NaN   \n",
       "20564  zealand, impos, sanction, fiji, respons, count...   \n",
       "20565  ministri, financ, start, consid, coupon, rate,...   \n",
       "20566  uganda, plan, export, roast, coffe, europ, pro...   \n",
       "20567  soviet, union, agre, suppli, iran, refin, prod...   \n",
       "20568  order, import, place, august, rose, season, ad...   \n",
       "20569  thai, rice, export, rose, tonn, week, octob, p...   \n",
       "20570  chase, corp, said, make, offer, share, option,...   \n",
       "20571  announc, comput, system, system, unveil, machi...   \n",
       "20572  tokyo, foreign, exchang, market, watch, nervou...   \n",
       "20573  ship, confer, said, extra, risk, insur, surcha...   \n",
       "20574  soviet, union, industri, output, grow, slower,...   \n",
       "20575  black, miner, kill, injur, rock, fall, three, ...   \n",
       "20576  prospect, domin, allianc, socialist, environme...   \n",
       "20577  american, stock, exchang, said, introduc, opti...   \n",
       "\n",
       "                                              places  \\\n",
       "0                                             canada   \n",
       "1                                                usa   \n",
       "2                                                usa   \n",
       "3                                                usa   \n",
       "4                                                usa   \n",
       "5                                                usa   \n",
       "6                                                usa   \n",
       "7                                        usa, canada   \n",
       "8                                                usa   \n",
       "9                                            jamaica   \n",
       "10                                               usa   \n",
       "11                                            canada   \n",
       "12                                         usa, iran   \n",
       "13                                               usa   \n",
       "14                                               usa   \n",
       "15                                        usa, libya   \n",
       "16                                               usa   \n",
       "17                                               usa   \n",
       "18                                            canada   \n",
       "19                                               usa   \n",
       "20                                            canada   \n",
       "21                                         argentina   \n",
       "22                                            canada   \n",
       "23                                               usa   \n",
       "24                                               usa   \n",
       "25                                               usa   \n",
       "26                                      france, ussr   \n",
       "27                                ecuador, venezuela   \n",
       "28                                               usa   \n",
       "29                                        iran, iraq   \n",
       "...                                              ...   \n",
       "20548                                          japan   \n",
       "20549                                      hong-kong   \n",
       "20550                                          japan   \n",
       "20551                                            NaN   \n",
       "20552                                          japan   \n",
       "20553                                            NaN   \n",
       "20554                                            NaN   \n",
       "20555                                         france   \n",
       "20556                                       malaysia   \n",
       "20557                                            usa   \n",
       "20558                                            NaN   \n",
       "20559                                          japan   \n",
       "20560                                    new-zealand   \n",
       "20561                                    philippines   \n",
       "20562                                      usa, iran   \n",
       "20563                                            NaN   \n",
       "20564                              new-zealand, fiji   \n",
       "20565                                     japan, usa   \n",
       "20566                                         uganda   \n",
       "20567                             iran, ussr, cyprus   \n",
       "20568                                    new-zealand   \n",
       "20569                                       thailand   \n",
       "20570                                    new-zealand   \n",
       "20571                                            usa   \n",
       "20572                       japan, west-germany, usa   \n",
       "20573  hong-kong, japan, india, pakistan, iran, iraq   \n",
       "20574                                           ussr   \n",
       "20575                                   south-africa   \n",
       "20576                                    switzerland   \n",
       "20577                                            usa   \n",
       "\n",
       "                                                   title  \\\n",
       "0                                   major, impact, remov   \n",
       "1                 former, empir, carolina, exec, sentenc   \n",
       "2                     doctor, find, link, smallpox, viru   \n",
       "3      birth, control, pill, help, prevent, cancer, s...   \n",
       "4                     econom, data, debt, futur, outlook   \n",
       "5                                action, program, africa   \n",
       "6                 unusu, texa, instrument, prefer, price   \n",
       "7                      clark, expect, action, acid, rain   \n",
       "8                  ford, motor, distribut, profit, share   \n",
       "9                                        jamaica, borrow   \n",
       "10            faster, test, sickl, cell, anemia, develop   \n",
       "11                               bank, british, columbia   \n",
       "12                       scandal, particip, immun, offer   \n",
       "13                                       restaur, associ   \n",
       "14                                 michigan, gener, corp   \n",
       "15                                   prove, reserv, fall   \n",
       "16                               stock, step, pare, debt   \n",
       "17                michigan, gener, begin, exchang, offer   \n",
       "18                             bank, revis, share, estim   \n",
       "19                      hous, vote, block, contra, month   \n",
       "20                                            gold, mine   \n",
       "21                        argentin, meat, export, higher   \n",
       "22                                    plan, stock, split   \n",
       "23                      vanzetti, increas, share, approv   \n",
       "24                              furnitur, corp, dividend   \n",
       "25           hous, panel, take, first, trade, bill, vote   \n",
       "26                  soviet, minist, trade, boost, french   \n",
       "27                      venezuela, lend, ecuador, export   \n",
       "28                                           eagl, cloth   \n",
       "29           iraq, iran, attack, repuls, southern, front   \n",
       "...                                                  ...   \n",
       "20548                   sale, rise, electron, part, sale   \n",
       "20549               cabl, wireless, detail, merger, unit   \n",
       "20550                                 group, nine, month   \n",
       "20551  share, index, open, point, london, stock, exchang   \n",
       "20552                        group, three, month, august   \n",
       "20553  share, index, open, point, london, stock, exchang   \n",
       "20554       cabl, wireless, merg, unit, telecommun, oper   \n",
       "20555                     insist, mainten, louvr, accord   \n",
       "20556              rubber, stock, manag, qualiti, accept   \n",
       "20557  frontier, airlin, seek, faster, claim, settlement   \n",
       "20558   hang, stock, index, lose, point, late, afternoon   \n",
       "20559                         nippon, issu, credit, card   \n",
       "20560                           economist, lower, dollar   \n",
       "20561                            philippin, trade, widen   \n",
       "20562                  iran, presid, doubt, action, iran   \n",
       "20563           tokyo, stock, index, close, point, lower   \n",
       "20564                     zealand, impos, sanction, fiji   \n",
       "20565         japan, start, consid, novemb, bond, coupon   \n",
       "20566          uganda, plan, export, roast, coffe, europ   \n",
       "20567   iran, soviet, union, swap, crude, refin, product   \n",
       "20568               zealand, import, order, rise, august   \n",
       "20569              thai, rice, export, rise, week, octob   \n",
       "20570                           chase, corp, make, offer   \n",
       "20571                                  competit, toughen   \n",
       "20572                tokyo, dealer, dollar, pois, breach   \n",
       "20573                          confer, gulf, risk, charg   \n",
       "20574                           soviet, industri, slower   \n",
       "20575            kill, south, african, gold, mine, accid   \n",
       "20576           project, show, swiss, voter, want, parti   \n",
       "20577       american, exchang, introduc, institut, index   \n",
       "\n",
       "                           topics  \n",
       "0                             NaN  \n",
       "1                             NaN  \n",
       "2                             NaN  \n",
       "3                             NaN  \n",
       "4           interest, retail, ipi  \n",
       "5                             NaN  \n",
       "6                             NaN  \n",
       "7                             NaN  \n",
       "8                             NaN  \n",
       "9                             NaN  \n",
       "10                            NaN  \n",
       "11                           earn  \n",
       "12                            NaN  \n",
       "13                           earn  \n",
       "14                           earn  \n",
       "15     crude, nat-gas, iron-steel  \n",
       "16                            NaN  \n",
       "17                            NaN  \n",
       "18                           earn  \n",
       "19                            NaN  \n",
       "20                           earn  \n",
       "21             carcass, livestock  \n",
       "22                           earn  \n",
       "23                            NaN  \n",
       "24                           earn  \n",
       "25                          trade  \n",
       "26                          trade  \n",
       "27                          crude  \n",
       "28                           earn  \n",
       "29                            NaN  \n",
       "...                           ...  \n",
       "20548                         NaN  \n",
       "20549                         acq  \n",
       "20550                        earn  \n",
       "20551                         NaN  \n",
       "20552                        earn  \n",
       "20553                         NaN  \n",
       "20554                         acq  \n",
       "20555                    money-fx  \n",
       "20556                      rubber  \n",
       "20557                         NaN  \n",
       "20558                         NaN  \n",
       "20559                         NaN  \n",
       "20560             money-fx, nzdlr  \n",
       "20561                       trade  \n",
       "20562                         NaN  \n",
       "20563                         NaN  \n",
       "20564                       sugar  \n",
       "20565                         NaN  \n",
       "20566                      coffee  \n",
       "20567                       crude  \n",
       "20568                         NaN  \n",
       "20569                 grain, rice  \n",
       "20570                         acq  \n",
       "20571                         NaN  \n",
       "20572          money-fx, dlr, yen  \n",
       "20573                        ship  \n",
       "20574                         ipi  \n",
       "20575                        gold  \n",
       "20576                         NaN  \n",
       "20577                         NaN  \n",
       "\n",
       "[20578 rows x 4 columns]"
      ]
     },
     "execution_count": 33,
     "metadata": {},
     "output_type": "execute_result"
    }
   ],
   "source": [
    "df_docs"
   ]
  },
  {
   "cell_type": "markdown",
   "metadata": {},
   "source": [
    "**Removing documents with no Topics, no Body and no Title**"
   ]
  },
  {
   "cell_type": "code",
   "execution_count": 34,
   "metadata": {},
   "outputs": [],
   "source": [
    "\n",
    "df_filter = df_docs[df_docs['topics'].notnull() & df_docs['body'].notnull() & df_docs['title'].notnull()]\n"
   ]
  },
  {
   "cell_type": "code",
   "execution_count": 35,
   "metadata": {},
   "outputs": [
    {
     "data": {
      "text/html": [
       "<div>\n",
       "<style scoped>\n",
       "    .dataframe tbody tr th:only-of-type {\n",
       "        vertical-align: middle;\n",
       "    }\n",
       "\n",
       "    .dataframe tbody tr th {\n",
       "        vertical-align: top;\n",
       "    }\n",
       "\n",
       "    .dataframe thead th {\n",
       "        text-align: right;\n",
       "    }\n",
       "</style>\n",
       "<table border=\"1\" class=\"dataframe\">\n",
       "  <thead>\n",
       "    <tr style=\"text-align: right;\">\n",
       "      <th></th>\n",
       "      <th>body</th>\n",
       "      <th>places</th>\n",
       "      <th>title</th>\n",
       "      <th>topics</th>\n",
       "    </tr>\n",
       "  </thead>\n",
       "  <tbody>\n",
       "    <tr>\n",
       "      <th>4</th>\n",
       "      <td>econom, data, week, determin, interest, rate, ...</td>\n",
       "      <td>usa</td>\n",
       "      <td>econom, data, debt, futur, outlook</td>\n",
       "      <td>interest, retail, ipi</td>\n",
       "    </tr>\n",
       "    <tr>\n",
       "      <th>25</th>\n",
       "      <td>hous, trade, lawmak, took, first, vote, measur...</td>\n",
       "      <td>usa</td>\n",
       "      <td>hous, panel, take, first, trade, bill, vote</td>\n",
       "      <td>trade</td>\n",
       "    </tr>\n",
       "    <tr>\n",
       "      <th>48</th>\n",
       "      <td>intern, effort, redirect, japan, economi, dome...</td>\n",
       "      <td>japan, usa</td>\n",
       "      <td>econom, spotlight, heavi, fight, back</td>\n",
       "      <td>ship, iron-steel</td>\n",
       "    </tr>\n",
       "    <tr>\n",
       "      <th>66</th>\n",
       "      <td>saudi, arabia, commerci, bank, report, declin,...</td>\n",
       "      <td>saudi-arabia</td>\n",
       "      <td>saudi, bank, face, lean, period</td>\n",
       "      <td>earn</td>\n",
       "    </tr>\n",
       "    <tr>\n",
       "      <th>70</th>\n",
       "      <td>indonesian, coffe, export, prepar, period, dep...</td>\n",
       "      <td>indonesia, costa-rica, dominican-republic, hon...</td>\n",
       "      <td>indonesia, press, compromis, coffe</td>\n",
       "      <td>coffee</td>\n",
       "    </tr>\n",
       "    <tr>\n",
       "      <th>92</th>\n",
       "      <td>taiwan, control, currenc, inflow, implement, t...</td>\n",
       "      <td>taiwan, usa</td>\n",
       "      <td>taiwan, clamp, control, currenc, inflow</td>\n",
       "      <td>money-fx, reserves</td>\n",
       "    </tr>\n",
       "    <tr>\n",
       "      <th>100</th>\n",
       "      <td>australia, expect, meat, livestock, export, mi...</td>\n",
       "      <td>australia, bahrain, uae, saudi-arabia, kuwait,...</td>\n",
       "      <td>australia, expect, rise, meat, export, mideast</td>\n",
       "      <td>carcass, livestock</td>\n",
       "    </tr>\n",
       "    <tr>\n",
       "      <th>164</th>\n",
       "      <td>worst, japan, batter, economi, economist, said...</td>\n",
       "      <td>japan</td>\n",
       "      <td>japan, economi, near, bottom, economist</td>\n",
       "      <td>gnp</td>\n",
       "    </tr>\n",
       "    <tr>\n",
       "      <th>173</th>\n",
       "      <td>japanes, compani, decid, renew, term, contract...</td>\n",
       "      <td>japan, iran</td>\n",
       "      <td>japan, firm, renew, iran, term, contract</td>\n",
       "      <td>crude</td>\n",
       "    </tr>\n",
       "    <tr>\n",
       "      <th>222</th>\n",
       "      <td>mart, corp, said, record, fiscal, earn, rise, ...</td>\n",
       "      <td>usa</td>\n",
       "      <td>mart, record, turn, point</td>\n",
       "      <td>earn</td>\n",
       "    </tr>\n",
       "    <tr>\n",
       "      <th>231</th>\n",
       "      <td>petroleum, emphas, improv, cash, flow, year, p...</td>\n",
       "      <td>usa</td>\n",
       "      <td>emphas, cash, flow, pare, debt</td>\n",
       "      <td>earn, crude, nat-gas</td>\n",
       "    </tr>\n",
       "    <tr>\n",
       "      <th>266</th>\n",
       "      <td>brazilian, coffe, institut, unlik, disclos, fu...</td>\n",
       "      <td>brazil</td>\n",
       "      <td>near, term, brazil, coffe, move, expect</td>\n",
       "      <td>coffee</td>\n",
       "    </tr>\n",
       "    <tr>\n",
       "      <th>289</th>\n",
       "      <td>retail, sale, rose, sharpli, februari, mani, e...</td>\n",
       "      <td>usa</td>\n",
       "      <td>retail, sale, rise, mask, weak, trend, analyst</td>\n",
       "      <td>retail</td>\n",
       "    </tr>\n",
       "    <tr>\n",
       "      <th>469</th>\n",
       "      <td>pessim, effect, prolong, spell, come, cocoa, c...</td>\n",
       "      <td>brazil</td>\n",
       "      <td>pessim, mount, cocoa, crop</td>\n",
       "      <td>cocoa</td>\n",
       "    </tr>\n",
       "    <tr>\n",
       "      <th>476</th>\n",
       "      <td>courier, corp, stock, rose, disgruntl, former,...</td>\n",
       "      <td>usa</td>\n",
       "      <td>talk, courier, corp</td>\n",
       "      <td>acq</td>\n",
       "    </tr>\n",
       "    <tr>\n",
       "      <th>489</th>\n",
       "      <td>implement, pilot, program, wheat, strongli, pr...</td>\n",
       "      <td>usa</td>\n",
       "      <td>push, hard, farm, plan</td>\n",
       "      <td>grain, wheat, corn, oilseed, soybean</td>\n",
       "    </tr>\n",
       "    <tr>\n",
       "      <th>547</th>\n",
       "      <td>bolivia, make, formal, offer, next, month, bac...</td>\n",
       "      <td>bolivia</td>\n",
       "      <td>bolivia, offer, back, bank, debt</td>\n",
       "      <td>gnp, cpi, reserves</td>\n",
       "    </tr>\n",
       "    <tr>\n",
       "      <th>563</th>\n",
       "      <td>live, cattl, futur, post, robust, ralli, today...</td>\n",
       "      <td>usa</td>\n",
       "      <td>live, cattl, ralli, lockout, meat, plant</td>\n",
       "      <td>l-cattle, livestock</td>\n",
       "    </tr>\n",
       "    <tr>\n",
       "      <th>601</th>\n",
       "      <td>bank, reserv, monetari, discount, window, borr...</td>\n",
       "      <td>usa</td>\n",
       "      <td>data, indic, polici, chang, like</td>\n",
       "      <td>money-supply, interest</td>\n",
       "    </tr>\n",
       "    <tr>\n",
       "      <th>602</th>\n",
       "      <td>colombia, intend, improv, market, coffe, accen...</td>\n",
       "      <td>colombia, brazil</td>\n",
       "      <td>colombia, coffe, market, flexibl</td>\n",
       "      <td>coffee</td>\n",
       "    </tr>\n",
       "    <tr>\n",
       "      <th>624</th>\n",
       "      <td>senior, econom, offici, disagre, likelihood, g...</td>\n",
       "      <td>usa</td>\n",
       "      <td>offici, disagre, reduc, budget, deficit</td>\n",
       "      <td>gnp</td>\n",
       "    </tr>\n",
       "    <tr>\n",
       "      <th>629</th>\n",
       "      <td>china, decid, increas, sugar, import, year, co...</td>\n",
       "      <td>china</td>\n",
       "      <td>china, face, dilemma, sugar, import</td>\n",
       "      <td>sugar</td>\n",
       "    </tr>\n",
       "    <tr>\n",
       "      <th>664</th>\n",
       "      <td>foreign, ministri, offici, dismiss, argument, ...</td>\n",
       "      <td>usa, japan</td>\n",
       "      <td>japan, reject, object, sale</td>\n",
       "      <td>acq</td>\n",
       "    </tr>\n",
       "    <tr>\n",
       "      <th>691</th>\n",
       "      <td>break, even, year, cleans, balanc, sheet, chie...</td>\n",
       "      <td>switzerland</td>\n",
       "      <td>possibl</td>\n",
       "      <td>earn</td>\n",
       "    </tr>\n",
       "    <tr>\n",
       "      <th>743</th>\n",
       "      <td>produc, price, index, finish, good, rose, seas...</td>\n",
       "      <td>usa</td>\n",
       "      <td>produc, price, rise, februari</td>\n",
       "      <td>wpi</td>\n",
       "    </tr>\n",
       "    <tr>\n",
       "      <th>808</th>\n",
       "      <td>european, monetari, system, mark, eighth, anni...</td>\n",
       "      <td>belgium, west-germany, uk</td>\n",
       "      <td>econom, spotlight, mark, eighth, birthday</td>\n",
       "      <td>money-fx</td>\n",
       "    </tr>\n",
       "    <tr>\n",
       "      <th>943</th>\n",
       "      <td>februari, report, reflect, slim, gain, industr...</td>\n",
       "      <td>usa</td>\n",
       "      <td>seen, content, februari, economi</td>\n",
       "      <td>interest, gnp, ipi, wpi</td>\n",
       "    </tr>\n",
       "    <tr>\n",
       "      <th>987</th>\n",
       "      <td>greater, anticip, need, competit, price, polit...</td>\n",
       "      <td>ussr, usa, argentina</td>\n",
       "      <td>numer, factor, said, point, ussr, corn</td>\n",
       "      <td>grain, corn</td>\n",
       "    </tr>\n",
       "    <tr>\n",
       "      <th>1077</th>\n",
       "      <td>british, petroleum, intend, rais, price, plan,...</td>\n",
       "      <td>usa</td>\n",
       "      <td>plan, hike, standard</td>\n",
       "      <td>acq, crude</td>\n",
       "    </tr>\n",
       "    <tr>\n",
       "      <th>1079</th>\n",
       "      <td>british, petroleum, plan, billion, half, stand...</td>\n",
       "      <td>usa</td>\n",
       "      <td>offer, rais, expect, valu</td>\n",
       "      <td>crude</td>\n",
       "    </tr>\n",
       "    <tr>\n",
       "      <th>...</th>\n",
       "      <td>...</td>\n",
       "      <td>...</td>\n",
       "      <td>...</td>\n",
       "      <td>...</td>\n",
       "    </tr>\n",
       "    <tr>\n",
       "      <th>19202</th>\n",
       "      <td>govern, major, asian, produc, countri, welcom,...</td>\n",
       "      <td>malaysia, indonesia, thailand, sri-lanka</td>\n",
       "      <td>asian, reaction, rubber, pact</td>\n",
       "      <td>rubber</td>\n",
       "    </tr>\n",
       "    <tr>\n",
       "      <th>19335</th>\n",
       "      <td>south, africa, foreign, debt, agreement, spark...</td>\n",
       "      <td>south-africa</td>\n",
       "      <td>south, africa, problem, remain, despit, debt, ...</td>\n",
       "      <td>rand</td>\n",
       "    </tr>\n",
       "    <tr>\n",
       "      <th>19435</th>\n",
       "      <td>energi, secretari, john, propos, sever, boost,...</td>\n",
       "      <td>usa</td>\n",
       "      <td>output</td>\n",
       "      <td>crude, nat-gas</td>\n",
       "    </tr>\n",
       "    <tr>\n",
       "      <th>19469</th>\n",
       "      <td>lead, congressman, jerri, warn, press, next, y...</td>\n",
       "      <td>usa</td>\n",
       "      <td>sugar, polici, congressman</td>\n",
       "      <td>sugar, grain, corn</td>\n",
       "    </tr>\n",
       "    <tr>\n",
       "      <th>19520</th>\n",
       "      <td>argentin, grain, produc, reduc, estim, total, ...</td>\n",
       "      <td>argentina</td>\n",
       "      <td>argentin, soybean, yield, estim</td>\n",
       "      <td>grain, corn, oilseed, soybean, sorghum, sunseed</td>\n",
       "    </tr>\n",
       "    <tr>\n",
       "      <th>19581</th>\n",
       "      <td>secur, industri, associ, back, varieti, restra...</td>\n",
       "      <td>usa</td>\n",
       "      <td>secur, group, back, insid, restraint</td>\n",
       "      <td>acq</td>\n",
       "    </tr>\n",
       "    <tr>\n",
       "      <th>19637</th>\n",
       "      <td>investor, group, said, might, will, rais, shar...</td>\n",
       "      <td>usa</td>\n",
       "      <td>rais, group</td>\n",
       "      <td>acq</td>\n",
       "    </tr>\n",
       "    <tr>\n",
       "      <th>19666</th>\n",
       "      <td>congress, eager, find, budget, save, launch, r...</td>\n",
       "      <td>usa</td>\n",
       "      <td>cost, certif, congress</td>\n",
       "      <td>grain, corn</td>\n",
       "    </tr>\n",
       "    <tr>\n",
       "      <th>19705</th>\n",
       "      <td>engin, group, world, group, turnov, rose, mark...</td>\n",
       "      <td>west-germany</td>\n",
       "      <td>turnov, first, month</td>\n",
       "      <td>earn</td>\n",
       "    </tr>\n",
       "    <tr>\n",
       "      <th>19732</th>\n",
       "      <td>british, petroleum, said, intend, make, tender...</td>\n",
       "      <td>uk</td>\n",
       "      <td>offer, billion, standard, share</td>\n",
       "      <td>acq</td>\n",
       "    </tr>\n",
       "    <tr>\n",
       "      <th>19748</th>\n",
       "      <td>west, germani, current, account, surplu, widen...</td>\n",
       "      <td>west-germany</td>\n",
       "      <td>german, current, account, surplu, widen, februari</td>\n",
       "      <td>bop, trade</td>\n",
       "    </tr>\n",
       "    <tr>\n",
       "      <th>19753</th>\n",
       "      <td>japan, plan, beef, intervent, price, fiscal, y...</td>\n",
       "      <td>japan, usa</td>\n",
       "      <td>japan, beef, price, support, rais, demand</td>\n",
       "      <td>livestock, carcass</td>\n",
       "    </tr>\n",
       "    <tr>\n",
       "      <th>19759</th>\n",
       "      <td>world, group, turnov, siemen, rise, billion, m...</td>\n",
       "      <td>west-germany</td>\n",
       "      <td>siemen, sale, near, billion, mark, year</td>\n",
       "      <td>earn</td>\n",
       "    </tr>\n",
       "    <tr>\n",
       "      <th>19763</th>\n",
       "      <td>monetari, author, major, industrialis, countri...</td>\n",
       "      <td>japan, usa, uk, west-germany, france, canada</td>\n",
       "      <td>monetari, author, said, lose, credibl</td>\n",
       "      <td>money-fx</td>\n",
       "    </tr>\n",
       "    <tr>\n",
       "      <th>19781</th>\n",
       "      <td>intern, wheat, council, lift, estim, world, wh...</td>\n",
       "      <td>uk, canada, usa, ussr</td>\n",
       "      <td>lift, world, grain, output, estim, record</td>\n",
       "      <td>grain, wheat</td>\n",
       "    </tr>\n",
       "    <tr>\n",
       "      <th>19783</th>\n",
       "      <td>releas, februari, trade, data, show, current, ...</td>\n",
       "      <td>uk</td>\n",
       "      <td>trade, figur, buoy, hope, interest, rate</td>\n",
       "      <td>trade, bop, interest, money-fx</td>\n",
       "    </tr>\n",
       "    <tr>\n",
       "      <th>19792</th>\n",
       "      <td>effort, govern, control, wheat, surplu, suppor...</td>\n",
       "      <td>uk, usa, argentina, australia, canada</td>\n",
       "      <td>effect, lower, support, price, limit</td>\n",
       "      <td>grain, wheat</td>\n",
       "    </tr>\n",
       "    <tr>\n",
       "      <th>19847</th>\n",
       "      <td>releas, februari, trade, data, show, current, ...</td>\n",
       "      <td>uk</td>\n",
       "      <td>trade, figur, buoy, hope, interest, rate</td>\n",
       "      <td>trade, bop, interest, stg, money-fx</td>\n",
       "    </tr>\n",
       "    <tr>\n",
       "      <th>19945</th>\n",
       "      <td>bank, franc, interven, small, amount, dollar, ...</td>\n",
       "      <td>france</td>\n",
       "      <td>intervent, respond, pressur</td>\n",
       "      <td>money-fx, dlr, yen</td>\n",
       "    </tr>\n",
       "    <tr>\n",
       "      <th>19974</th>\n",
       "      <td>bundesbank, option, west, germani, monetari, p...</td>\n",
       "      <td>west-germany</td>\n",
       "      <td>german, wage, round, said, limit, monetari, op...</td>\n",
       "      <td>money-fx</td>\n",
       "    </tr>\n",
       "    <tr>\n",
       "      <th>19977</th>\n",
       "      <td>month, first, interst, withdrew, bold, attempt...</td>\n",
       "      <td>usa</td>\n",
       "      <td>first, interst, seek, acquisit</td>\n",
       "      <td>acq</td>\n",
       "    </tr>\n",
       "    <tr>\n",
       "      <th>20001</th>\n",
       "      <td>huge, platform, gulf, like, beacon, usual, lik...</td>\n",
       "      <td>bahrain, iran, usa</td>\n",
       "      <td>huge, platform, gulf, like, beacon</td>\n",
       "      <td>crude, ship</td>\n",
       "    </tr>\n",
       "    <tr>\n",
       "      <th>20005</th>\n",
       "      <td>attack, iranian, platform, gulf, monday, appea...</td>\n",
       "      <td>bahrain, usa, iran</td>\n",
       "      <td>diplomat, call, attack, restrain</td>\n",
       "      <td>crude, ship</td>\n",
       "    </tr>\n",
       "    <tr>\n",
       "      <th>20130</th>\n",
       "      <td>ampl, suppli, opec, crude, weigh, world, marke...</td>\n",
       "      <td>uk, usa, iran, kuwait, saudi-arabia</td>\n",
       "      <td>ampl, suppli, limit, strike, price, impact</td>\n",
       "      <td>crude</td>\n",
       "    </tr>\n",
       "    <tr>\n",
       "      <th>20276</th>\n",
       "      <td>louvr, accord, currenc, stabil, maintain, unea...</td>\n",
       "      <td>france, west-germany, usa, japan</td>\n",
       "      <td>transatlant, imperil, louvr</td>\n",
       "      <td>money-fx</td>\n",
       "    </tr>\n",
       "    <tr>\n",
       "      <th>20421</th>\n",
       "      <td>today, sharp, selloff, swiss, stock, match, fa...</td>\n",
       "      <td>switzerland, west-germany</td>\n",
       "      <td>swiss, analyst, mood, market, precari</td>\n",
       "      <td>money-fx, interest</td>\n",
       "    </tr>\n",
       "    <tr>\n",
       "      <th>20485</th>\n",
       "      <td>saudi, arabia, like, remain, supplier, liquefi...</td>\n",
       "      <td>iraq, iran, japan, saudi-arabia</td>\n",
       "      <td>saudi, remain, supplier, japan</td>\n",
       "      <td>propane, ship</td>\n",
       "    </tr>\n",
       "    <tr>\n",
       "      <th>20507</th>\n",
       "      <td>head, west, germani, central, bank, financ, mi...</td>\n",
       "      <td>west-germany</td>\n",
       "      <td>german, financi, polici, maker, rare, dissens</td>\n",
       "      <td>money-fx, interest</td>\n",
       "    </tr>\n",
       "    <tr>\n",
       "      <th>20541</th>\n",
       "      <td>group, seven, industri, nation, still, compli,...</td>\n",
       "      <td>japan, usa, uk, west-germany, france, italy, c...</td>\n",
       "      <td>louvr, accord, still, effect, japan, offici</td>\n",
       "      <td>money-fx, dlr, yen, dmk</td>\n",
       "    </tr>\n",
       "    <tr>\n",
       "      <th>20572</th>\n",
       "      <td>tokyo, foreign, exchang, market, watch, nervou...</td>\n",
       "      <td>japan, west-germany, usa</td>\n",
       "      <td>tokyo, dealer, dollar, pois, breach</td>\n",
       "      <td>money-fx, dlr, yen</td>\n",
       "    </tr>\n",
       "  </tbody>\n",
       "</table>\n",
       "<p>513 rows × 4 columns</p>\n",
       "</div>"
      ],
      "text/plain": [
       "                                                    body  \\\n",
       "4      econom, data, week, determin, interest, rate, ...   \n",
       "25     hous, trade, lawmak, took, first, vote, measur...   \n",
       "48     intern, effort, redirect, japan, economi, dome...   \n",
       "66     saudi, arabia, commerci, bank, report, declin,...   \n",
       "70     indonesian, coffe, export, prepar, period, dep...   \n",
       "92     taiwan, control, currenc, inflow, implement, t...   \n",
       "100    australia, expect, meat, livestock, export, mi...   \n",
       "164    worst, japan, batter, economi, economist, said...   \n",
       "173    japanes, compani, decid, renew, term, contract...   \n",
       "222    mart, corp, said, record, fiscal, earn, rise, ...   \n",
       "231    petroleum, emphas, improv, cash, flow, year, p...   \n",
       "266    brazilian, coffe, institut, unlik, disclos, fu...   \n",
       "289    retail, sale, rose, sharpli, februari, mani, e...   \n",
       "469    pessim, effect, prolong, spell, come, cocoa, c...   \n",
       "476    courier, corp, stock, rose, disgruntl, former,...   \n",
       "489    implement, pilot, program, wheat, strongli, pr...   \n",
       "547    bolivia, make, formal, offer, next, month, bac...   \n",
       "563    live, cattl, futur, post, robust, ralli, today...   \n",
       "601    bank, reserv, monetari, discount, window, borr...   \n",
       "602    colombia, intend, improv, market, coffe, accen...   \n",
       "624    senior, econom, offici, disagre, likelihood, g...   \n",
       "629    china, decid, increas, sugar, import, year, co...   \n",
       "664    foreign, ministri, offici, dismiss, argument, ...   \n",
       "691    break, even, year, cleans, balanc, sheet, chie...   \n",
       "743    produc, price, index, finish, good, rose, seas...   \n",
       "808    european, monetari, system, mark, eighth, anni...   \n",
       "943    februari, report, reflect, slim, gain, industr...   \n",
       "987    greater, anticip, need, competit, price, polit...   \n",
       "1077   british, petroleum, intend, rais, price, plan,...   \n",
       "1079   british, petroleum, plan, billion, half, stand...   \n",
       "...                                                  ...   \n",
       "19202  govern, major, asian, produc, countri, welcom,...   \n",
       "19335  south, africa, foreign, debt, agreement, spark...   \n",
       "19435  energi, secretari, john, propos, sever, boost,...   \n",
       "19469  lead, congressman, jerri, warn, press, next, y...   \n",
       "19520  argentin, grain, produc, reduc, estim, total, ...   \n",
       "19581  secur, industri, associ, back, varieti, restra...   \n",
       "19637  investor, group, said, might, will, rais, shar...   \n",
       "19666  congress, eager, find, budget, save, launch, r...   \n",
       "19705  engin, group, world, group, turnov, rose, mark...   \n",
       "19732  british, petroleum, said, intend, make, tender...   \n",
       "19748  west, germani, current, account, surplu, widen...   \n",
       "19753  japan, plan, beef, intervent, price, fiscal, y...   \n",
       "19759  world, group, turnov, siemen, rise, billion, m...   \n",
       "19763  monetari, author, major, industrialis, countri...   \n",
       "19781  intern, wheat, council, lift, estim, world, wh...   \n",
       "19783  releas, februari, trade, data, show, current, ...   \n",
       "19792  effort, govern, control, wheat, surplu, suppor...   \n",
       "19847  releas, februari, trade, data, show, current, ...   \n",
       "19945  bank, franc, interven, small, amount, dollar, ...   \n",
       "19974  bundesbank, option, west, germani, monetari, p...   \n",
       "19977  month, first, interst, withdrew, bold, attempt...   \n",
       "20001  huge, platform, gulf, like, beacon, usual, lik...   \n",
       "20005  attack, iranian, platform, gulf, monday, appea...   \n",
       "20130  ampl, suppli, opec, crude, weigh, world, marke...   \n",
       "20276  louvr, accord, currenc, stabil, maintain, unea...   \n",
       "20421  today, sharp, selloff, swiss, stock, match, fa...   \n",
       "20485  saudi, arabia, like, remain, supplier, liquefi...   \n",
       "20507  head, west, germani, central, bank, financ, mi...   \n",
       "20541  group, seven, industri, nation, still, compli,...   \n",
       "20572  tokyo, foreign, exchang, market, watch, nervou...   \n",
       "\n",
       "                                                  places  \\\n",
       "4                                                    usa   \n",
       "25                                                   usa   \n",
       "48                                            japan, usa   \n",
       "66                                          saudi-arabia   \n",
       "70     indonesia, costa-rica, dominican-republic, hon...   \n",
       "92                                           taiwan, usa   \n",
       "100    australia, bahrain, uae, saudi-arabia, kuwait,...   \n",
       "164                                                japan   \n",
       "173                                          japan, iran   \n",
       "222                                                  usa   \n",
       "231                                                  usa   \n",
       "266                                               brazil   \n",
       "289                                                  usa   \n",
       "469                                               brazil   \n",
       "476                                                  usa   \n",
       "489                                                  usa   \n",
       "547                                              bolivia   \n",
       "563                                                  usa   \n",
       "601                                                  usa   \n",
       "602                                     colombia, brazil   \n",
       "624                                                  usa   \n",
       "629                                                china   \n",
       "664                                           usa, japan   \n",
       "691                                          switzerland   \n",
       "743                                                  usa   \n",
       "808                            belgium, west-germany, uk   \n",
       "943                                                  usa   \n",
       "987                                 ussr, usa, argentina   \n",
       "1077                                                 usa   \n",
       "1079                                                 usa   \n",
       "...                                                  ...   \n",
       "19202           malaysia, indonesia, thailand, sri-lanka   \n",
       "19335                                       south-africa   \n",
       "19435                                                usa   \n",
       "19469                                                usa   \n",
       "19520                                          argentina   \n",
       "19581                                                usa   \n",
       "19637                                                usa   \n",
       "19666                                                usa   \n",
       "19705                                       west-germany   \n",
       "19732                                                 uk   \n",
       "19748                                       west-germany   \n",
       "19753                                         japan, usa   \n",
       "19759                                       west-germany   \n",
       "19763       japan, usa, uk, west-germany, france, canada   \n",
       "19781                              uk, canada, usa, ussr   \n",
       "19783                                                 uk   \n",
       "19792              uk, usa, argentina, australia, canada   \n",
       "19847                                                 uk   \n",
       "19945                                             france   \n",
       "19974                                       west-germany   \n",
       "19977                                                usa   \n",
       "20001                                 bahrain, iran, usa   \n",
       "20005                                 bahrain, usa, iran   \n",
       "20130                uk, usa, iran, kuwait, saudi-arabia   \n",
       "20276                   france, west-germany, usa, japan   \n",
       "20421                          switzerland, west-germany   \n",
       "20485                    iraq, iran, japan, saudi-arabia   \n",
       "20507                                       west-germany   \n",
       "20541  japan, usa, uk, west-germany, france, italy, c...   \n",
       "20572                           japan, west-germany, usa   \n",
       "\n",
       "                                                   title  \\\n",
       "4                     econom, data, debt, futur, outlook   \n",
       "25           hous, panel, take, first, trade, bill, vote   \n",
       "48                 econom, spotlight, heavi, fight, back   \n",
       "66                       saudi, bank, face, lean, period   \n",
       "70                    indonesia, press, compromis, coffe   \n",
       "92               taiwan, clamp, control, currenc, inflow   \n",
       "100       australia, expect, rise, meat, export, mideast   \n",
       "164              japan, economi, near, bottom, economist   \n",
       "173             japan, firm, renew, iran, term, contract   \n",
       "222                            mart, record, turn, point   \n",
       "231                       emphas, cash, flow, pare, debt   \n",
       "266              near, term, brazil, coffe, move, expect   \n",
       "289       retail, sale, rise, mask, weak, trend, analyst   \n",
       "469                           pessim, mount, cocoa, crop   \n",
       "476                                  talk, courier, corp   \n",
       "489                               push, hard, farm, plan   \n",
       "547                     bolivia, offer, back, bank, debt   \n",
       "563             live, cattl, ralli, lockout, meat, plant   \n",
       "601                     data, indic, polici, chang, like   \n",
       "602                     colombia, coffe, market, flexibl   \n",
       "624              offici, disagre, reduc, budget, deficit   \n",
       "629                  china, face, dilemma, sugar, import   \n",
       "664                          japan, reject, object, sale   \n",
       "691                                              possibl   \n",
       "743                        produc, price, rise, februari   \n",
       "808            econom, spotlight, mark, eighth, birthday   \n",
       "943                     seen, content, februari, economi   \n",
       "987               numer, factor, said, point, ussr, corn   \n",
       "1077                                plan, hike, standard   \n",
       "1079                           offer, rais, expect, valu   \n",
       "...                                                  ...   \n",
       "19202                      asian, reaction, rubber, pact   \n",
       "19335  south, africa, problem, remain, despit, debt, ...   \n",
       "19435                                             output   \n",
       "19469                         sugar, polici, congressman   \n",
       "19520                    argentin, soybean, yield, estim   \n",
       "19581               secur, group, back, insid, restraint   \n",
       "19637                                        rais, group   \n",
       "19666                             cost, certif, congress   \n",
       "19705                               turnov, first, month   \n",
       "19732                    offer, billion, standard, share   \n",
       "19748  german, current, account, surplu, widen, februari   \n",
       "19753          japan, beef, price, support, rais, demand   \n",
       "19759            siemen, sale, near, billion, mark, year   \n",
       "19763              monetari, author, said, lose, credibl   \n",
       "19781          lift, world, grain, output, estim, record   \n",
       "19783           trade, figur, buoy, hope, interest, rate   \n",
       "19792               effect, lower, support, price, limit   \n",
       "19847           trade, figur, buoy, hope, interest, rate   \n",
       "19945                        intervent, respond, pressur   \n",
       "19974  german, wage, round, said, limit, monetari, op...   \n",
       "19977                     first, interst, seek, acquisit   \n",
       "20001                 huge, platform, gulf, like, beacon   \n",
       "20005                   diplomat, call, attack, restrain   \n",
       "20130         ampl, suppli, limit, strike, price, impact   \n",
       "20276                        transatlant, imperil, louvr   \n",
       "20421              swiss, analyst, mood, market, precari   \n",
       "20485                     saudi, remain, supplier, japan   \n",
       "20507      german, financi, polici, maker, rare, dissens   \n",
       "20541        louvr, accord, still, effect, japan, offici   \n",
       "20572                tokyo, dealer, dollar, pois, breach   \n",
       "\n",
       "                                                topics  \n",
       "4                                interest, retail, ipi  \n",
       "25                                               trade  \n",
       "48                                    ship, iron-steel  \n",
       "66                                                earn  \n",
       "70                                              coffee  \n",
       "92                                  money-fx, reserves  \n",
       "100                                 carcass, livestock  \n",
       "164                                                gnp  \n",
       "173                                              crude  \n",
       "222                                               earn  \n",
       "231                               earn, crude, nat-gas  \n",
       "266                                             coffee  \n",
       "289                                             retail  \n",
       "469                                              cocoa  \n",
       "476                                                acq  \n",
       "489               grain, wheat, corn, oilseed, soybean  \n",
       "547                                 gnp, cpi, reserves  \n",
       "563                                l-cattle, livestock  \n",
       "601                             money-supply, interest  \n",
       "602                                             coffee  \n",
       "624                                                gnp  \n",
       "629                                              sugar  \n",
       "664                                                acq  \n",
       "691                                               earn  \n",
       "743                                                wpi  \n",
       "808                                           money-fx  \n",
       "943                            interest, gnp, ipi, wpi  \n",
       "987                                        grain, corn  \n",
       "1077                                        acq, crude  \n",
       "1079                                             crude  \n",
       "...                                                ...  \n",
       "19202                                           rubber  \n",
       "19335                                             rand  \n",
       "19435                                   crude, nat-gas  \n",
       "19469                               sugar, grain, corn  \n",
       "19520  grain, corn, oilseed, soybean, sorghum, sunseed  \n",
       "19581                                              acq  \n",
       "19637                                              acq  \n",
       "19666                                      grain, corn  \n",
       "19705                                             earn  \n",
       "19732                                              acq  \n",
       "19748                                       bop, trade  \n",
       "19753                               livestock, carcass  \n",
       "19759                                             earn  \n",
       "19763                                         money-fx  \n",
       "19781                                     grain, wheat  \n",
       "19783                   trade, bop, interest, money-fx  \n",
       "19792                                     grain, wheat  \n",
       "19847              trade, bop, interest, stg, money-fx  \n",
       "19945                               money-fx, dlr, yen  \n",
       "19974                                         money-fx  \n",
       "19977                                              acq  \n",
       "20001                                      crude, ship  \n",
       "20005                                      crude, ship  \n",
       "20130                                            crude  \n",
       "20276                                         money-fx  \n",
       "20421                               money-fx, interest  \n",
       "20485                                    propane, ship  \n",
       "20507                               money-fx, interest  \n",
       "20541                          money-fx, dlr, yen, dmk  \n",
       "20572                               money-fx, dlr, yen  \n",
       "\n",
       "[513 rows x 4 columns]"
      ]
     },
     "execution_count": 35,
     "metadata": {},
     "output_type": "execute_result"
    }
   ],
   "source": [
    "count = df_filter['body'].str.split().str.len()\n",
    "df_filter = df_filter[~(count<200)]\n",
    "df_filter.reset_index()\n",
    "df_filter"
   ]
  },
  {
   "cell_type": "markdown",
   "metadata": {},
   "source": [
    "**The number of documents after preprocessing are 513**"
   ]
  },
  {
   "cell_type": "markdown",
   "metadata": {},
   "source": [
    "# Data Visualization"
   ]
  },
  {
   "cell_type": "code",
   "execution_count": 56,
   "metadata": {},
   "outputs": [],
   "source": [
    "# Function to get top n words from any columns\n",
    "def get_top_n_words(corpus, n=None):\n",
    "    vec = CountVectorizer().fit(corpus)\n",
    "    bag_of_words = vec.transform(corpus)\n",
    "    sum_words = bag_of_words.sum(axis=0) \n",
    "    words_freq = [(word, sum_words[0, idx]) for word, idx in vec.vocabulary_.items()]\n",
    "    words_freq =sorted(words_freq, key = lambda x: x[1], reverse=True)\n",
    "    return words_freq[:n]"
   ]
  },
  {
   "cell_type": "markdown",
   "metadata": {},
   "source": [
    "**Group by Topics**"
   ]
  },
  {
   "cell_type": "code",
   "execution_count": 47,
   "metadata": {},
   "outputs": [
    {
     "data": {
      "text/html": [
       "        <script type=\"text/javascript\">\n",
       "        window.PlotlyConfig = {MathJaxConfig: 'local'};\n",
       "        if (window.MathJax) {MathJax.Hub.Config({SVG: {font: \"STIX-Web\"}});}\n",
       "        if (typeof require !== 'undefined') {\n",
       "        require.undef(\"plotly\");\n",
       "        requirejs.config({\n",
       "            paths: {\n",
       "                'plotly': ['https://cdn.plot.ly/plotly-latest.min']\n",
       "            }\n",
       "        });\n",
       "        require(['plotly'], function(Plotly) {\n",
       "            window._Plotly = Plotly;\n",
       "        });\n",
       "        }\n",
       "        </script>\n",
       "        "
      ]
     },
     "metadata": {},
     "output_type": "display_data"
    },
    {
     "data": {
      "application/vnd.plotly.v1+json": {
       "config": {
        "linkText": "Export to plot.ly",
        "plotlyServerURL": "https://plot.ly",
        "showLink": true
       },
       "data": [
        {
         "histfunc": "count",
         "histnorm": "",
         "marker": {
          "color": "rgba(255, 153, 51, 1.0)",
          "line": {
           "color": "#000000",
           "width": 1.3
          }
         },
         "name": "topics",
         "nbinsx": 100,
         "opacity": 0.8,
         "orientation": "v",
         "type": "histogram",
         "x": [
          "interest, retail, ipi",
          "trade",
          "ship, iron-steel",
          "earn",
          "coffee",
          "money-fx, reserves",
          "carcass, livestock",
          "gnp",
          "crude",
          "earn",
          "earn, crude, nat-gas",
          "coffee",
          "retail",
          "cocoa",
          "acq",
          "grain, wheat, corn, oilseed, soybean",
          "gnp, cpi, reserves",
          "l-cattle, livestock",
          "money-supply, interest",
          "coffee",
          "gnp",
          "sugar",
          "acq",
          "earn",
          "wpi",
          "money-fx",
          "interest, gnp, ipi, wpi",
          "grain, corn",
          "acq, crude",
          "crude",
          "money-fx, interest",
          "grain, sugar, livestock, carcass",
          "ipi",
          "money-supply, interest",
          "trade",
          "trade, grain, wheat, tea, coffee, iron-steel, crude",
          "earn",
          "sugar",
          "acq",
          "money-fx, dfl",
          "trade",
          "sugar",
          "trade",
          "crude, ship",
          "trade",
          "cotton",
          "alum",
          "money-fx, dlr",
          "trade",
          "trade",
          "money-fx, yen, dlr",
          "trade",
          "cocoa",
          "trade, money-fx",
          "trade",
          "money-fx, trade",
          "acq",
          "money-fx",
          "grain, wheat, rice",
          "coffee",
          "trade",
          "nzdlr, austdlr",
          "interest, gnp",
          "earn",
          "trade",
          "acq",
          "trade",
          "money-fx, yen",
          "acq, sugar, crude",
          "tin, sugar, grain, wheat, cocoa, coffee, rubber",
          "trade",
          "money-fx",
          "sugar",
          "trade",
          "earn",
          "acq",
          "trade",
          "acq",
          "earn",
          "money-fx",
          "grain, corn, oilseed, soybean",
          "interest",
          "earn",
          "money-fx",
          "acq",
          "grain",
          "earn",
          "gold",
          "gnp, coffee, bop",
          "hog, livestock",
          "money-fx",
          "grain, corn",
          "interest",
          "rubber",
          "crude",
          "trade, veg-oil",
          "crude",
          "money-fx",
          "money-fx",
          "money-fx, yen, gnp",
          "sugar",
          "cocoa",
          "money-fx, yen, gnp",
          "crude",
          "money-fx, dlr, interest",
          "cpi",
          "earn",
          "trade",
          "money-fx",
          "money-fx, peseta",
          "grain, wheat, corn, cotton, sorghum, barley, corn",
          "coffee",
          "earn",
          "trade, ship, crude",
          "trade",
          "trade, coffee",
          "oilseed, veg-oil",
          "money-fx, dlr",
          "earn",
          "grain",
          "acq",
          "copper",
          "money-fx",
          "gnp",
          "copper",
          "bop, trade",
          "gnp",
          "trade",
          "money-fx",
          "veg-oil, palm-oil, coconut-oil",
          "crude",
          "money-supply",
          "oilseed, rapeseed, grain, wheat, corn, palm-oil, soy-oil, ship",
          "gnp, gas",
          "money-fx",
          "crude",
          "money-fx",
          "earn",
          "crude",
          "trade, gnp",
          "cocoa",
          "money-fx, dlr",
          "trade",
          "money-supply, money-fx",
          "grain, wheat, corn",
          "cocoa",
          "gold",
          "trade",
          "iron-steel",
          "rubber",
          "money-supply, money-fx, interest",
          "grain, wheat",
          "oilseed, soybean",
          "earn",
          "trade, money-fx",
          "acq",
          "money-supply, interest",
          "grain, rice, wheat, tea, sugar",
          "lumber",
          "trade, money-fx",
          "earn, crude",
          "earn, acq",
          "grain, wheat, corn",
          "reserves",
          "crude",
          "interest",
          "dlr, money-fx",
          "interest, bop, money-supply",
          "acq",
          "housing, interest, gnp",
          "grain, wheat",
          "money-fx, yen",
          "acq",
          "interest",
          "money-fx, yen",
          "money-fx, interest",
          "interest, trade, gnp, bop, cpi",
          "money-fx, interest",
          "acq",
          "l-cattle",
          "interest, money-fx",
          "ship",
          "grain, corn, ship",
          "jobs",
          "crude, nat-gas",
          "sugar",
          "acq",
          "earn",
          "crude, nat-gas",
          "crude, nat-gas, earn",
          "acq",
          "crude, nat-gas",
          "grain, corn, sorghum, sunseed, oilseed, soybean",
          "acq",
          "trade",
          "crude",
          "wheat, corn, soybean, grain, oilseed",
          "coffee",
          "dlr, money-fx",
          "grain, oilseed, sunseed, corn, soybean, sorghum",
          "acq",
          "coffee",
          "gas",
          "interest, dlr",
          "coffee",
          "grain, wheat, corn, sugar, carcass, livestock, groundnut, oilseed, cotton, veg-oil",
          "earn",
          "earn",
          "acq",
          "grain, wheat",
          "earn",
          "acq",
          "interest, money-fx, stg",
          "earn",
          "interest, money-fx",
          "coffee",
          "stg, money-fx",
          "coffee",
          "grain, wheat, corn, oilseed, soybean",
          "sugar",
          "sugar",
          "money-fx",
          "money-fx",
          "money-fx",
          "acq",
          "trade",
          "wheat, grain",
          "earn",
          "wheat, grain",
          "money-fx, grain, cotton, livestock, gold, silver",
          "interest, money-fx, dlr",
          "money-fx, interest",
          "acq",
          "trade",
          "gnp, jobs, bop, cpi",
          "acq",
          "gnp",
          "money-fx, trade",
          "dlr",
          "acq",
          "acq",
          "gnp, bop, cpi",
          "money-supply, cpi, gnp",
          "acq",
          "interest, money-fx",
          "crude",
          "acq",
          "acq",
          "bop",
          "trade",
          "trade, carcass, orange, rice",
          "trade",
          "trade",
          "trade",
          "trade, gnp, bop, reserves, money-fx",
          "trade",
          "earn, crude",
          "interest",
          "coffee",
          "gnp, jobs",
          "interest",
          "acq",
          "retail",
          "trade, money-fx",
          "money-fx, dlr, yen",
          "grain, wheat",
          "acq",
          "crude",
          "earn",
          "acq",
          "coffee, oilseed, soybean, trade, sugar, cocoa",
          "money-supply",
          "jobs, ipi, gnp, income, trade, retail",
          "interest, money-fx",
          "interest",
          "crude",
          "earn",
          "ship, gas",
          "acq",
          "interest, crude",
          "interest",
          "trade, gnp, bop, dlr",
          "interest, money-fx, dlr",
          "acq",
          "gnp, jobs, cpi, bop, dfl",
          "earn",
          "trade, bop, money-fx, crude, gnp, dlr",
          "interest",
          "money-fx, dlr, trade, acq",
          "acq",
          "grain",
          "trade",
          "bop",
          "trade, bop",
          "interest",
          "money-fx, stg, can",
          "oilseed, soybean, veg-oil, palm-oil, coconut-oil",
          "crude",
          "crude",
          "trade, money-fx, cpi, reserves",
          "bop, trade",
          "interest",
          "crude, nat-gas",
          "crude, ship",
          "trade",
          "grain, corn, sorghum, sunseed, oilseed",
          "earn",
          "grain",
          "crude",
          "coffee",
          "rubber",
          "interest, money-fx",
          "money-fx, interest",
          "coffee",
          "grain, corn, sorghum, oilseed, sunseed, soybean",
          "bop, trade, gnp",
          "crude",
          "earn",
          "interest, money-fx",
          "trade",
          "acq",
          "acq, earn",
          "coffee",
          "earn",
          "money-fx, dlr, yen",
          "gnp",
          "trade",
          "crude",
          "grain, corn, sorghum, sunseed, wheat, oilseed, soybean",
          "pet-chem, crude, acq, earn",
          "acq",
          "earn",
          "livestock, carcass",
          "trade",
          "interest, money-fx",
          "acq, trade",
          "dlr, money-fx",
          "money-fx, interest",
          "money-fx",
          "dlr, money-fx",
          "dlr, yen",
          "gnp",
          "lead",
          "interest",
          "iron-steel",
          "retail",
          "trade",
          "grain, corn, oilseed, soybean, soy-meal, meal-feed, veg-oil, soy-oil, cotton, sorghum, cotton-oil, barley, oat, rice",
          "grain, oilseed, meal-feed, veg-oil, corn, wheat, soybean, soy-oil, soy-meal, cotton, rice, sorghum, barley, oat",
          "bop, trade",
          "trade",
          "sugar, livestock",
          "crude, gas, heat",
          "money-fx, dlr, yen, can, stg",
          "dlr, money-fx, trade, cpi, money-supply",
          "trade",
          "acq",
          "trade, rice, livestock, carcass, grain, corn, oilseed, soybean",
          "trade, bop",
          "interest, money-fx",
          "gnp, cpi",
          "acq",
          "money-fx, dlr",
          "acq",
          "acq",
          "crude",
          "cpi, gnp",
          "grain, wheat",
          "veg-oil, oilseed, meal-feed, soybean, soy-oil, soy-meal",
          "money-supply",
          "cpi, gnp",
          "gnp, bop",
          "coffee",
          "grain, wheat, rice, veg-oil, soybean, sugar, rubber, copra-cake, corn, palm-oil, palmkernel, coffee, tea, plywood, soy-meal, cotton",
          "crude",
          "crude",
          "money-fx",
          "tin",
          "trade",
          "acq",
          "acq",
          "acq",
          "acq",
          "earn, acq",
          "acq",
          "gnp, trade",
          "coffee",
          "earn",
          "trade",
          "money-supply, money-fx, dlr",
          "money-fx, reserves",
          "gas",
          "interest",
          "crude",
          "acq",
          "gnp",
          "interest",
          "crude, fuel, naphtha",
          "crude",
          "crude",
          "ship, crude",
          "acq",
          "interest, money-fx",
          "acq",
          "acq, copper",
          "carcass",
          "money-fx",
          "veg-oil",
          "cocoa",
          "veg-oil",
          "grain, corn, oilseed, soybean",
          "grain, oilseed, soybean, corn, meal-feed, soy-meal",
          "gold",
          "veg-oil",
          "dlr, money-fx, trade",
          "gnp",
          "money-fx, reserves, trade",
          "zinc",
          "sugar",
          "coffee",
          "grain, corn",
          "crude",
          "interest, reserves, jobs, income",
          "veg-oil",
          "copper",
          "nat-gas",
          "acq",
          "gnp, jobs, cpi",
          "cocoa",
          "interest",
          "interest",
          "crude",
          "coffee",
          "money-fx",
          "interest",
          "trade, livestock, carcass, sugar",
          "money-fx, interest",
          "trade, livestock, carcass, grain, wheat",
          "crude",
          "money-fx, interest",
          "trade",
          "money-fx, dlr",
          "sugar, grain, corn",
          "ship, grain",
          "trade",
          "crude, nat-gas, fuel",
          "trade",
          "tin",
          "rubber",
          "crude",
          "money-fx",
          "trade",
          "money-fx",
          "acq",
          "interest",
          "trade",
          "coffee, ship",
          "crude, nat-gas",
          "trade",
          "crude, ship",
          "acq",
          "acq, earn",
          "money-fx",
          "earn",
          "earn",
          "money-fx, dlr",
          "acq",
          "money-fx, dlr",
          "acq",
          "money-fx, dlr",
          "retail, jobs, gnp, inventories, trade, cpi",
          "money-fx",
          "earn, crude, nat-gas",
          "money-fx, stg, interest",
          "grain",
          "cocoa",
          "money-fx, dlr",
          "acq",
          "grain, corn, oilseed, soybean",
          "trade",
          "acq",
          "earn",
          "money-fx, saudriyal",
          "rubber",
          "rand",
          "crude, nat-gas",
          "sugar, grain, corn",
          "grain, corn, oilseed, soybean, sorghum, sunseed",
          "acq",
          "acq",
          "grain, corn",
          "earn",
          "acq",
          "bop, trade",
          "livestock, carcass",
          "earn",
          "money-fx",
          "grain, wheat",
          "trade, bop, interest, money-fx",
          "grain, wheat",
          "trade, bop, interest, stg, money-fx",
          "money-fx, dlr, yen",
          "money-fx",
          "acq",
          "crude, ship",
          "crude, ship",
          "crude",
          "money-fx",
          "money-fx, interest",
          "propane, ship",
          "money-fx, interest",
          "money-fx, dlr, yen, dmk",
          "money-fx, dlr, yen"
         ]
        }
       ],
       "layout": {
        "barmode": "overlay",
        "legend": {
         "bgcolor": "#F5F6F9",
         "font": {
          "color": "#4D5663"
         }
        },
        "paper_bgcolor": "#F5F6F9",
        "plot_bgcolor": "#F5F6F9",
        "template": {
         "data": {
          "bar": [
           {
            "error_x": {
             "color": "#2a3f5f"
            },
            "error_y": {
             "color": "#2a3f5f"
            },
            "marker": {
             "line": {
              "color": "#E5ECF6",
              "width": 0.5
             }
            },
            "type": "bar"
           }
          ],
          "barpolar": [
           {
            "marker": {
             "line": {
              "color": "#E5ECF6",
              "width": 0.5
             }
            },
            "type": "barpolar"
           }
          ],
          "carpet": [
           {
            "aaxis": {
             "endlinecolor": "#2a3f5f",
             "gridcolor": "white",
             "linecolor": "white",
             "minorgridcolor": "white",
             "startlinecolor": "#2a3f5f"
            },
            "baxis": {
             "endlinecolor": "#2a3f5f",
             "gridcolor": "white",
             "linecolor": "white",
             "minorgridcolor": "white",
             "startlinecolor": "#2a3f5f"
            },
            "type": "carpet"
           }
          ],
          "choropleth": [
           {
            "colorbar": {
             "outlinewidth": 0,
             "ticks": ""
            },
            "type": "choropleth"
           }
          ],
          "contour": [
           {
            "colorbar": {
             "outlinewidth": 0,
             "ticks": ""
            },
            "colorscale": [
             [
              0,
              "#0d0887"
             ],
             [
              0.1111111111111111,
              "#46039f"
             ],
             [
              0.2222222222222222,
              "#7201a8"
             ],
             [
              0.3333333333333333,
              "#9c179e"
             ],
             [
              0.4444444444444444,
              "#bd3786"
             ],
             [
              0.5555555555555556,
              "#d8576b"
             ],
             [
              0.6666666666666666,
              "#ed7953"
             ],
             [
              0.7777777777777778,
              "#fb9f3a"
             ],
             [
              0.8888888888888888,
              "#fdca26"
             ],
             [
              1,
              "#f0f921"
             ]
            ],
            "type": "contour"
           }
          ],
          "contourcarpet": [
           {
            "colorbar": {
             "outlinewidth": 0,
             "ticks": ""
            },
            "type": "contourcarpet"
           }
          ],
          "heatmap": [
           {
            "colorbar": {
             "outlinewidth": 0,
             "ticks": ""
            },
            "colorscale": [
             [
              0,
              "#0d0887"
             ],
             [
              0.1111111111111111,
              "#46039f"
             ],
             [
              0.2222222222222222,
              "#7201a8"
             ],
             [
              0.3333333333333333,
              "#9c179e"
             ],
             [
              0.4444444444444444,
              "#bd3786"
             ],
             [
              0.5555555555555556,
              "#d8576b"
             ],
             [
              0.6666666666666666,
              "#ed7953"
             ],
             [
              0.7777777777777778,
              "#fb9f3a"
             ],
             [
              0.8888888888888888,
              "#fdca26"
             ],
             [
              1,
              "#f0f921"
             ]
            ],
            "type": "heatmap"
           }
          ],
          "heatmapgl": [
           {
            "colorbar": {
             "outlinewidth": 0,
             "ticks": ""
            },
            "colorscale": [
             [
              0,
              "#0d0887"
             ],
             [
              0.1111111111111111,
              "#46039f"
             ],
             [
              0.2222222222222222,
              "#7201a8"
             ],
             [
              0.3333333333333333,
              "#9c179e"
             ],
             [
              0.4444444444444444,
              "#bd3786"
             ],
             [
              0.5555555555555556,
              "#d8576b"
             ],
             [
              0.6666666666666666,
              "#ed7953"
             ],
             [
              0.7777777777777778,
              "#fb9f3a"
             ],
             [
              0.8888888888888888,
              "#fdca26"
             ],
             [
              1,
              "#f0f921"
             ]
            ],
            "type": "heatmapgl"
           }
          ],
          "histogram": [
           {
            "marker": {
             "colorbar": {
              "outlinewidth": 0,
              "ticks": ""
             }
            },
            "type": "histogram"
           }
          ],
          "histogram2d": [
           {
            "colorbar": {
             "outlinewidth": 0,
             "ticks": ""
            },
            "colorscale": [
             [
              0,
              "#0d0887"
             ],
             [
              0.1111111111111111,
              "#46039f"
             ],
             [
              0.2222222222222222,
              "#7201a8"
             ],
             [
              0.3333333333333333,
              "#9c179e"
             ],
             [
              0.4444444444444444,
              "#bd3786"
             ],
             [
              0.5555555555555556,
              "#d8576b"
             ],
             [
              0.6666666666666666,
              "#ed7953"
             ],
             [
              0.7777777777777778,
              "#fb9f3a"
             ],
             [
              0.8888888888888888,
              "#fdca26"
             ],
             [
              1,
              "#f0f921"
             ]
            ],
            "type": "histogram2d"
           }
          ],
          "histogram2dcontour": [
           {
            "colorbar": {
             "outlinewidth": 0,
             "ticks": ""
            },
            "colorscale": [
             [
              0,
              "#0d0887"
             ],
             [
              0.1111111111111111,
              "#46039f"
             ],
             [
              0.2222222222222222,
              "#7201a8"
             ],
             [
              0.3333333333333333,
              "#9c179e"
             ],
             [
              0.4444444444444444,
              "#bd3786"
             ],
             [
              0.5555555555555556,
              "#d8576b"
             ],
             [
              0.6666666666666666,
              "#ed7953"
             ],
             [
              0.7777777777777778,
              "#fb9f3a"
             ],
             [
              0.8888888888888888,
              "#fdca26"
             ],
             [
              1,
              "#f0f921"
             ]
            ],
            "type": "histogram2dcontour"
           }
          ],
          "mesh3d": [
           {
            "colorbar": {
             "outlinewidth": 0,
             "ticks": ""
            },
            "type": "mesh3d"
           }
          ],
          "parcoords": [
           {
            "line": {
             "colorbar": {
              "outlinewidth": 0,
              "ticks": ""
             }
            },
            "type": "parcoords"
           }
          ],
          "scatter": [
           {
            "marker": {
             "colorbar": {
              "outlinewidth": 0,
              "ticks": ""
             }
            },
            "type": "scatter"
           }
          ],
          "scatter3d": [
           {
            "line": {
             "colorbar": {
              "outlinewidth": 0,
              "ticks": ""
             }
            },
            "marker": {
             "colorbar": {
              "outlinewidth": 0,
              "ticks": ""
             }
            },
            "type": "scatter3d"
           }
          ],
          "scattercarpet": [
           {
            "marker": {
             "colorbar": {
              "outlinewidth": 0,
              "ticks": ""
             }
            },
            "type": "scattercarpet"
           }
          ],
          "scattergeo": [
           {
            "marker": {
             "colorbar": {
              "outlinewidth": 0,
              "ticks": ""
             }
            },
            "type": "scattergeo"
           }
          ],
          "scattergl": [
           {
            "marker": {
             "colorbar": {
              "outlinewidth": 0,
              "ticks": ""
             }
            },
            "type": "scattergl"
           }
          ],
          "scattermapbox": [
           {
            "marker": {
             "colorbar": {
              "outlinewidth": 0,
              "ticks": ""
             }
            },
            "type": "scattermapbox"
           }
          ],
          "scatterpolar": [
           {
            "marker": {
             "colorbar": {
              "outlinewidth": 0,
              "ticks": ""
             }
            },
            "type": "scatterpolar"
           }
          ],
          "scatterpolargl": [
           {
            "marker": {
             "colorbar": {
              "outlinewidth": 0,
              "ticks": ""
             }
            },
            "type": "scatterpolargl"
           }
          ],
          "scatterternary": [
           {
            "marker": {
             "colorbar": {
              "outlinewidth": 0,
              "ticks": ""
             }
            },
            "type": "scatterternary"
           }
          ],
          "surface": [
           {
            "colorbar": {
             "outlinewidth": 0,
             "ticks": ""
            },
            "colorscale": [
             [
              0,
              "#0d0887"
             ],
             [
              0.1111111111111111,
              "#46039f"
             ],
             [
              0.2222222222222222,
              "#7201a8"
             ],
             [
              0.3333333333333333,
              "#9c179e"
             ],
             [
              0.4444444444444444,
              "#bd3786"
             ],
             [
              0.5555555555555556,
              "#d8576b"
             ],
             [
              0.6666666666666666,
              "#ed7953"
             ],
             [
              0.7777777777777778,
              "#fb9f3a"
             ],
             [
              0.8888888888888888,
              "#fdca26"
             ],
             [
              1,
              "#f0f921"
             ]
            ],
            "type": "surface"
           }
          ],
          "table": [
           {
            "cells": {
             "fill": {
              "color": "#EBF0F8"
             },
             "line": {
              "color": "white"
             }
            },
            "header": {
             "fill": {
              "color": "#C8D4E3"
             },
             "line": {
              "color": "white"
             }
            },
            "type": "table"
           }
          ]
         },
         "layout": {
          "annotationdefaults": {
           "arrowcolor": "#2a3f5f",
           "arrowhead": 0,
           "arrowwidth": 1
          },
          "colorscale": {
           "diverging": [
            [
             0,
             "#8e0152"
            ],
            [
             0.1,
             "#c51b7d"
            ],
            [
             0.2,
             "#de77ae"
            ],
            [
             0.3,
             "#f1b6da"
            ],
            [
             0.4,
             "#fde0ef"
            ],
            [
             0.5,
             "#f7f7f7"
            ],
            [
             0.6,
             "#e6f5d0"
            ],
            [
             0.7,
             "#b8e186"
            ],
            [
             0.8,
             "#7fbc41"
            ],
            [
             0.9,
             "#4d9221"
            ],
            [
             1,
             "#276419"
            ]
           ],
           "sequential": [
            [
             0,
             "#0d0887"
            ],
            [
             0.1111111111111111,
             "#46039f"
            ],
            [
             0.2222222222222222,
             "#7201a8"
            ],
            [
             0.3333333333333333,
             "#9c179e"
            ],
            [
             0.4444444444444444,
             "#bd3786"
            ],
            [
             0.5555555555555556,
             "#d8576b"
            ],
            [
             0.6666666666666666,
             "#ed7953"
            ],
            [
             0.7777777777777778,
             "#fb9f3a"
            ],
            [
             0.8888888888888888,
             "#fdca26"
            ],
            [
             1,
             "#f0f921"
            ]
           ],
           "sequentialminus": [
            [
             0,
             "#0d0887"
            ],
            [
             0.1111111111111111,
             "#46039f"
            ],
            [
             0.2222222222222222,
             "#7201a8"
            ],
            [
             0.3333333333333333,
             "#9c179e"
            ],
            [
             0.4444444444444444,
             "#bd3786"
            ],
            [
             0.5555555555555556,
             "#d8576b"
            ],
            [
             0.6666666666666666,
             "#ed7953"
            ],
            [
             0.7777777777777778,
             "#fb9f3a"
            ],
            [
             0.8888888888888888,
             "#fdca26"
            ],
            [
             1,
             "#f0f921"
            ]
           ]
          },
          "colorway": [
           "#636efa",
           "#EF553B",
           "#00cc96",
           "#ab63fa",
           "#FFA15A",
           "#19d3f3",
           "#FF6692",
           "#B6E880",
           "#FF97FF",
           "#FECB52"
          ],
          "font": {
           "color": "#2a3f5f"
          },
          "geo": {
           "bgcolor": "white",
           "lakecolor": "white",
           "landcolor": "#E5ECF6",
           "showlakes": true,
           "showland": true,
           "subunitcolor": "white"
          },
          "hoverlabel": {
           "align": "left"
          },
          "hovermode": "closest",
          "mapbox": {
           "style": "light"
          },
          "paper_bgcolor": "white",
          "plot_bgcolor": "#E5ECF6",
          "polar": {
           "angularaxis": {
            "gridcolor": "white",
            "linecolor": "white",
            "ticks": ""
           },
           "bgcolor": "#E5ECF6",
           "radialaxis": {
            "gridcolor": "white",
            "linecolor": "white",
            "ticks": ""
           }
          },
          "scene": {
           "xaxis": {
            "backgroundcolor": "#E5ECF6",
            "gridcolor": "white",
            "gridwidth": 2,
            "linecolor": "white",
            "showbackground": true,
            "ticks": "",
            "zerolinecolor": "white"
           },
           "yaxis": {
            "backgroundcolor": "#E5ECF6",
            "gridcolor": "white",
            "gridwidth": 2,
            "linecolor": "white",
            "showbackground": true,
            "ticks": "",
            "zerolinecolor": "white"
           },
           "zaxis": {
            "backgroundcolor": "#E5ECF6",
            "gridcolor": "white",
            "gridwidth": 2,
            "linecolor": "white",
            "showbackground": true,
            "ticks": "",
            "zerolinecolor": "white"
           }
          },
          "shapedefaults": {
           "line": {
            "color": "#2a3f5f"
           }
          },
          "ternary": {
           "aaxis": {
            "gridcolor": "white",
            "linecolor": "white",
            "ticks": ""
           },
           "baxis": {
            "gridcolor": "white",
            "linecolor": "white",
            "ticks": ""
           },
           "bgcolor": "#E5ECF6",
           "caxis": {
            "gridcolor": "white",
            "linecolor": "white",
            "ticks": ""
           }
          },
          "title": {
           "x": 0.05
          },
          "xaxis": {
           "automargin": true,
           "gridcolor": "white",
           "linecolor": "white",
           "ticks": "",
           "zerolinecolor": "white",
           "zerolinewidth": 2
          },
          "yaxis": {
           "automargin": true,
           "gridcolor": "white",
           "linecolor": "white",
           "ticks": "",
           "zerolinecolor": "white",
           "zerolinewidth": 2
          }
         }
        },
        "title": {
         "font": {
          "color": "#4D5663"
         },
         "text": " Distribution"
        },
        "xaxis": {
         "gridcolor": "#E1E5ED",
         "linecolor": "black",
         "showgrid": true,
         "tickfont": {
          "color": "#4D5663"
         },
         "title": {
          "font": {
           "color": "#4D5663"
          },
          "text": "Topics"
         },
         "zerolinecolor": "#E1E5ED"
        },
        "yaxis": {
         "gridcolor": "#E1E5ED",
         "linecolor": "black",
         "showgrid": true,
         "tickfont": {
          "color": "#4D5663"
         },
         "title": {
          "font": {
           "color": "#4D5663"
          },
          "text": "count"
         },
         "zerolinecolor": "#E1E5ED"
        }
       }
      },
      "text/html": [
       "<div>\n",
       "        \n",
       "        \n",
       "            <div id=\"e3fbcdf7-e8a1-47bd-839c-47345351bd5f\" class=\"plotly-graph-div\" style=\"height:525px; width:100%;\"></div>\n",
       "            <script type=\"text/javascript\">\n",
       "                require([\"plotly\"], function(Plotly) {\n",
       "                    window.PLOTLYENV=window.PLOTLYENV || {};\n",
       "                    window.PLOTLYENV.BASE_URL='https://plot.ly';\n",
       "                    \n",
       "                if (document.getElementById(\"e3fbcdf7-e8a1-47bd-839c-47345351bd5f\")) {\n",
       "                    Plotly.newPlot(\n",
       "                        'e3fbcdf7-e8a1-47bd-839c-47345351bd5f',\n",
       "                        [{\"histfunc\": \"count\", \"histnorm\": \"\", \"marker\": {\"color\": \"rgba(255, 153, 51, 1.0)\", \"line\": {\"color\": \"#000000\", \"width\": 1.3}}, \"name\": \"topics\", \"nbinsx\": 100, \"opacity\": 0.8, \"orientation\": \"v\", \"type\": \"histogram\", \"x\": [\"interest, retail, ipi\", \"trade\", \"ship, iron-steel\", \"earn\", \"coffee\", \"money-fx, reserves\", \"carcass, livestock\", \"gnp\", \"crude\", \"earn\", \"earn, crude, nat-gas\", \"coffee\", \"retail\", \"cocoa\", \"acq\", \"grain, wheat, corn, oilseed, soybean\", \"gnp, cpi, reserves\", \"l-cattle, livestock\", \"money-supply, interest\", \"coffee\", \"gnp\", \"sugar\", \"acq\", \"earn\", \"wpi\", \"money-fx\", \"interest, gnp, ipi, wpi\", \"grain, corn\", \"acq, crude\", \"crude\", \"money-fx, interest\", \"grain, sugar, livestock, carcass\", \"ipi\", \"money-supply, interest\", \"trade\", \"trade, grain, wheat, tea, coffee, iron-steel, crude\", \"earn\", \"sugar\", \"acq\", \"money-fx, dfl\", \"trade\", \"sugar\", \"trade\", \"crude, ship\", \"trade\", \"cotton\", \"alum\", \"money-fx, dlr\", \"trade\", \"trade\", \"money-fx, yen, dlr\", \"trade\", \"cocoa\", \"trade, money-fx\", \"trade\", \"money-fx, trade\", \"acq\", \"money-fx\", \"grain, wheat, rice\", \"coffee\", \"trade\", \"nzdlr, austdlr\", \"interest, gnp\", \"earn\", \"trade\", \"acq\", \"trade\", \"money-fx, yen\", \"acq, sugar, crude\", \"tin, sugar, grain, wheat, cocoa, coffee, rubber\", \"trade\", \"money-fx\", \"sugar\", \"trade\", \"earn\", \"acq\", \"trade\", \"acq\", \"earn\", \"money-fx\", \"grain, corn, oilseed, soybean\", \"interest\", \"earn\", \"money-fx\", \"acq\", \"grain\", \"earn\", \"gold\", \"gnp, coffee, bop\", \"hog, livestock\", \"money-fx\", \"grain, corn\", \"interest\", \"rubber\", \"crude\", \"trade, veg-oil\", \"crude\", \"money-fx\", \"money-fx\", \"money-fx, yen, gnp\", \"sugar\", \"cocoa\", \"money-fx, yen, gnp\", \"crude\", \"money-fx, dlr, interest\", \"cpi\", \"earn\", \"trade\", \"money-fx\", \"money-fx, peseta\", \"grain, wheat, corn, cotton, sorghum, barley, corn\", \"coffee\", \"earn\", \"trade, ship, crude\", \"trade\", \"trade, coffee\", \"oilseed, veg-oil\", \"money-fx, dlr\", \"earn\", \"grain\", \"acq\", \"copper\", \"money-fx\", \"gnp\", \"copper\", \"bop, trade\", \"gnp\", \"trade\", \"money-fx\", \"veg-oil, palm-oil, coconut-oil\", \"crude\", \"money-supply\", \"oilseed, rapeseed, grain, wheat, corn, palm-oil, soy-oil, ship\", \"gnp, gas\", \"money-fx\", \"crude\", \"money-fx\", \"earn\", \"crude\", \"trade, gnp\", \"cocoa\", \"money-fx, dlr\", \"trade\", \"money-supply, money-fx\", \"grain, wheat, corn\", \"cocoa\", \"gold\", \"trade\", \"iron-steel\", \"rubber\", \"money-supply, money-fx, interest\", \"grain, wheat\", \"oilseed, soybean\", \"earn\", \"trade, money-fx\", \"acq\", \"money-supply, interest\", \"grain, rice, wheat, tea, sugar\", \"lumber\", \"trade, money-fx\", \"earn, crude\", \"earn, acq\", \"grain, wheat, corn\", \"reserves\", \"crude\", \"interest\", \"dlr, money-fx\", \"interest, bop, money-supply\", \"acq\", \"housing, interest, gnp\", \"grain, wheat\", \"money-fx, yen\", \"acq\", \"interest\", \"money-fx, yen\", \"money-fx, interest\", \"interest, trade, gnp, bop, cpi\", \"money-fx, interest\", \"acq\", \"l-cattle\", \"interest, money-fx\", \"ship\", \"grain, corn, ship\", \"jobs\", \"crude, nat-gas\", \"sugar\", \"acq\", \"earn\", \"crude, nat-gas\", \"crude, nat-gas, earn\", \"acq\", \"crude, nat-gas\", \"grain, corn, sorghum, sunseed, oilseed, soybean\", \"acq\", \"trade\", \"crude\", \"wheat, corn, soybean, grain, oilseed\", \"coffee\", \"dlr, money-fx\", \"grain, oilseed, sunseed, corn, soybean, sorghum\", \"acq\", \"coffee\", \"gas\", \"interest, dlr\", \"coffee\", \"grain, wheat, corn, sugar, carcass, livestock, groundnut, oilseed, cotton, veg-oil\", \"earn\", \"earn\", \"acq\", \"grain, wheat\", \"earn\", \"acq\", \"interest, money-fx, stg\", \"earn\", \"interest, money-fx\", \"coffee\", \"stg, money-fx\", \"coffee\", \"grain, wheat, corn, oilseed, soybean\", \"sugar\", \"sugar\", \"money-fx\", \"money-fx\", \"money-fx\", \"acq\", \"trade\", \"wheat, grain\", \"earn\", \"wheat, grain\", \"money-fx, grain, cotton, livestock, gold, silver\", \"interest, money-fx, dlr\", \"money-fx, interest\", \"acq\", \"trade\", \"gnp, jobs, bop, cpi\", \"acq\", \"gnp\", \"money-fx, trade\", \"dlr\", \"acq\", \"acq\", \"gnp, bop, cpi\", \"money-supply, cpi, gnp\", \"acq\", \"interest, money-fx\", \"crude\", \"acq\", \"acq\", \"bop\", \"trade\", \"trade, carcass, orange, rice\", \"trade\", \"trade\", \"trade\", \"trade, gnp, bop, reserves, money-fx\", \"trade\", \"earn, crude\", \"interest\", \"coffee\", \"gnp, jobs\", \"interest\", \"acq\", \"retail\", \"trade, money-fx\", \"money-fx, dlr, yen\", \"grain, wheat\", \"acq\", \"crude\", \"earn\", \"acq\", \"coffee, oilseed, soybean, trade, sugar, cocoa\", \"money-supply\", \"jobs, ipi, gnp, income, trade, retail\", \"interest, money-fx\", \"interest\", \"crude\", \"earn\", \"ship, gas\", \"acq\", \"interest, crude\", \"interest\", \"trade, gnp, bop, dlr\", \"interest, money-fx, dlr\", \"acq\", \"gnp, jobs, cpi, bop, dfl\", \"earn\", \"trade, bop, money-fx, crude, gnp, dlr\", \"interest\", \"money-fx, dlr, trade, acq\", \"acq\", \"grain\", \"trade\", \"bop\", \"trade, bop\", \"interest\", \"money-fx, stg, can\", \"oilseed, soybean, veg-oil, palm-oil, coconut-oil\", \"crude\", \"crude\", \"trade, money-fx, cpi, reserves\", \"bop, trade\", \"interest\", \"crude, nat-gas\", \"crude, ship\", \"trade\", \"grain, corn, sorghum, sunseed, oilseed\", \"earn\", \"grain\", \"crude\", \"coffee\", \"rubber\", \"interest, money-fx\", \"money-fx, interest\", \"coffee\", \"grain, corn, sorghum, oilseed, sunseed, soybean\", \"bop, trade, gnp\", \"crude\", \"earn\", \"interest, money-fx\", \"trade\", \"acq\", \"acq, earn\", \"coffee\", \"earn\", \"money-fx, dlr, yen\", \"gnp\", \"trade\", \"crude\", \"grain, corn, sorghum, sunseed, wheat, oilseed, soybean\", \"pet-chem, crude, acq, earn\", \"acq\", \"earn\", \"livestock, carcass\", \"trade\", \"interest, money-fx\", \"acq, trade\", \"dlr, money-fx\", \"money-fx, interest\", \"money-fx\", \"dlr, money-fx\", \"dlr, yen\", \"gnp\", \"lead\", \"interest\", \"iron-steel\", \"retail\", \"trade\", \"grain, corn, oilseed, soybean, soy-meal, meal-feed, veg-oil, soy-oil, cotton, sorghum, cotton-oil, barley, oat, rice\", \"grain, oilseed, meal-feed, veg-oil, corn, wheat, soybean, soy-oil, soy-meal, cotton, rice, sorghum, barley, oat\", \"bop, trade\", \"trade\", \"sugar, livestock\", \"crude, gas, heat\", \"money-fx, dlr, yen, can, stg\", \"dlr, money-fx, trade, cpi, money-supply\", \"trade\", \"acq\", \"trade, rice, livestock, carcass, grain, corn, oilseed, soybean\", \"trade, bop\", \"interest, money-fx\", \"gnp, cpi\", \"acq\", \"money-fx, dlr\", \"acq\", \"acq\", \"crude\", \"cpi, gnp\", \"grain, wheat\", \"veg-oil, oilseed, meal-feed, soybean, soy-oil, soy-meal\", \"money-supply\", \"cpi, gnp\", \"gnp, bop\", \"coffee\", \"grain, wheat, rice, veg-oil, soybean, sugar, rubber, copra-cake, corn, palm-oil, palmkernel, coffee, tea, plywood, soy-meal, cotton\", \"crude\", \"crude\", \"money-fx\", \"tin\", \"trade\", \"acq\", \"acq\", \"acq\", \"acq\", \"earn, acq\", \"acq\", \"gnp, trade\", \"coffee\", \"earn\", \"trade\", \"money-supply, money-fx, dlr\", \"money-fx, reserves\", \"gas\", \"interest\", \"crude\", \"acq\", \"gnp\", \"interest\", \"crude, fuel, naphtha\", \"crude\", \"crude\", \"ship, crude\", \"acq\", \"interest, money-fx\", \"acq\", \"acq, copper\", \"carcass\", \"money-fx\", \"veg-oil\", \"cocoa\", \"veg-oil\", \"grain, corn, oilseed, soybean\", \"grain, oilseed, soybean, corn, meal-feed, soy-meal\", \"gold\", \"veg-oil\", \"dlr, money-fx, trade\", \"gnp\", \"money-fx, reserves, trade\", \"zinc\", \"sugar\", \"coffee\", \"grain, corn\", \"crude\", \"interest, reserves, jobs, income\", \"veg-oil\", \"copper\", \"nat-gas\", \"acq\", \"gnp, jobs, cpi\", \"cocoa\", \"interest\", \"interest\", \"crude\", \"coffee\", \"money-fx\", \"interest\", \"trade, livestock, carcass, sugar\", \"money-fx, interest\", \"trade, livestock, carcass, grain, wheat\", \"crude\", \"money-fx, interest\", \"trade\", \"money-fx, dlr\", \"sugar, grain, corn\", \"ship, grain\", \"trade\", \"crude, nat-gas, fuel\", \"trade\", \"tin\", \"rubber\", \"crude\", \"money-fx\", \"trade\", \"money-fx\", \"acq\", \"interest\", \"trade\", \"coffee, ship\", \"crude, nat-gas\", \"trade\", \"crude, ship\", \"acq\", \"acq, earn\", \"money-fx\", \"earn\", \"earn\", \"money-fx, dlr\", \"acq\", \"money-fx, dlr\", \"acq\", \"money-fx, dlr\", \"retail, jobs, gnp, inventories, trade, cpi\", \"money-fx\", \"earn, crude, nat-gas\", \"money-fx, stg, interest\", \"grain\", \"cocoa\", \"money-fx, dlr\", \"acq\", \"grain, corn, oilseed, soybean\", \"trade\", \"acq\", \"earn\", \"money-fx, saudriyal\", \"rubber\", \"rand\", \"crude, nat-gas\", \"sugar, grain, corn\", \"grain, corn, oilseed, soybean, sorghum, sunseed\", \"acq\", \"acq\", \"grain, corn\", \"earn\", \"acq\", \"bop, trade\", \"livestock, carcass\", \"earn\", \"money-fx\", \"grain, wheat\", \"trade, bop, interest, money-fx\", \"grain, wheat\", \"trade, bop, interest, stg, money-fx\", \"money-fx, dlr, yen\", \"money-fx\", \"acq\", \"crude, ship\", \"crude, ship\", \"crude\", \"money-fx\", \"money-fx, interest\", \"propane, ship\", \"money-fx, interest\", \"money-fx, dlr, yen, dmk\", \"money-fx, dlr, yen\"]}],\n",
       "                        {\"barmode\": \"overlay\", \"legend\": {\"bgcolor\": \"#F5F6F9\", \"font\": {\"color\": \"#4D5663\"}}, \"paper_bgcolor\": \"#F5F6F9\", \"plot_bgcolor\": \"#F5F6F9\", \"template\": {\"data\": {\"bar\": [{\"error_x\": {\"color\": \"#2a3f5f\"}, \"error_y\": {\"color\": \"#2a3f5f\"}, \"marker\": {\"line\": {\"color\": \"#E5ECF6\", \"width\": 0.5}}, \"type\": \"bar\"}], \"barpolar\": [{\"marker\": {\"line\": {\"color\": \"#E5ECF6\", \"width\": 0.5}}, \"type\": \"barpolar\"}], \"carpet\": [{\"aaxis\": {\"endlinecolor\": \"#2a3f5f\", \"gridcolor\": \"white\", \"linecolor\": \"white\", \"minorgridcolor\": \"white\", \"startlinecolor\": \"#2a3f5f\"}, \"baxis\": {\"endlinecolor\": \"#2a3f5f\", \"gridcolor\": \"white\", \"linecolor\": \"white\", \"minorgridcolor\": \"white\", \"startlinecolor\": \"#2a3f5f\"}, \"type\": \"carpet\"}], \"choropleth\": [{\"colorbar\": {\"outlinewidth\": 0, \"ticks\": \"\"}, \"type\": \"choropleth\"}], \"contour\": [{\"colorbar\": {\"outlinewidth\": 0, \"ticks\": \"\"}, \"colorscale\": [[0.0, \"#0d0887\"], [0.1111111111111111, \"#46039f\"], [0.2222222222222222, \"#7201a8\"], [0.3333333333333333, \"#9c179e\"], [0.4444444444444444, \"#bd3786\"], [0.5555555555555556, \"#d8576b\"], [0.6666666666666666, \"#ed7953\"], [0.7777777777777778, \"#fb9f3a\"], [0.8888888888888888, \"#fdca26\"], [1.0, \"#f0f921\"]], \"type\": \"contour\"}], \"contourcarpet\": [{\"colorbar\": {\"outlinewidth\": 0, \"ticks\": \"\"}, \"type\": \"contourcarpet\"}], \"heatmap\": [{\"colorbar\": {\"outlinewidth\": 0, \"ticks\": \"\"}, \"colorscale\": [[0.0, \"#0d0887\"], [0.1111111111111111, \"#46039f\"], [0.2222222222222222, \"#7201a8\"], [0.3333333333333333, \"#9c179e\"], [0.4444444444444444, \"#bd3786\"], [0.5555555555555556, \"#d8576b\"], [0.6666666666666666, \"#ed7953\"], [0.7777777777777778, \"#fb9f3a\"], [0.8888888888888888, \"#fdca26\"], [1.0, \"#f0f921\"]], \"type\": \"heatmap\"}], \"heatmapgl\": [{\"colorbar\": {\"outlinewidth\": 0, \"ticks\": \"\"}, \"colorscale\": [[0.0, \"#0d0887\"], [0.1111111111111111, \"#46039f\"], [0.2222222222222222, \"#7201a8\"], [0.3333333333333333, \"#9c179e\"], [0.4444444444444444, \"#bd3786\"], [0.5555555555555556, \"#d8576b\"], [0.6666666666666666, \"#ed7953\"], [0.7777777777777778, \"#fb9f3a\"], [0.8888888888888888, \"#fdca26\"], [1.0, \"#f0f921\"]], \"type\": \"heatmapgl\"}], \"histogram\": [{\"marker\": {\"colorbar\": {\"outlinewidth\": 0, \"ticks\": \"\"}}, \"type\": \"histogram\"}], \"histogram2d\": [{\"colorbar\": {\"outlinewidth\": 0, \"ticks\": \"\"}, \"colorscale\": [[0.0, \"#0d0887\"], [0.1111111111111111, \"#46039f\"], [0.2222222222222222, \"#7201a8\"], [0.3333333333333333, \"#9c179e\"], [0.4444444444444444, \"#bd3786\"], [0.5555555555555556, \"#d8576b\"], [0.6666666666666666, \"#ed7953\"], [0.7777777777777778, \"#fb9f3a\"], [0.8888888888888888, \"#fdca26\"], [1.0, \"#f0f921\"]], \"type\": \"histogram2d\"}], \"histogram2dcontour\": [{\"colorbar\": {\"outlinewidth\": 0, \"ticks\": \"\"}, \"colorscale\": [[0.0, \"#0d0887\"], [0.1111111111111111, \"#46039f\"], [0.2222222222222222, \"#7201a8\"], [0.3333333333333333, \"#9c179e\"], [0.4444444444444444, \"#bd3786\"], [0.5555555555555556, \"#d8576b\"], [0.6666666666666666, \"#ed7953\"], [0.7777777777777778, \"#fb9f3a\"], [0.8888888888888888, \"#fdca26\"], [1.0, \"#f0f921\"]], \"type\": \"histogram2dcontour\"}], \"mesh3d\": [{\"colorbar\": {\"outlinewidth\": 0, \"ticks\": \"\"}, \"type\": \"mesh3d\"}], \"parcoords\": [{\"line\": {\"colorbar\": {\"outlinewidth\": 0, \"ticks\": \"\"}}, \"type\": \"parcoords\"}], \"scatter\": [{\"marker\": {\"colorbar\": {\"outlinewidth\": 0, \"ticks\": \"\"}}, \"type\": \"scatter\"}], \"scatter3d\": [{\"line\": {\"colorbar\": {\"outlinewidth\": 0, \"ticks\": \"\"}}, \"marker\": {\"colorbar\": {\"outlinewidth\": 0, \"ticks\": \"\"}}, \"type\": \"scatter3d\"}], \"scattercarpet\": [{\"marker\": {\"colorbar\": {\"outlinewidth\": 0, \"ticks\": \"\"}}, \"type\": \"scattercarpet\"}], \"scattergeo\": [{\"marker\": {\"colorbar\": {\"outlinewidth\": 0, \"ticks\": \"\"}}, \"type\": \"scattergeo\"}], \"scattergl\": [{\"marker\": {\"colorbar\": {\"outlinewidth\": 0, \"ticks\": \"\"}}, \"type\": \"scattergl\"}], \"scattermapbox\": [{\"marker\": {\"colorbar\": {\"outlinewidth\": 0, \"ticks\": \"\"}}, \"type\": \"scattermapbox\"}], \"scatterpolar\": [{\"marker\": {\"colorbar\": {\"outlinewidth\": 0, \"ticks\": \"\"}}, \"type\": \"scatterpolar\"}], \"scatterpolargl\": [{\"marker\": {\"colorbar\": {\"outlinewidth\": 0, \"ticks\": \"\"}}, \"type\": \"scatterpolargl\"}], \"scatterternary\": [{\"marker\": {\"colorbar\": {\"outlinewidth\": 0, \"ticks\": \"\"}}, \"type\": \"scatterternary\"}], \"surface\": [{\"colorbar\": {\"outlinewidth\": 0, \"ticks\": \"\"}, \"colorscale\": [[0.0, \"#0d0887\"], [0.1111111111111111, \"#46039f\"], [0.2222222222222222, \"#7201a8\"], [0.3333333333333333, \"#9c179e\"], [0.4444444444444444, \"#bd3786\"], [0.5555555555555556, \"#d8576b\"], [0.6666666666666666, \"#ed7953\"], [0.7777777777777778, \"#fb9f3a\"], [0.8888888888888888, \"#fdca26\"], [1.0, \"#f0f921\"]], \"type\": \"surface\"}], \"table\": [{\"cells\": {\"fill\": {\"color\": \"#EBF0F8\"}, \"line\": {\"color\": \"white\"}}, \"header\": {\"fill\": {\"color\": \"#C8D4E3\"}, \"line\": {\"color\": \"white\"}}, \"type\": \"table\"}]}, \"layout\": {\"annotationdefaults\": {\"arrowcolor\": \"#2a3f5f\", \"arrowhead\": 0, \"arrowwidth\": 1}, \"colorscale\": {\"diverging\": [[0, \"#8e0152\"], [0.1, \"#c51b7d\"], [0.2, \"#de77ae\"], [0.3, \"#f1b6da\"], [0.4, \"#fde0ef\"], [0.5, \"#f7f7f7\"], [0.6, \"#e6f5d0\"], [0.7, \"#b8e186\"], [0.8, \"#7fbc41\"], [0.9, \"#4d9221\"], [1, \"#276419\"]], \"sequential\": [[0.0, \"#0d0887\"], [0.1111111111111111, \"#46039f\"], [0.2222222222222222, \"#7201a8\"], [0.3333333333333333, \"#9c179e\"], [0.4444444444444444, \"#bd3786\"], [0.5555555555555556, \"#d8576b\"], [0.6666666666666666, \"#ed7953\"], [0.7777777777777778, \"#fb9f3a\"], [0.8888888888888888, \"#fdca26\"], [1.0, \"#f0f921\"]], \"sequentialminus\": [[0.0, \"#0d0887\"], [0.1111111111111111, \"#46039f\"], [0.2222222222222222, \"#7201a8\"], [0.3333333333333333, \"#9c179e\"], [0.4444444444444444, \"#bd3786\"], [0.5555555555555556, \"#d8576b\"], [0.6666666666666666, \"#ed7953\"], [0.7777777777777778, \"#fb9f3a\"], [0.8888888888888888, \"#fdca26\"], [1.0, \"#f0f921\"]]}, \"colorway\": [\"#636efa\", \"#EF553B\", \"#00cc96\", \"#ab63fa\", \"#FFA15A\", \"#19d3f3\", \"#FF6692\", \"#B6E880\", \"#FF97FF\", \"#FECB52\"], \"font\": {\"color\": \"#2a3f5f\"}, \"geo\": {\"bgcolor\": \"white\", \"lakecolor\": \"white\", \"landcolor\": \"#E5ECF6\", \"showlakes\": true, \"showland\": true, \"subunitcolor\": \"white\"}, \"hoverlabel\": {\"align\": \"left\"}, \"hovermode\": \"closest\", \"mapbox\": {\"style\": \"light\"}, \"paper_bgcolor\": \"white\", \"plot_bgcolor\": \"#E5ECF6\", \"polar\": {\"angularaxis\": {\"gridcolor\": \"white\", \"linecolor\": \"white\", \"ticks\": \"\"}, \"bgcolor\": \"#E5ECF6\", \"radialaxis\": {\"gridcolor\": \"white\", \"linecolor\": \"white\", \"ticks\": \"\"}}, \"scene\": {\"xaxis\": {\"backgroundcolor\": \"#E5ECF6\", \"gridcolor\": \"white\", \"gridwidth\": 2, \"linecolor\": \"white\", \"showbackground\": true, \"ticks\": \"\", \"zerolinecolor\": \"white\"}, \"yaxis\": {\"backgroundcolor\": \"#E5ECF6\", \"gridcolor\": \"white\", \"gridwidth\": 2, \"linecolor\": \"white\", \"showbackground\": true, \"ticks\": \"\", \"zerolinecolor\": \"white\"}, \"zaxis\": {\"backgroundcolor\": \"#E5ECF6\", \"gridcolor\": \"white\", \"gridwidth\": 2, \"linecolor\": \"white\", \"showbackground\": true, \"ticks\": \"\", \"zerolinecolor\": \"white\"}}, \"shapedefaults\": {\"line\": {\"color\": \"#2a3f5f\"}}, \"ternary\": {\"aaxis\": {\"gridcolor\": \"white\", \"linecolor\": \"white\", \"ticks\": \"\"}, \"baxis\": {\"gridcolor\": \"white\", \"linecolor\": \"white\", \"ticks\": \"\"}, \"bgcolor\": \"#E5ECF6\", \"caxis\": {\"gridcolor\": \"white\", \"linecolor\": \"white\", \"ticks\": \"\"}}, \"title\": {\"x\": 0.05}, \"xaxis\": {\"automargin\": true, \"gridcolor\": \"white\", \"linecolor\": \"white\", \"ticks\": \"\", \"zerolinecolor\": \"white\", \"zerolinewidth\": 2}, \"yaxis\": {\"automargin\": true, \"gridcolor\": \"white\", \"linecolor\": \"white\", \"ticks\": \"\", \"zerolinecolor\": \"white\", \"zerolinewidth\": 2}}}, \"title\": {\"font\": {\"color\": \"#4D5663\"}, \"text\": \" Distribution\"}, \"xaxis\": {\"gridcolor\": \"#E1E5ED\", \"linecolor\": \"black\", \"showgrid\": true, \"tickfont\": {\"color\": \"#4D5663\"}, \"title\": {\"font\": {\"color\": \"#4D5663\"}, \"text\": \"Topics\"}, \"zerolinecolor\": \"#E1E5ED\"}, \"yaxis\": {\"gridcolor\": \"#E1E5ED\", \"linecolor\": \"black\", \"showgrid\": true, \"tickfont\": {\"color\": \"#4D5663\"}, \"title\": {\"font\": {\"color\": \"#4D5663\"}, \"text\": \"count\"}, \"zerolinecolor\": \"#E1E5ED\"}},\n",
       "                        {\"showLink\": true, \"linkText\": \"Export to plot.ly\", \"plotlyServerURL\": \"https://plot.ly\", \"responsive\": true}\n",
       "                    ).then(function(){\n",
       "                            \n",
       "var gd = document.getElementById('e3fbcdf7-e8a1-47bd-839c-47345351bd5f');\n",
       "var x = new MutationObserver(function (mutations, observer) {{\n",
       "        var display = window.getComputedStyle(gd).display;\n",
       "        if (!display || display === 'none') {{\n",
       "            console.log([gd, 'removed!']);\n",
       "            Plotly.purge(gd);\n",
       "            observer.disconnect();\n",
       "        }}\n",
       "}});\n",
       "\n",
       "// Listen for the removal of the full notebook cells\n",
       "var notebookContainer = gd.closest('#notebook-container');\n",
       "if (notebookContainer) {{\n",
       "    x.observe(notebookContainer, {childList: true});\n",
       "}}\n",
       "\n",
       "// Listen for the clearing of the current output cell\n",
       "var outputEl = gd.closest('.output');\n",
       "if (outputEl) {{\n",
       "    x.observe(outputEl, {childList: true});\n",
       "}}\n",
       "\n",
       "                        })\n",
       "                };\n",
       "                });\n",
       "            </script>\n",
       "        </div>"
      ]
     },
     "metadata": {},
     "output_type": "display_data"
    }
   ],
   "source": [
    "import cufflinks as cf\n",
    "cf.go_offline()\n",
    "cf.set_config_file(offline=False, world_readable=True)\n",
    "\n",
    "\n",
    "df_filter['topics'].iplot(kind='hist', bins=100, xTitle='Topics',linecolor='black', yTitle='count', title=' Distribution')\n",
    "\n"
   ]
  },
  {
   "cell_type": "code",
   "execution_count": 59,
   "metadata": {},
   "outputs": [
    {
     "data": {
      "application/vnd.plotly.v1+json": {
       "config": {
        "linkText": "Export to plot.ly",
        "plotlyServerURL": "https://plot.ly",
        "showLink": true
       },
       "data": [
        {
         "marker": {
          "color": "rgba(255, 153, 51, 0.6)",
          "line": {
           "color": "rgba(255, 153, 51, 1.0)",
           "width": 1
          }
         },
         "name": "count",
         "orientation": "v",
         "text": "",
         "type": "bar",
         "x": [
          "money",
          "fx",
          "trade",
          "acq",
          "interest",
          "crude",
          "grain",
          "earn",
          "gnp",
          "dlr",
          "corn",
          "coffee",
          "wheat",
          "oil",
          "oilseed",
          "bop",
          "soybean",
          "sugar",
          "gas",
          "ship"
         ],
         "y": [
          114,
          102,
          83,
          68,
          57,
          56,
          51,
          43,
          36,
          32,
          30,
          25,
          25,
          24,
          23,
          21,
          20,
          20,
          16,
          15
         ]
        }
       ],
       "layout": {
        "legend": {
         "bgcolor": "#F5F6F9",
         "font": {
          "color": "#4D5663"
         }
        },
        "paper_bgcolor": "#F5F6F9",
        "plot_bgcolor": "#F5F6F9",
        "template": {
         "data": {
          "bar": [
           {
            "error_x": {
             "color": "#2a3f5f"
            },
            "error_y": {
             "color": "#2a3f5f"
            },
            "marker": {
             "line": {
              "color": "#E5ECF6",
              "width": 0.5
             }
            },
            "type": "bar"
           }
          ],
          "barpolar": [
           {
            "marker": {
             "line": {
              "color": "#E5ECF6",
              "width": 0.5
             }
            },
            "type": "barpolar"
           }
          ],
          "carpet": [
           {
            "aaxis": {
             "endlinecolor": "#2a3f5f",
             "gridcolor": "white",
             "linecolor": "white",
             "minorgridcolor": "white",
             "startlinecolor": "#2a3f5f"
            },
            "baxis": {
             "endlinecolor": "#2a3f5f",
             "gridcolor": "white",
             "linecolor": "white",
             "minorgridcolor": "white",
             "startlinecolor": "#2a3f5f"
            },
            "type": "carpet"
           }
          ],
          "choropleth": [
           {
            "colorbar": {
             "outlinewidth": 0,
             "ticks": ""
            },
            "type": "choropleth"
           }
          ],
          "contour": [
           {
            "colorbar": {
             "outlinewidth": 0,
             "ticks": ""
            },
            "colorscale": [
             [
              0,
              "#0d0887"
             ],
             [
              0.1111111111111111,
              "#46039f"
             ],
             [
              0.2222222222222222,
              "#7201a8"
             ],
             [
              0.3333333333333333,
              "#9c179e"
             ],
             [
              0.4444444444444444,
              "#bd3786"
             ],
             [
              0.5555555555555556,
              "#d8576b"
             ],
             [
              0.6666666666666666,
              "#ed7953"
             ],
             [
              0.7777777777777778,
              "#fb9f3a"
             ],
             [
              0.8888888888888888,
              "#fdca26"
             ],
             [
              1,
              "#f0f921"
             ]
            ],
            "type": "contour"
           }
          ],
          "contourcarpet": [
           {
            "colorbar": {
             "outlinewidth": 0,
             "ticks": ""
            },
            "type": "contourcarpet"
           }
          ],
          "heatmap": [
           {
            "colorbar": {
             "outlinewidth": 0,
             "ticks": ""
            },
            "colorscale": [
             [
              0,
              "#0d0887"
             ],
             [
              0.1111111111111111,
              "#46039f"
             ],
             [
              0.2222222222222222,
              "#7201a8"
             ],
             [
              0.3333333333333333,
              "#9c179e"
             ],
             [
              0.4444444444444444,
              "#bd3786"
             ],
             [
              0.5555555555555556,
              "#d8576b"
             ],
             [
              0.6666666666666666,
              "#ed7953"
             ],
             [
              0.7777777777777778,
              "#fb9f3a"
             ],
             [
              0.8888888888888888,
              "#fdca26"
             ],
             [
              1,
              "#f0f921"
             ]
            ],
            "type": "heatmap"
           }
          ],
          "heatmapgl": [
           {
            "colorbar": {
             "outlinewidth": 0,
             "ticks": ""
            },
            "colorscale": [
             [
              0,
              "#0d0887"
             ],
             [
              0.1111111111111111,
              "#46039f"
             ],
             [
              0.2222222222222222,
              "#7201a8"
             ],
             [
              0.3333333333333333,
              "#9c179e"
             ],
             [
              0.4444444444444444,
              "#bd3786"
             ],
             [
              0.5555555555555556,
              "#d8576b"
             ],
             [
              0.6666666666666666,
              "#ed7953"
             ],
             [
              0.7777777777777778,
              "#fb9f3a"
             ],
             [
              0.8888888888888888,
              "#fdca26"
             ],
             [
              1,
              "#f0f921"
             ]
            ],
            "type": "heatmapgl"
           }
          ],
          "histogram": [
           {
            "marker": {
             "colorbar": {
              "outlinewidth": 0,
              "ticks": ""
             }
            },
            "type": "histogram"
           }
          ],
          "histogram2d": [
           {
            "colorbar": {
             "outlinewidth": 0,
             "ticks": ""
            },
            "colorscale": [
             [
              0,
              "#0d0887"
             ],
             [
              0.1111111111111111,
              "#46039f"
             ],
             [
              0.2222222222222222,
              "#7201a8"
             ],
             [
              0.3333333333333333,
              "#9c179e"
             ],
             [
              0.4444444444444444,
              "#bd3786"
             ],
             [
              0.5555555555555556,
              "#d8576b"
             ],
             [
              0.6666666666666666,
              "#ed7953"
             ],
             [
              0.7777777777777778,
              "#fb9f3a"
             ],
             [
              0.8888888888888888,
              "#fdca26"
             ],
             [
              1,
              "#f0f921"
             ]
            ],
            "type": "histogram2d"
           }
          ],
          "histogram2dcontour": [
           {
            "colorbar": {
             "outlinewidth": 0,
             "ticks": ""
            },
            "colorscale": [
             [
              0,
              "#0d0887"
             ],
             [
              0.1111111111111111,
              "#46039f"
             ],
             [
              0.2222222222222222,
              "#7201a8"
             ],
             [
              0.3333333333333333,
              "#9c179e"
             ],
             [
              0.4444444444444444,
              "#bd3786"
             ],
             [
              0.5555555555555556,
              "#d8576b"
             ],
             [
              0.6666666666666666,
              "#ed7953"
             ],
             [
              0.7777777777777778,
              "#fb9f3a"
             ],
             [
              0.8888888888888888,
              "#fdca26"
             ],
             [
              1,
              "#f0f921"
             ]
            ],
            "type": "histogram2dcontour"
           }
          ],
          "mesh3d": [
           {
            "colorbar": {
             "outlinewidth": 0,
             "ticks": ""
            },
            "type": "mesh3d"
           }
          ],
          "parcoords": [
           {
            "line": {
             "colorbar": {
              "outlinewidth": 0,
              "ticks": ""
             }
            },
            "type": "parcoords"
           }
          ],
          "scatter": [
           {
            "marker": {
             "colorbar": {
              "outlinewidth": 0,
              "ticks": ""
             }
            },
            "type": "scatter"
           }
          ],
          "scatter3d": [
           {
            "line": {
             "colorbar": {
              "outlinewidth": 0,
              "ticks": ""
             }
            },
            "marker": {
             "colorbar": {
              "outlinewidth": 0,
              "ticks": ""
             }
            },
            "type": "scatter3d"
           }
          ],
          "scattercarpet": [
           {
            "marker": {
             "colorbar": {
              "outlinewidth": 0,
              "ticks": ""
             }
            },
            "type": "scattercarpet"
           }
          ],
          "scattergeo": [
           {
            "marker": {
             "colorbar": {
              "outlinewidth": 0,
              "ticks": ""
             }
            },
            "type": "scattergeo"
           }
          ],
          "scattergl": [
           {
            "marker": {
             "colorbar": {
              "outlinewidth": 0,
              "ticks": ""
             }
            },
            "type": "scattergl"
           }
          ],
          "scattermapbox": [
           {
            "marker": {
             "colorbar": {
              "outlinewidth": 0,
              "ticks": ""
             }
            },
            "type": "scattermapbox"
           }
          ],
          "scatterpolar": [
           {
            "marker": {
             "colorbar": {
              "outlinewidth": 0,
              "ticks": ""
             }
            },
            "type": "scatterpolar"
           }
          ],
          "scatterpolargl": [
           {
            "marker": {
             "colorbar": {
              "outlinewidth": 0,
              "ticks": ""
             }
            },
            "type": "scatterpolargl"
           }
          ],
          "scatterternary": [
           {
            "marker": {
             "colorbar": {
              "outlinewidth": 0,
              "ticks": ""
             }
            },
            "type": "scatterternary"
           }
          ],
          "surface": [
           {
            "colorbar": {
             "outlinewidth": 0,
             "ticks": ""
            },
            "colorscale": [
             [
              0,
              "#0d0887"
             ],
             [
              0.1111111111111111,
              "#46039f"
             ],
             [
              0.2222222222222222,
              "#7201a8"
             ],
             [
              0.3333333333333333,
              "#9c179e"
             ],
             [
              0.4444444444444444,
              "#bd3786"
             ],
             [
              0.5555555555555556,
              "#d8576b"
             ],
             [
              0.6666666666666666,
              "#ed7953"
             ],
             [
              0.7777777777777778,
              "#fb9f3a"
             ],
             [
              0.8888888888888888,
              "#fdca26"
             ],
             [
              1,
              "#f0f921"
             ]
            ],
            "type": "surface"
           }
          ],
          "table": [
           {
            "cells": {
             "fill": {
              "color": "#EBF0F8"
             },
             "line": {
              "color": "white"
             }
            },
            "header": {
             "fill": {
              "color": "#C8D4E3"
             },
             "line": {
              "color": "white"
             }
            },
            "type": "table"
           }
          ]
         },
         "layout": {
          "annotationdefaults": {
           "arrowcolor": "#2a3f5f",
           "arrowhead": 0,
           "arrowwidth": 1
          },
          "colorscale": {
           "diverging": [
            [
             0,
             "#8e0152"
            ],
            [
             0.1,
             "#c51b7d"
            ],
            [
             0.2,
             "#de77ae"
            ],
            [
             0.3,
             "#f1b6da"
            ],
            [
             0.4,
             "#fde0ef"
            ],
            [
             0.5,
             "#f7f7f7"
            ],
            [
             0.6,
             "#e6f5d0"
            ],
            [
             0.7,
             "#b8e186"
            ],
            [
             0.8,
             "#7fbc41"
            ],
            [
             0.9,
             "#4d9221"
            ],
            [
             1,
             "#276419"
            ]
           ],
           "sequential": [
            [
             0,
             "#0d0887"
            ],
            [
             0.1111111111111111,
             "#46039f"
            ],
            [
             0.2222222222222222,
             "#7201a8"
            ],
            [
             0.3333333333333333,
             "#9c179e"
            ],
            [
             0.4444444444444444,
             "#bd3786"
            ],
            [
             0.5555555555555556,
             "#d8576b"
            ],
            [
             0.6666666666666666,
             "#ed7953"
            ],
            [
             0.7777777777777778,
             "#fb9f3a"
            ],
            [
             0.8888888888888888,
             "#fdca26"
            ],
            [
             1,
             "#f0f921"
            ]
           ],
           "sequentialminus": [
            [
             0,
             "#0d0887"
            ],
            [
             0.1111111111111111,
             "#46039f"
            ],
            [
             0.2222222222222222,
             "#7201a8"
            ],
            [
             0.3333333333333333,
             "#9c179e"
            ],
            [
             0.4444444444444444,
             "#bd3786"
            ],
            [
             0.5555555555555556,
             "#d8576b"
            ],
            [
             0.6666666666666666,
             "#ed7953"
            ],
            [
             0.7777777777777778,
             "#fb9f3a"
            ],
            [
             0.8888888888888888,
             "#fdca26"
            ],
            [
             1,
             "#f0f921"
            ]
           ]
          },
          "colorway": [
           "#636efa",
           "#EF553B",
           "#00cc96",
           "#ab63fa",
           "#FFA15A",
           "#19d3f3",
           "#FF6692",
           "#B6E880",
           "#FF97FF",
           "#FECB52"
          ],
          "font": {
           "color": "#2a3f5f"
          },
          "geo": {
           "bgcolor": "white",
           "lakecolor": "white",
           "landcolor": "#E5ECF6",
           "showlakes": true,
           "showland": true,
           "subunitcolor": "white"
          },
          "hoverlabel": {
           "align": "left"
          },
          "hovermode": "closest",
          "mapbox": {
           "style": "light"
          },
          "paper_bgcolor": "white",
          "plot_bgcolor": "#E5ECF6",
          "polar": {
           "angularaxis": {
            "gridcolor": "white",
            "linecolor": "white",
            "ticks": ""
           },
           "bgcolor": "#E5ECF6",
           "radialaxis": {
            "gridcolor": "white",
            "linecolor": "white",
            "ticks": ""
           }
          },
          "scene": {
           "xaxis": {
            "backgroundcolor": "#E5ECF6",
            "gridcolor": "white",
            "gridwidth": 2,
            "linecolor": "white",
            "showbackground": true,
            "ticks": "",
            "zerolinecolor": "white"
           },
           "yaxis": {
            "backgroundcolor": "#E5ECF6",
            "gridcolor": "white",
            "gridwidth": 2,
            "linecolor": "white",
            "showbackground": true,
            "ticks": "",
            "zerolinecolor": "white"
           },
           "zaxis": {
            "backgroundcolor": "#E5ECF6",
            "gridcolor": "white",
            "gridwidth": 2,
            "linecolor": "white",
            "showbackground": true,
            "ticks": "",
            "zerolinecolor": "white"
           }
          },
          "shapedefaults": {
           "line": {
            "color": "#2a3f5f"
           }
          },
          "ternary": {
           "aaxis": {
            "gridcolor": "white",
            "linecolor": "white",
            "ticks": ""
           },
           "baxis": {
            "gridcolor": "white",
            "linecolor": "white",
            "ticks": ""
           },
           "bgcolor": "#E5ECF6",
           "caxis": {
            "gridcolor": "white",
            "linecolor": "white",
            "ticks": ""
           }
          },
          "title": {
           "x": 0.05
          },
          "xaxis": {
           "automargin": true,
           "gridcolor": "white",
           "linecolor": "white",
           "ticks": "",
           "zerolinecolor": "white",
           "zerolinewidth": 2
          },
          "yaxis": {
           "automargin": true,
           "gridcolor": "white",
           "linecolor": "white",
           "ticks": "",
           "zerolinecolor": "white",
           "zerolinewidth": 2
          }
         }
        },
        "title": {
         "font": {
          "color": "#4D5663"
         },
         "text": "Top 20 Topics"
        },
        "xaxis": {
         "gridcolor": "#E1E5ED",
         "linecolor": "black",
         "showgrid": true,
         "tickfont": {
          "color": "#4D5663"
         },
         "title": {
          "font": {
           "color": "#4D5663"
          },
          "text": ""
         },
         "zerolinecolor": "#E1E5ED"
        },
        "yaxis": {
         "gridcolor": "#E1E5ED",
         "linecolor": "black",
         "showgrid": true,
         "tickfont": {
          "color": "#4D5663"
         },
         "title": {
          "font": {
           "color": "#4D5663"
          },
          "text": "Count"
         },
         "zerolinecolor": "#E1E5ED"
        }
       }
      },
      "text/html": [
       "<div>\n",
       "        \n",
       "        \n",
       "            <div id=\"6f575e46-fdbd-4f49-bcf2-31b1acce9f78\" class=\"plotly-graph-div\" style=\"height:525px; width:100%;\"></div>\n",
       "            <script type=\"text/javascript\">\n",
       "                require([\"plotly\"], function(Plotly) {\n",
       "                    window.PLOTLYENV=window.PLOTLYENV || {};\n",
       "                    window.PLOTLYENV.BASE_URL='https://plot.ly';\n",
       "                    \n",
       "                if (document.getElementById(\"6f575e46-fdbd-4f49-bcf2-31b1acce9f78\")) {\n",
       "                    Plotly.newPlot(\n",
       "                        '6f575e46-fdbd-4f49-bcf2-31b1acce9f78',\n",
       "                        [{\"marker\": {\"color\": \"rgba(255, 153, 51, 0.6)\", \"line\": {\"color\": \"rgba(255, 153, 51, 1.0)\", \"width\": 1}}, \"name\": \"count\", \"orientation\": \"v\", \"text\": \"\", \"type\": \"bar\", \"x\": [\"money\", \"fx\", \"trade\", \"acq\", \"interest\", \"crude\", \"grain\", \"earn\", \"gnp\", \"dlr\", \"corn\", \"coffee\", \"wheat\", \"oil\", \"oilseed\", \"bop\", \"soybean\", \"sugar\", \"gas\", \"ship\"], \"y\": [114, 102, 83, 68, 57, 56, 51, 43, 36, 32, 30, 25, 25, 24, 23, 21, 20, 20, 16, 15]}],\n",
       "                        {\"legend\": {\"bgcolor\": \"#F5F6F9\", \"font\": {\"color\": \"#4D5663\"}}, \"paper_bgcolor\": \"#F5F6F9\", \"plot_bgcolor\": \"#F5F6F9\", \"template\": {\"data\": {\"bar\": [{\"error_x\": {\"color\": \"#2a3f5f\"}, \"error_y\": {\"color\": \"#2a3f5f\"}, \"marker\": {\"line\": {\"color\": \"#E5ECF6\", \"width\": 0.5}}, \"type\": \"bar\"}], \"barpolar\": [{\"marker\": {\"line\": {\"color\": \"#E5ECF6\", \"width\": 0.5}}, \"type\": \"barpolar\"}], \"carpet\": [{\"aaxis\": {\"endlinecolor\": \"#2a3f5f\", \"gridcolor\": \"white\", \"linecolor\": \"white\", \"minorgridcolor\": \"white\", \"startlinecolor\": \"#2a3f5f\"}, \"baxis\": {\"endlinecolor\": \"#2a3f5f\", \"gridcolor\": \"white\", \"linecolor\": \"white\", \"minorgridcolor\": \"white\", \"startlinecolor\": \"#2a3f5f\"}, \"type\": \"carpet\"}], \"choropleth\": [{\"colorbar\": {\"outlinewidth\": 0, \"ticks\": \"\"}, \"type\": \"choropleth\"}], \"contour\": [{\"colorbar\": {\"outlinewidth\": 0, \"ticks\": \"\"}, \"colorscale\": [[0.0, \"#0d0887\"], [0.1111111111111111, \"#46039f\"], [0.2222222222222222, \"#7201a8\"], [0.3333333333333333, \"#9c179e\"], [0.4444444444444444, \"#bd3786\"], [0.5555555555555556, \"#d8576b\"], [0.6666666666666666, \"#ed7953\"], [0.7777777777777778, \"#fb9f3a\"], [0.8888888888888888, \"#fdca26\"], [1.0, \"#f0f921\"]], \"type\": \"contour\"}], \"contourcarpet\": [{\"colorbar\": {\"outlinewidth\": 0, \"ticks\": \"\"}, \"type\": \"contourcarpet\"}], \"heatmap\": [{\"colorbar\": {\"outlinewidth\": 0, \"ticks\": \"\"}, \"colorscale\": [[0.0, \"#0d0887\"], [0.1111111111111111, \"#46039f\"], [0.2222222222222222, \"#7201a8\"], [0.3333333333333333, \"#9c179e\"], [0.4444444444444444, \"#bd3786\"], [0.5555555555555556, \"#d8576b\"], [0.6666666666666666, \"#ed7953\"], [0.7777777777777778, \"#fb9f3a\"], [0.8888888888888888, \"#fdca26\"], [1.0, \"#f0f921\"]], \"type\": \"heatmap\"}], \"heatmapgl\": [{\"colorbar\": {\"outlinewidth\": 0, \"ticks\": \"\"}, \"colorscale\": [[0.0, \"#0d0887\"], [0.1111111111111111, \"#46039f\"], [0.2222222222222222, \"#7201a8\"], [0.3333333333333333, \"#9c179e\"], [0.4444444444444444, \"#bd3786\"], [0.5555555555555556, \"#d8576b\"], [0.6666666666666666, \"#ed7953\"], [0.7777777777777778, \"#fb9f3a\"], [0.8888888888888888, \"#fdca26\"], [1.0, \"#f0f921\"]], \"type\": \"heatmapgl\"}], \"histogram\": [{\"marker\": {\"colorbar\": {\"outlinewidth\": 0, \"ticks\": \"\"}}, \"type\": \"histogram\"}], \"histogram2d\": [{\"colorbar\": {\"outlinewidth\": 0, \"ticks\": \"\"}, \"colorscale\": [[0.0, \"#0d0887\"], [0.1111111111111111, \"#46039f\"], [0.2222222222222222, \"#7201a8\"], [0.3333333333333333, \"#9c179e\"], [0.4444444444444444, \"#bd3786\"], [0.5555555555555556, \"#d8576b\"], [0.6666666666666666, \"#ed7953\"], [0.7777777777777778, \"#fb9f3a\"], [0.8888888888888888, \"#fdca26\"], [1.0, \"#f0f921\"]], \"type\": \"histogram2d\"}], \"histogram2dcontour\": [{\"colorbar\": {\"outlinewidth\": 0, \"ticks\": \"\"}, \"colorscale\": [[0.0, \"#0d0887\"], [0.1111111111111111, \"#46039f\"], [0.2222222222222222, \"#7201a8\"], [0.3333333333333333, \"#9c179e\"], [0.4444444444444444, \"#bd3786\"], [0.5555555555555556, \"#d8576b\"], [0.6666666666666666, \"#ed7953\"], [0.7777777777777778, \"#fb9f3a\"], [0.8888888888888888, \"#fdca26\"], [1.0, \"#f0f921\"]], \"type\": \"histogram2dcontour\"}], \"mesh3d\": [{\"colorbar\": {\"outlinewidth\": 0, \"ticks\": \"\"}, \"type\": \"mesh3d\"}], \"parcoords\": [{\"line\": {\"colorbar\": {\"outlinewidth\": 0, \"ticks\": \"\"}}, \"type\": \"parcoords\"}], \"scatter\": [{\"marker\": {\"colorbar\": {\"outlinewidth\": 0, \"ticks\": \"\"}}, \"type\": \"scatter\"}], \"scatter3d\": [{\"line\": {\"colorbar\": {\"outlinewidth\": 0, \"ticks\": \"\"}}, \"marker\": {\"colorbar\": {\"outlinewidth\": 0, \"ticks\": \"\"}}, \"type\": \"scatter3d\"}], \"scattercarpet\": [{\"marker\": {\"colorbar\": {\"outlinewidth\": 0, \"ticks\": \"\"}}, \"type\": \"scattercarpet\"}], \"scattergeo\": [{\"marker\": {\"colorbar\": {\"outlinewidth\": 0, \"ticks\": \"\"}}, \"type\": \"scattergeo\"}], \"scattergl\": [{\"marker\": {\"colorbar\": {\"outlinewidth\": 0, \"ticks\": \"\"}}, \"type\": \"scattergl\"}], \"scattermapbox\": [{\"marker\": {\"colorbar\": {\"outlinewidth\": 0, \"ticks\": \"\"}}, \"type\": \"scattermapbox\"}], \"scatterpolar\": [{\"marker\": {\"colorbar\": {\"outlinewidth\": 0, \"ticks\": \"\"}}, \"type\": \"scatterpolar\"}], \"scatterpolargl\": [{\"marker\": {\"colorbar\": {\"outlinewidth\": 0, \"ticks\": \"\"}}, \"type\": \"scatterpolargl\"}], \"scatterternary\": [{\"marker\": {\"colorbar\": {\"outlinewidth\": 0, \"ticks\": \"\"}}, \"type\": \"scatterternary\"}], \"surface\": [{\"colorbar\": {\"outlinewidth\": 0, \"ticks\": \"\"}, \"colorscale\": [[0.0, \"#0d0887\"], [0.1111111111111111, \"#46039f\"], [0.2222222222222222, \"#7201a8\"], [0.3333333333333333, \"#9c179e\"], [0.4444444444444444, \"#bd3786\"], [0.5555555555555556, \"#d8576b\"], [0.6666666666666666, \"#ed7953\"], [0.7777777777777778, \"#fb9f3a\"], [0.8888888888888888, \"#fdca26\"], [1.0, \"#f0f921\"]], \"type\": \"surface\"}], \"table\": [{\"cells\": {\"fill\": {\"color\": \"#EBF0F8\"}, \"line\": {\"color\": \"white\"}}, \"header\": {\"fill\": {\"color\": \"#C8D4E3\"}, \"line\": {\"color\": \"white\"}}, \"type\": \"table\"}]}, \"layout\": {\"annotationdefaults\": {\"arrowcolor\": \"#2a3f5f\", \"arrowhead\": 0, \"arrowwidth\": 1}, \"colorscale\": {\"diverging\": [[0, \"#8e0152\"], [0.1, \"#c51b7d\"], [0.2, \"#de77ae\"], [0.3, \"#f1b6da\"], [0.4, \"#fde0ef\"], [0.5, \"#f7f7f7\"], [0.6, \"#e6f5d0\"], [0.7, \"#b8e186\"], [0.8, \"#7fbc41\"], [0.9, \"#4d9221\"], [1, \"#276419\"]], \"sequential\": [[0.0, \"#0d0887\"], [0.1111111111111111, \"#46039f\"], [0.2222222222222222, \"#7201a8\"], [0.3333333333333333, \"#9c179e\"], [0.4444444444444444, \"#bd3786\"], [0.5555555555555556, \"#d8576b\"], [0.6666666666666666, \"#ed7953\"], [0.7777777777777778, \"#fb9f3a\"], [0.8888888888888888, \"#fdca26\"], [1.0, \"#f0f921\"]], \"sequentialminus\": [[0.0, \"#0d0887\"], [0.1111111111111111, \"#46039f\"], [0.2222222222222222, \"#7201a8\"], [0.3333333333333333, \"#9c179e\"], [0.4444444444444444, \"#bd3786\"], [0.5555555555555556, \"#d8576b\"], [0.6666666666666666, \"#ed7953\"], [0.7777777777777778, \"#fb9f3a\"], [0.8888888888888888, \"#fdca26\"], [1.0, \"#f0f921\"]]}, \"colorway\": [\"#636efa\", \"#EF553B\", \"#00cc96\", \"#ab63fa\", \"#FFA15A\", \"#19d3f3\", \"#FF6692\", \"#B6E880\", \"#FF97FF\", \"#FECB52\"], \"font\": {\"color\": \"#2a3f5f\"}, \"geo\": {\"bgcolor\": \"white\", \"lakecolor\": \"white\", \"landcolor\": \"#E5ECF6\", \"showlakes\": true, \"showland\": true, \"subunitcolor\": \"white\"}, \"hoverlabel\": {\"align\": \"left\"}, \"hovermode\": \"closest\", \"mapbox\": {\"style\": \"light\"}, \"paper_bgcolor\": \"white\", \"plot_bgcolor\": \"#E5ECF6\", \"polar\": {\"angularaxis\": {\"gridcolor\": \"white\", \"linecolor\": \"white\", \"ticks\": \"\"}, \"bgcolor\": \"#E5ECF6\", \"radialaxis\": {\"gridcolor\": \"white\", \"linecolor\": \"white\", \"ticks\": \"\"}}, \"scene\": {\"xaxis\": {\"backgroundcolor\": \"#E5ECF6\", \"gridcolor\": \"white\", \"gridwidth\": 2, \"linecolor\": \"white\", \"showbackground\": true, \"ticks\": \"\", \"zerolinecolor\": \"white\"}, \"yaxis\": {\"backgroundcolor\": \"#E5ECF6\", \"gridcolor\": \"white\", \"gridwidth\": 2, \"linecolor\": \"white\", \"showbackground\": true, \"ticks\": \"\", \"zerolinecolor\": \"white\"}, \"zaxis\": {\"backgroundcolor\": \"#E5ECF6\", \"gridcolor\": \"white\", \"gridwidth\": 2, \"linecolor\": \"white\", \"showbackground\": true, \"ticks\": \"\", \"zerolinecolor\": \"white\"}}, \"shapedefaults\": {\"line\": {\"color\": \"#2a3f5f\"}}, \"ternary\": {\"aaxis\": {\"gridcolor\": \"white\", \"linecolor\": \"white\", \"ticks\": \"\"}, \"baxis\": {\"gridcolor\": \"white\", \"linecolor\": \"white\", \"ticks\": \"\"}, \"bgcolor\": \"#E5ECF6\", \"caxis\": {\"gridcolor\": \"white\", \"linecolor\": \"white\", \"ticks\": \"\"}}, \"title\": {\"x\": 0.05}, \"xaxis\": {\"automargin\": true, \"gridcolor\": \"white\", \"linecolor\": \"white\", \"ticks\": \"\", \"zerolinecolor\": \"white\", \"zerolinewidth\": 2}, \"yaxis\": {\"automargin\": true, \"gridcolor\": \"white\", \"linecolor\": \"white\", \"ticks\": \"\", \"zerolinecolor\": \"white\", \"zerolinewidth\": 2}}}, \"title\": {\"font\": {\"color\": \"#4D5663\"}, \"text\": \"Top 20 Topics\"}, \"xaxis\": {\"gridcolor\": \"#E1E5ED\", \"linecolor\": \"black\", \"showgrid\": true, \"tickfont\": {\"color\": \"#4D5663\"}, \"title\": {\"font\": {\"color\": \"#4D5663\"}, \"text\": \"\"}, \"zerolinecolor\": \"#E1E5ED\"}, \"yaxis\": {\"gridcolor\": \"#E1E5ED\", \"linecolor\": \"black\", \"showgrid\": true, \"tickfont\": {\"color\": \"#4D5663\"}, \"title\": {\"font\": {\"color\": \"#4D5663\"}, \"text\": \"Count\"}, \"zerolinecolor\": \"#E1E5ED\"}},\n",
       "                        {\"showLink\": true, \"linkText\": \"Export to plot.ly\", \"plotlyServerURL\": \"https://plot.ly\", \"responsive\": true}\n",
       "                    ).then(function(){\n",
       "                            \n",
       "var gd = document.getElementById('6f575e46-fdbd-4f49-bcf2-31b1acce9f78');\n",
       "var x = new MutationObserver(function (mutations, observer) {{\n",
       "        var display = window.getComputedStyle(gd).display;\n",
       "        if (!display || display === 'none') {{\n",
       "            console.log([gd, 'removed!']);\n",
       "            Plotly.purge(gd);\n",
       "            observer.disconnect();\n",
       "        }}\n",
       "}});\n",
       "\n",
       "// Listen for the removal of the full notebook cells\n",
       "var notebookContainer = gd.closest('#notebook-container');\n",
       "if (notebookContainer) {{\n",
       "    x.observe(notebookContainer, {childList: true});\n",
       "}}\n",
       "\n",
       "// Listen for the clearing of the current output cell\n",
       "var outputEl = gd.closest('.output');\n",
       "if (outputEl) {{\n",
       "    x.observe(outputEl, {childList: true});\n",
       "}}\n",
       "\n",
       "                        })\n",
       "                };\n",
       "                });\n",
       "            </script>\n",
       "        </div>"
      ]
     },
     "metadata": {},
     "output_type": "display_data"
    }
   ],
   "source": [
    "common_words = get_top_n_words(df_filter['topics'], 20)\n",
    "#for word, freq in common_words:\n",
    "#    print(word, freq)\n",
    "df2 = pd.DataFrame(common_words, columns = ['TopicText' , 'count'])\n",
    "df2.groupby('TopicText').sum()['count'].sort_values(ascending=False).iplot(\n",
    "    kind='bar', yTitle='Count', linecolor='black', title='Top 20 Topics')"
   ]
  },
  {
   "cell_type": "markdown",
   "metadata": {},
   "source": [
    "**Group by Places**"
   ]
  },
  {
   "cell_type": "code",
   "execution_count": 48,
   "metadata": {},
   "outputs": [
    {
     "data": {
      "application/vnd.plotly.v1+json": {
       "config": {
        "linkText": "Export to plot.ly",
        "plotlyServerURL": "https://plot.ly",
        "showLink": true
       },
       "data": [
        {
         "marker": {
          "color": "rgba(255, 153, 51, 0.8)",
          "line": {
           "color": "rgba(255, 153, 51, 1.0)",
           "width": 1
          }
         },
         "name": "body",
         "orientation": "v",
         "text": "",
         "type": "bar",
         "x": [
          "usa",
          "uk",
          "west-germany",
          "usa, japan",
          "japan, usa",
          "japan",
          "france",
          "switzerland",
          "canada",
          "usa, ussr",
          "belgium",
          "argentina",
          "australia",
          "brazil",
          "saudi-arabia",
          "hong-kong",
          "uk, usa",
          "china",
          "canada, usa",
          "west-germany, usa",
          "south-korea, usa",
          "usa, west-germany",
          "philippines",
          "indonesia",
          "netherlands",
          "usa, uk",
          "japan, usa, uk",
          "nigeria",
          "usa, brazil",
          "usa, canada",
          "netherlands, west-germany",
          "taiwan",
          "ivory-coast",
          "usa, japan, uk",
          "new-zealand",
          "sri-lanka",
          "bolivia",
          "spain",
          "india",
          "japan, uk",
          "japan, usa, uk, west-germany, france, canada",
          "japan, usa, west-germany, uk, france",
          "japan, usa, uk, west-germany, france, italy, canada",
          "new-zealand, usa",
          "japan, west-germany, usa",
          "kenya",
          "kuwait",
          "kuwait, ecuador",
          "netherlands, brazil, west-germany, italy",
          "kuwait, usa, iran",
          "luxembourg, argentina, spain, portugal, west-germany, japan, france, canada",
          "malaysia, indonesia, thailand, sri-lanka",
          "malaysia, indonesia, thailand, zaire, bolivia, nigeria, australia, brazil, china",
          "japan, iran",
          "mexico, usa",
          "japan, iraq, iran, uae, qatar, kuwait, saudi-arabia",
          "hungary",
          "japan, hong-kong, singapore, switzerland",
          "japan, brazil, mexico, philippines, indonesia, usa",
          "australia, bahrain, uae, saudi-arabia, kuwait, iran",
          "australia, uk, canada, usa, japan",
          "austria",
          "bahrain, iran, usa",
          "bahrain, kuwait, oman, saudi-arabia, qatar, uae",
          "bahrain, uk, saudi-arabia",
          "bahrain, usa, iran",
          "belgium, japan, uk, france",
          "belgium, spain, portugal",
          "belgium, west-germany, uk",
          "brazil, mexico, guatemala, ecuador, panama, costa-rica, colombia, dominican-republic, usa",
          "canada, brazil",
          "china, usa",
          "colombia",
          "colombia, brazil",
          "egypt, sudan",
          "ethiopia",
          "fiji",
          "france, japan, west-germany, usa",
          "france, west-germany, usa, japan",
          "greece, turkey",
          "hong-kong, australia, sri-lanka, china, indonesia, peru",
          "hong-kong, usa, japan, taiwan, malaysia, south-korea, australia",
          "pakistan",
          "india, ussr, south-korea",
          "indonesia, costa-rica, dominican-republic, honduras, ecuador, papua-new-guinea, peru, colombia, brazil, usa, japan",
          "indonesia, uk, malaysia, usa, papua-new-guinea, west-germany, netherlands",
          "indonesia, usa",
          "iraq, iran, japan, saudi-arabia",
          "norway, south-africa",
          "zambia, south-africa",
          "peru",
          "usa, france",
          "usa, japan, south-korea",
          "usa, japan, france, uk, canada, west-germany",
          "usa, japan, brazil, china, australia",
          "usa, iran, iraq, kuwait",
          "usa, iran, algeria, libya, saudi-arabia, iran, iraq, kuwait",
          "usa, iran",
          "usa, canada, israel",
          "uk, usa, west-germany, japan",
          "usa, canada, australia, mexico",
          "usa, brazil, colombia, el-salvador, guatemala, netherlands, west-germany, australia, new-zealand, uk, japan, dominican-republic, costa-rica",
          "usa, algeria, venezuela, uk",
          "uk, west-germany, japan",
          "uk, west-germany",
          "uk, ussr, china, cuba",
          "usa, japan, taiwan, south-korea",
          "usa, japan, uk, west-germany, france, italy, canada",
          "usa, japan, west-germany",
          "usa, philippines",
          "usa, saudi-arabia, japan",
          "usa, south-korea",
          "usa, taiwan, south-korea, hong-kong, singapore",
          "usa, uk, canada",
          "usa, uk, japan",
          "usa, uk, japan, west-germany, france, canada, italy",
          "usa, ussr, canada, australia, argentina",
          "usa, west-germany, japan",
          "ussr, usa",
          "ussr, usa, argentina",
          "west-germany, usa, japan",
          "west-germany, usa, japan, uk, france",
          "west-germany, usa, uk",
          "uk, ussr",
          "uk, usa, west-germany",
          "poland, usa",
          "taiwan, usa",
          "uk, brazil, guatemala, colombia",
          "uk, brazil",
          "uganda",
          "uae, usa",
          "turkey",
          "thailand",
          "switzerland, west-germany",
          "uk, usa, malaysia, canada, west-germany, france, brazil",
          "switzerland, usa, west-germany, japan",
          "zambia",
          "south-africa",
          "singapore, japan",
          "singapore",
          "portugal",
          "uk, canada, usa, ussr",
          "uk, colombia",
          "uk, france, west-germany, sweden, netherlands, hungary, spain, denmark, ireland",
          "uk, jamaica, qatar, nigeria, saudi-arabia, iran, iraq, indonesia, venezuela",
          "uk, japan",
          "uk, japan, canada, west-germany, usa",
          "uk, japan, usa",
          "uk, malaysia, brazil, ghana",
          "uk, qatar, nigeria, iran, libya, saudi-arabia",
          "uk, singapore",
          "uk, uae, kuwait, iran, saudi-arabia, ecuador, qatar, nigeria, algeria, gabon, indonesia, libya, qatar, iran, saudi-arabia, venezuela",
          "uk, usa, argentina, australia, canada",
          "uk, usa, brazil",
          "uk, usa, brazil, colombia",
          "uk, usa, france, west-germany, canada, italy, japan",
          "uk, usa, iran, kuwait, saudi-arabia",
          "uk, usa, japan",
          "south-korea, usa, japan"
         ],
         "y": [
          162,
          28,
          22,
          20,
          17,
          14,
          10,
          8,
          8,
          6,
          6,
          6,
          5,
          5,
          5,
          5,
          4,
          4,
          4,
          4,
          4,
          4,
          3,
          3,
          3,
          3,
          3,
          2,
          2,
          2,
          2,
          2,
          2,
          2,
          2,
          2,
          2,
          2,
          2,
          1,
          1,
          1,
          1,
          1,
          1,
          1,
          1,
          1,
          1,
          1,
          1,
          1,
          1,
          1,
          1,
          1,
          1,
          1,
          1,
          1,
          1,
          1,
          1,
          1,
          1,
          1,
          1,
          1,
          1,
          1,
          1,
          1,
          1,
          1,
          1,
          1,
          1,
          1,
          1,
          1,
          1,
          1,
          1,
          1,
          1,
          1,
          1,
          1,
          1,
          1,
          1,
          1,
          1,
          1,
          1,
          1,
          1,
          1,
          1,
          1,
          1,
          1,
          1,
          1,
          1,
          1,
          1,
          1,
          1,
          1,
          1,
          1,
          1,
          1,
          1,
          1,
          1,
          1,
          1,
          1,
          1,
          1,
          1,
          1,
          1,
          1,
          1,
          1,
          1,
          1,
          1,
          1,
          1,
          1,
          1,
          1,
          1,
          1,
          1,
          1,
          1,
          1,
          1,
          1,
          1,
          1,
          1,
          1,
          1,
          1,
          1,
          1,
          1,
          1,
          1,
          1,
          1,
          1,
          1
         ]
        }
       ],
       "layout": {
        "legend": {
         "bgcolor": "#F5F6F9",
         "font": {
          "color": "#4D5663"
         }
        },
        "paper_bgcolor": "#F5F6F9",
        "plot_bgcolor": "#F5F6F9",
        "template": {
         "data": {
          "bar": [
           {
            "error_x": {
             "color": "#2a3f5f"
            },
            "error_y": {
             "color": "#2a3f5f"
            },
            "marker": {
             "line": {
              "color": "#E5ECF6",
              "width": 0.5
             }
            },
            "type": "bar"
           }
          ],
          "barpolar": [
           {
            "marker": {
             "line": {
              "color": "#E5ECF6",
              "width": 0.5
             }
            },
            "type": "barpolar"
           }
          ],
          "carpet": [
           {
            "aaxis": {
             "endlinecolor": "#2a3f5f",
             "gridcolor": "white",
             "linecolor": "white",
             "minorgridcolor": "white",
             "startlinecolor": "#2a3f5f"
            },
            "baxis": {
             "endlinecolor": "#2a3f5f",
             "gridcolor": "white",
             "linecolor": "white",
             "minorgridcolor": "white",
             "startlinecolor": "#2a3f5f"
            },
            "type": "carpet"
           }
          ],
          "choropleth": [
           {
            "colorbar": {
             "outlinewidth": 0,
             "ticks": ""
            },
            "type": "choropleth"
           }
          ],
          "contour": [
           {
            "colorbar": {
             "outlinewidth": 0,
             "ticks": ""
            },
            "colorscale": [
             [
              0,
              "#0d0887"
             ],
             [
              0.1111111111111111,
              "#46039f"
             ],
             [
              0.2222222222222222,
              "#7201a8"
             ],
             [
              0.3333333333333333,
              "#9c179e"
             ],
             [
              0.4444444444444444,
              "#bd3786"
             ],
             [
              0.5555555555555556,
              "#d8576b"
             ],
             [
              0.6666666666666666,
              "#ed7953"
             ],
             [
              0.7777777777777778,
              "#fb9f3a"
             ],
             [
              0.8888888888888888,
              "#fdca26"
             ],
             [
              1,
              "#f0f921"
             ]
            ],
            "type": "contour"
           }
          ],
          "contourcarpet": [
           {
            "colorbar": {
             "outlinewidth": 0,
             "ticks": ""
            },
            "type": "contourcarpet"
           }
          ],
          "heatmap": [
           {
            "colorbar": {
             "outlinewidth": 0,
             "ticks": ""
            },
            "colorscale": [
             [
              0,
              "#0d0887"
             ],
             [
              0.1111111111111111,
              "#46039f"
             ],
             [
              0.2222222222222222,
              "#7201a8"
             ],
             [
              0.3333333333333333,
              "#9c179e"
             ],
             [
              0.4444444444444444,
              "#bd3786"
             ],
             [
              0.5555555555555556,
              "#d8576b"
             ],
             [
              0.6666666666666666,
              "#ed7953"
             ],
             [
              0.7777777777777778,
              "#fb9f3a"
             ],
             [
              0.8888888888888888,
              "#fdca26"
             ],
             [
              1,
              "#f0f921"
             ]
            ],
            "type": "heatmap"
           }
          ],
          "heatmapgl": [
           {
            "colorbar": {
             "outlinewidth": 0,
             "ticks": ""
            },
            "colorscale": [
             [
              0,
              "#0d0887"
             ],
             [
              0.1111111111111111,
              "#46039f"
             ],
             [
              0.2222222222222222,
              "#7201a8"
             ],
             [
              0.3333333333333333,
              "#9c179e"
             ],
             [
              0.4444444444444444,
              "#bd3786"
             ],
             [
              0.5555555555555556,
              "#d8576b"
             ],
             [
              0.6666666666666666,
              "#ed7953"
             ],
             [
              0.7777777777777778,
              "#fb9f3a"
             ],
             [
              0.8888888888888888,
              "#fdca26"
             ],
             [
              1,
              "#f0f921"
             ]
            ],
            "type": "heatmapgl"
           }
          ],
          "histogram": [
           {
            "marker": {
             "colorbar": {
              "outlinewidth": 0,
              "ticks": ""
             }
            },
            "type": "histogram"
           }
          ],
          "histogram2d": [
           {
            "colorbar": {
             "outlinewidth": 0,
             "ticks": ""
            },
            "colorscale": [
             [
              0,
              "#0d0887"
             ],
             [
              0.1111111111111111,
              "#46039f"
             ],
             [
              0.2222222222222222,
              "#7201a8"
             ],
             [
              0.3333333333333333,
              "#9c179e"
             ],
             [
              0.4444444444444444,
              "#bd3786"
             ],
             [
              0.5555555555555556,
              "#d8576b"
             ],
             [
              0.6666666666666666,
              "#ed7953"
             ],
             [
              0.7777777777777778,
              "#fb9f3a"
             ],
             [
              0.8888888888888888,
              "#fdca26"
             ],
             [
              1,
              "#f0f921"
             ]
            ],
            "type": "histogram2d"
           }
          ],
          "histogram2dcontour": [
           {
            "colorbar": {
             "outlinewidth": 0,
             "ticks": ""
            },
            "colorscale": [
             [
              0,
              "#0d0887"
             ],
             [
              0.1111111111111111,
              "#46039f"
             ],
             [
              0.2222222222222222,
              "#7201a8"
             ],
             [
              0.3333333333333333,
              "#9c179e"
             ],
             [
              0.4444444444444444,
              "#bd3786"
             ],
             [
              0.5555555555555556,
              "#d8576b"
             ],
             [
              0.6666666666666666,
              "#ed7953"
             ],
             [
              0.7777777777777778,
              "#fb9f3a"
             ],
             [
              0.8888888888888888,
              "#fdca26"
             ],
             [
              1,
              "#f0f921"
             ]
            ],
            "type": "histogram2dcontour"
           }
          ],
          "mesh3d": [
           {
            "colorbar": {
             "outlinewidth": 0,
             "ticks": ""
            },
            "type": "mesh3d"
           }
          ],
          "parcoords": [
           {
            "line": {
             "colorbar": {
              "outlinewidth": 0,
              "ticks": ""
             }
            },
            "type": "parcoords"
           }
          ],
          "scatter": [
           {
            "marker": {
             "colorbar": {
              "outlinewidth": 0,
              "ticks": ""
             }
            },
            "type": "scatter"
           }
          ],
          "scatter3d": [
           {
            "line": {
             "colorbar": {
              "outlinewidth": 0,
              "ticks": ""
             }
            },
            "marker": {
             "colorbar": {
              "outlinewidth": 0,
              "ticks": ""
             }
            },
            "type": "scatter3d"
           }
          ],
          "scattercarpet": [
           {
            "marker": {
             "colorbar": {
              "outlinewidth": 0,
              "ticks": ""
             }
            },
            "type": "scattercarpet"
           }
          ],
          "scattergeo": [
           {
            "marker": {
             "colorbar": {
              "outlinewidth": 0,
              "ticks": ""
             }
            },
            "type": "scattergeo"
           }
          ],
          "scattergl": [
           {
            "marker": {
             "colorbar": {
              "outlinewidth": 0,
              "ticks": ""
             }
            },
            "type": "scattergl"
           }
          ],
          "scattermapbox": [
           {
            "marker": {
             "colorbar": {
              "outlinewidth": 0,
              "ticks": ""
             }
            },
            "type": "scattermapbox"
           }
          ],
          "scatterpolar": [
           {
            "marker": {
             "colorbar": {
              "outlinewidth": 0,
              "ticks": ""
             }
            },
            "type": "scatterpolar"
           }
          ],
          "scatterpolargl": [
           {
            "marker": {
             "colorbar": {
              "outlinewidth": 0,
              "ticks": ""
             }
            },
            "type": "scatterpolargl"
           }
          ],
          "scatterternary": [
           {
            "marker": {
             "colorbar": {
              "outlinewidth": 0,
              "ticks": ""
             }
            },
            "type": "scatterternary"
           }
          ],
          "surface": [
           {
            "colorbar": {
             "outlinewidth": 0,
             "ticks": ""
            },
            "colorscale": [
             [
              0,
              "#0d0887"
             ],
             [
              0.1111111111111111,
              "#46039f"
             ],
             [
              0.2222222222222222,
              "#7201a8"
             ],
             [
              0.3333333333333333,
              "#9c179e"
             ],
             [
              0.4444444444444444,
              "#bd3786"
             ],
             [
              0.5555555555555556,
              "#d8576b"
             ],
             [
              0.6666666666666666,
              "#ed7953"
             ],
             [
              0.7777777777777778,
              "#fb9f3a"
             ],
             [
              0.8888888888888888,
              "#fdca26"
             ],
             [
              1,
              "#f0f921"
             ]
            ],
            "type": "surface"
           }
          ],
          "table": [
           {
            "cells": {
             "fill": {
              "color": "#EBF0F8"
             },
             "line": {
              "color": "white"
             }
            },
            "header": {
             "fill": {
              "color": "#C8D4E3"
             },
             "line": {
              "color": "white"
             }
            },
            "type": "table"
           }
          ]
         },
         "layout": {
          "annotationdefaults": {
           "arrowcolor": "#2a3f5f",
           "arrowhead": 0,
           "arrowwidth": 1
          },
          "colorscale": {
           "diverging": [
            [
             0,
             "#8e0152"
            ],
            [
             0.1,
             "#c51b7d"
            ],
            [
             0.2,
             "#de77ae"
            ],
            [
             0.3,
             "#f1b6da"
            ],
            [
             0.4,
             "#fde0ef"
            ],
            [
             0.5,
             "#f7f7f7"
            ],
            [
             0.6,
             "#e6f5d0"
            ],
            [
             0.7,
             "#b8e186"
            ],
            [
             0.8,
             "#7fbc41"
            ],
            [
             0.9,
             "#4d9221"
            ],
            [
             1,
             "#276419"
            ]
           ],
           "sequential": [
            [
             0,
             "#0d0887"
            ],
            [
             0.1111111111111111,
             "#46039f"
            ],
            [
             0.2222222222222222,
             "#7201a8"
            ],
            [
             0.3333333333333333,
             "#9c179e"
            ],
            [
             0.4444444444444444,
             "#bd3786"
            ],
            [
             0.5555555555555556,
             "#d8576b"
            ],
            [
             0.6666666666666666,
             "#ed7953"
            ],
            [
             0.7777777777777778,
             "#fb9f3a"
            ],
            [
             0.8888888888888888,
             "#fdca26"
            ],
            [
             1,
             "#f0f921"
            ]
           ],
           "sequentialminus": [
            [
             0,
             "#0d0887"
            ],
            [
             0.1111111111111111,
             "#46039f"
            ],
            [
             0.2222222222222222,
             "#7201a8"
            ],
            [
             0.3333333333333333,
             "#9c179e"
            ],
            [
             0.4444444444444444,
             "#bd3786"
            ],
            [
             0.5555555555555556,
             "#d8576b"
            ],
            [
             0.6666666666666666,
             "#ed7953"
            ],
            [
             0.7777777777777778,
             "#fb9f3a"
            ],
            [
             0.8888888888888888,
             "#fdca26"
            ],
            [
             1,
             "#f0f921"
            ]
           ]
          },
          "colorway": [
           "#636efa",
           "#EF553B",
           "#00cc96",
           "#ab63fa",
           "#FFA15A",
           "#19d3f3",
           "#FF6692",
           "#B6E880",
           "#FF97FF",
           "#FECB52"
          ],
          "font": {
           "color": "#2a3f5f"
          },
          "geo": {
           "bgcolor": "white",
           "lakecolor": "white",
           "landcolor": "#E5ECF6",
           "showlakes": true,
           "showland": true,
           "subunitcolor": "white"
          },
          "hoverlabel": {
           "align": "left"
          },
          "hovermode": "closest",
          "mapbox": {
           "style": "light"
          },
          "paper_bgcolor": "white",
          "plot_bgcolor": "#E5ECF6",
          "polar": {
           "angularaxis": {
            "gridcolor": "white",
            "linecolor": "white",
            "ticks": ""
           },
           "bgcolor": "#E5ECF6",
           "radialaxis": {
            "gridcolor": "white",
            "linecolor": "white",
            "ticks": ""
           }
          },
          "scene": {
           "xaxis": {
            "backgroundcolor": "#E5ECF6",
            "gridcolor": "white",
            "gridwidth": 2,
            "linecolor": "white",
            "showbackground": true,
            "ticks": "",
            "zerolinecolor": "white"
           },
           "yaxis": {
            "backgroundcolor": "#E5ECF6",
            "gridcolor": "white",
            "gridwidth": 2,
            "linecolor": "white",
            "showbackground": true,
            "ticks": "",
            "zerolinecolor": "white"
           },
           "zaxis": {
            "backgroundcolor": "#E5ECF6",
            "gridcolor": "white",
            "gridwidth": 2,
            "linecolor": "white",
            "showbackground": true,
            "ticks": "",
            "zerolinecolor": "white"
           }
          },
          "shapedefaults": {
           "line": {
            "color": "#2a3f5f"
           }
          },
          "ternary": {
           "aaxis": {
            "gridcolor": "white",
            "linecolor": "white",
            "ticks": ""
           },
           "baxis": {
            "gridcolor": "white",
            "linecolor": "white",
            "ticks": ""
           },
           "bgcolor": "#E5ECF6",
           "caxis": {
            "gridcolor": "white",
            "linecolor": "white",
            "ticks": ""
           }
          },
          "title": {
           "x": 0.05
          },
          "xaxis": {
           "automargin": true,
           "gridcolor": "white",
           "linecolor": "white",
           "ticks": "",
           "zerolinecolor": "white",
           "zerolinewidth": 2
          },
          "yaxis": {
           "automargin": true,
           "gridcolor": "white",
           "linecolor": "white",
           "ticks": "",
           "zerolinecolor": "white",
           "zerolinewidth": 2
          }
         }
        },
        "title": {
         "font": {
          "color": "#4D5663"
         },
         "text": "Bar chart of Distribution of places"
        },
        "xaxis": {
         "gridcolor": "#E1E5ED",
         "linecolor": "black",
         "showgrid": true,
         "tickfont": {
          "color": "#4D5663"
         },
         "title": {
          "font": {
           "color": "#4D5663"
          },
          "text": "Places"
         },
         "zerolinecolor": "#E1E5ED"
        },
        "yaxis": {
         "gridcolor": "#E1E5ED",
         "linecolor": "black",
         "showgrid": true,
         "tickfont": {
          "color": "#4D5663"
         },
         "title": {
          "font": {
           "color": "#4D5663"
          },
          "text": "Count"
         },
         "zerolinecolor": "#E1E5ED"
        }
       }
      },
      "text/html": [
       "<div>\n",
       "        \n",
       "        \n",
       "            <div id=\"125ba99a-4e24-495d-8041-9f426699a6f8\" class=\"plotly-graph-div\" style=\"height:525px; width:100%;\"></div>\n",
       "            <script type=\"text/javascript\">\n",
       "                require([\"plotly\"], function(Plotly) {\n",
       "                    window.PLOTLYENV=window.PLOTLYENV || {};\n",
       "                    window.PLOTLYENV.BASE_URL='https://plot.ly';\n",
       "                    \n",
       "                if (document.getElementById(\"125ba99a-4e24-495d-8041-9f426699a6f8\")) {\n",
       "                    Plotly.newPlot(\n",
       "                        '125ba99a-4e24-495d-8041-9f426699a6f8',\n",
       "                        [{\"marker\": {\"color\": \"rgba(255, 153, 51, 0.8)\", \"line\": {\"color\": \"rgba(255, 153, 51, 1.0)\", \"width\": 1}}, \"name\": \"body\", \"orientation\": \"v\", \"text\": \"\", \"type\": \"bar\", \"x\": [\"usa\", \"uk\", \"west-germany\", \"usa, japan\", \"japan, usa\", \"japan\", \"france\", \"switzerland\", \"canada\", \"usa, ussr\", \"belgium\", \"argentina\", \"australia\", \"brazil\", \"saudi-arabia\", \"hong-kong\", \"uk, usa\", \"china\", \"canada, usa\", \"west-germany, usa\", \"south-korea, usa\", \"usa, west-germany\", \"philippines\", \"indonesia\", \"netherlands\", \"usa, uk\", \"japan, usa, uk\", \"nigeria\", \"usa, brazil\", \"usa, canada\", \"netherlands, west-germany\", \"taiwan\", \"ivory-coast\", \"usa, japan, uk\", \"new-zealand\", \"sri-lanka\", \"bolivia\", \"spain\", \"india\", \"japan, uk\", \"japan, usa, uk, west-germany, france, canada\", \"japan, usa, west-germany, uk, france\", \"japan, usa, uk, west-germany, france, italy, canada\", \"new-zealand, usa\", \"japan, west-germany, usa\", \"kenya\", \"kuwait\", \"kuwait, ecuador\", \"netherlands, brazil, west-germany, italy\", \"kuwait, usa, iran\", \"luxembourg, argentina, spain, portugal, west-germany, japan, france, canada\", \"malaysia, indonesia, thailand, sri-lanka\", \"malaysia, indonesia, thailand, zaire, bolivia, nigeria, australia, brazil, china\", \"japan, iran\", \"mexico, usa\", \"japan, iraq, iran, uae, qatar, kuwait, saudi-arabia\", \"hungary\", \"japan, hong-kong, singapore, switzerland\", \"japan, brazil, mexico, philippines, indonesia, usa\", \"australia, bahrain, uae, saudi-arabia, kuwait, iran\", \"australia, uk, canada, usa, japan\", \"austria\", \"bahrain, iran, usa\", \"bahrain, kuwait, oman, saudi-arabia, qatar, uae\", \"bahrain, uk, saudi-arabia\", \"bahrain, usa, iran\", \"belgium, japan, uk, france\", \"belgium, spain, portugal\", \"belgium, west-germany, uk\", \"brazil, mexico, guatemala, ecuador, panama, costa-rica, colombia, dominican-republic, usa\", \"canada, brazil\", \"china, usa\", \"colombia\", \"colombia, brazil\", \"egypt, sudan\", \"ethiopia\", \"fiji\", \"france, japan, west-germany, usa\", \"france, west-germany, usa, japan\", \"greece, turkey\", \"hong-kong, australia, sri-lanka, china, indonesia, peru\", \"hong-kong, usa, japan, taiwan, malaysia, south-korea, australia\", \"pakistan\", \"india, ussr, south-korea\", \"indonesia, costa-rica, dominican-republic, honduras, ecuador, papua-new-guinea, peru, colombia, brazil, usa, japan\", \"indonesia, uk, malaysia, usa, papua-new-guinea, west-germany, netherlands\", \"indonesia, usa\", \"iraq, iran, japan, saudi-arabia\", \"norway, south-africa\", \"zambia, south-africa\", \"peru\", \"usa, france\", \"usa, japan, south-korea\", \"usa, japan, france, uk, canada, west-germany\", \"usa, japan, brazil, china, australia\", \"usa, iran, iraq, kuwait\", \"usa, iran, algeria, libya, saudi-arabia, iran, iraq, kuwait\", \"usa, iran\", \"usa, canada, israel\", \"uk, usa, west-germany, japan\", \"usa, canada, australia, mexico\", \"usa, brazil, colombia, el-salvador, guatemala, netherlands, west-germany, australia, new-zealand, uk, japan, dominican-republic, costa-rica\", \"usa, algeria, venezuela, uk\", \"uk, west-germany, japan\", \"uk, west-germany\", \"uk, ussr, china, cuba\", \"usa, japan, taiwan, south-korea\", \"usa, japan, uk, west-germany, france, italy, canada\", \"usa, japan, west-germany\", \"usa, philippines\", \"usa, saudi-arabia, japan\", \"usa, south-korea\", \"usa, taiwan, south-korea, hong-kong, singapore\", \"usa, uk, canada\", \"usa, uk, japan\", \"usa, uk, japan, west-germany, france, canada, italy\", \"usa, ussr, canada, australia, argentina\", \"usa, west-germany, japan\", \"ussr, usa\", \"ussr, usa, argentina\", \"west-germany, usa, japan\", \"west-germany, usa, japan, uk, france\", \"west-germany, usa, uk\", \"uk, ussr\", \"uk, usa, west-germany\", \"poland, usa\", \"taiwan, usa\", \"uk, brazil, guatemala, colombia\", \"uk, brazil\", \"uganda\", \"uae, usa\", \"turkey\", \"thailand\", \"switzerland, west-germany\", \"uk, usa, malaysia, canada, west-germany, france, brazil\", \"switzerland, usa, west-germany, japan\", \"zambia\", \"south-africa\", \"singapore, japan\", \"singapore\", \"portugal\", \"uk, canada, usa, ussr\", \"uk, colombia\", \"uk, france, west-germany, sweden, netherlands, hungary, spain, denmark, ireland\", \"uk, jamaica, qatar, nigeria, saudi-arabia, iran, iraq, indonesia, venezuela\", \"uk, japan\", \"uk, japan, canada, west-germany, usa\", \"uk, japan, usa\", \"uk, malaysia, brazil, ghana\", \"uk, qatar, nigeria, iran, libya, saudi-arabia\", \"uk, singapore\", \"uk, uae, kuwait, iran, saudi-arabia, ecuador, qatar, nigeria, algeria, gabon, indonesia, libya, qatar, iran, saudi-arabia, venezuela\", \"uk, usa, argentina, australia, canada\", \"uk, usa, brazil\", \"uk, usa, brazil, colombia\", \"uk, usa, france, west-germany, canada, italy, japan\", \"uk, usa, iran, kuwait, saudi-arabia\", \"uk, usa, japan\", \"south-korea, usa, japan\"], \"y\": [162, 28, 22, 20, 17, 14, 10, 8, 8, 6, 6, 6, 5, 5, 5, 5, 4, 4, 4, 4, 4, 4, 3, 3, 3, 3, 3, 2, 2, 2, 2, 2, 2, 2, 2, 2, 2, 2, 2, 1, 1, 1, 1, 1, 1, 1, 1, 1, 1, 1, 1, 1, 1, 1, 1, 1, 1, 1, 1, 1, 1, 1, 1, 1, 1, 1, 1, 1, 1, 1, 1, 1, 1, 1, 1, 1, 1, 1, 1, 1, 1, 1, 1, 1, 1, 1, 1, 1, 1, 1, 1, 1, 1, 1, 1, 1, 1, 1, 1, 1, 1, 1, 1, 1, 1, 1, 1, 1, 1, 1, 1, 1, 1, 1, 1, 1, 1, 1, 1, 1, 1, 1, 1, 1, 1, 1, 1, 1, 1, 1, 1, 1, 1, 1, 1, 1, 1, 1, 1, 1, 1, 1, 1, 1, 1, 1, 1, 1, 1, 1, 1, 1, 1, 1, 1, 1, 1, 1, 1]}],\n",
       "                        {\"legend\": {\"bgcolor\": \"#F5F6F9\", \"font\": {\"color\": \"#4D5663\"}}, \"paper_bgcolor\": \"#F5F6F9\", \"plot_bgcolor\": \"#F5F6F9\", \"template\": {\"data\": {\"bar\": [{\"error_x\": {\"color\": \"#2a3f5f\"}, \"error_y\": {\"color\": \"#2a3f5f\"}, \"marker\": {\"line\": {\"color\": \"#E5ECF6\", \"width\": 0.5}}, \"type\": \"bar\"}], \"barpolar\": [{\"marker\": {\"line\": {\"color\": \"#E5ECF6\", \"width\": 0.5}}, \"type\": \"barpolar\"}], \"carpet\": [{\"aaxis\": {\"endlinecolor\": \"#2a3f5f\", \"gridcolor\": \"white\", \"linecolor\": \"white\", \"minorgridcolor\": \"white\", \"startlinecolor\": \"#2a3f5f\"}, \"baxis\": {\"endlinecolor\": \"#2a3f5f\", \"gridcolor\": \"white\", \"linecolor\": \"white\", \"minorgridcolor\": \"white\", \"startlinecolor\": \"#2a3f5f\"}, \"type\": \"carpet\"}], \"choropleth\": [{\"colorbar\": {\"outlinewidth\": 0, \"ticks\": \"\"}, \"type\": \"choropleth\"}], \"contour\": [{\"colorbar\": {\"outlinewidth\": 0, \"ticks\": \"\"}, \"colorscale\": [[0.0, \"#0d0887\"], [0.1111111111111111, \"#46039f\"], [0.2222222222222222, \"#7201a8\"], [0.3333333333333333, \"#9c179e\"], [0.4444444444444444, \"#bd3786\"], [0.5555555555555556, \"#d8576b\"], [0.6666666666666666, \"#ed7953\"], [0.7777777777777778, \"#fb9f3a\"], [0.8888888888888888, \"#fdca26\"], [1.0, \"#f0f921\"]], \"type\": \"contour\"}], \"contourcarpet\": [{\"colorbar\": {\"outlinewidth\": 0, \"ticks\": \"\"}, \"type\": \"contourcarpet\"}], \"heatmap\": [{\"colorbar\": {\"outlinewidth\": 0, \"ticks\": \"\"}, \"colorscale\": [[0.0, \"#0d0887\"], [0.1111111111111111, \"#46039f\"], [0.2222222222222222, \"#7201a8\"], [0.3333333333333333, \"#9c179e\"], [0.4444444444444444, \"#bd3786\"], [0.5555555555555556, \"#d8576b\"], [0.6666666666666666, \"#ed7953\"], [0.7777777777777778, \"#fb9f3a\"], [0.8888888888888888, \"#fdca26\"], [1.0, \"#f0f921\"]], \"type\": \"heatmap\"}], \"heatmapgl\": [{\"colorbar\": {\"outlinewidth\": 0, \"ticks\": \"\"}, \"colorscale\": [[0.0, \"#0d0887\"], [0.1111111111111111, \"#46039f\"], [0.2222222222222222, \"#7201a8\"], [0.3333333333333333, \"#9c179e\"], [0.4444444444444444, \"#bd3786\"], [0.5555555555555556, \"#d8576b\"], [0.6666666666666666, \"#ed7953\"], [0.7777777777777778, \"#fb9f3a\"], [0.8888888888888888, \"#fdca26\"], [1.0, \"#f0f921\"]], \"type\": \"heatmapgl\"}], \"histogram\": [{\"marker\": {\"colorbar\": {\"outlinewidth\": 0, \"ticks\": \"\"}}, \"type\": \"histogram\"}], \"histogram2d\": [{\"colorbar\": {\"outlinewidth\": 0, \"ticks\": \"\"}, \"colorscale\": [[0.0, \"#0d0887\"], [0.1111111111111111, \"#46039f\"], [0.2222222222222222, \"#7201a8\"], [0.3333333333333333, \"#9c179e\"], [0.4444444444444444, \"#bd3786\"], [0.5555555555555556, \"#d8576b\"], [0.6666666666666666, \"#ed7953\"], [0.7777777777777778, \"#fb9f3a\"], [0.8888888888888888, \"#fdca26\"], [1.0, \"#f0f921\"]], \"type\": \"histogram2d\"}], \"histogram2dcontour\": [{\"colorbar\": {\"outlinewidth\": 0, \"ticks\": \"\"}, \"colorscale\": [[0.0, \"#0d0887\"], [0.1111111111111111, \"#46039f\"], [0.2222222222222222, \"#7201a8\"], [0.3333333333333333, \"#9c179e\"], [0.4444444444444444, \"#bd3786\"], [0.5555555555555556, \"#d8576b\"], [0.6666666666666666, \"#ed7953\"], [0.7777777777777778, \"#fb9f3a\"], [0.8888888888888888, \"#fdca26\"], [1.0, \"#f0f921\"]], \"type\": \"histogram2dcontour\"}], \"mesh3d\": [{\"colorbar\": {\"outlinewidth\": 0, \"ticks\": \"\"}, \"type\": \"mesh3d\"}], \"parcoords\": [{\"line\": {\"colorbar\": {\"outlinewidth\": 0, \"ticks\": \"\"}}, \"type\": \"parcoords\"}], \"scatter\": [{\"marker\": {\"colorbar\": {\"outlinewidth\": 0, \"ticks\": \"\"}}, \"type\": \"scatter\"}], \"scatter3d\": [{\"line\": {\"colorbar\": {\"outlinewidth\": 0, \"ticks\": \"\"}}, \"marker\": {\"colorbar\": {\"outlinewidth\": 0, \"ticks\": \"\"}}, \"type\": \"scatter3d\"}], \"scattercarpet\": [{\"marker\": {\"colorbar\": {\"outlinewidth\": 0, \"ticks\": \"\"}}, \"type\": \"scattercarpet\"}], \"scattergeo\": [{\"marker\": {\"colorbar\": {\"outlinewidth\": 0, \"ticks\": \"\"}}, \"type\": \"scattergeo\"}], \"scattergl\": [{\"marker\": {\"colorbar\": {\"outlinewidth\": 0, \"ticks\": \"\"}}, \"type\": \"scattergl\"}], \"scattermapbox\": [{\"marker\": {\"colorbar\": {\"outlinewidth\": 0, \"ticks\": \"\"}}, \"type\": \"scattermapbox\"}], \"scatterpolar\": [{\"marker\": {\"colorbar\": {\"outlinewidth\": 0, \"ticks\": \"\"}}, \"type\": \"scatterpolar\"}], \"scatterpolargl\": [{\"marker\": {\"colorbar\": {\"outlinewidth\": 0, \"ticks\": \"\"}}, \"type\": \"scatterpolargl\"}], \"scatterternary\": [{\"marker\": {\"colorbar\": {\"outlinewidth\": 0, \"ticks\": \"\"}}, \"type\": \"scatterternary\"}], \"surface\": [{\"colorbar\": {\"outlinewidth\": 0, \"ticks\": \"\"}, \"colorscale\": [[0.0, \"#0d0887\"], [0.1111111111111111, \"#46039f\"], [0.2222222222222222, \"#7201a8\"], [0.3333333333333333, \"#9c179e\"], [0.4444444444444444, \"#bd3786\"], [0.5555555555555556, \"#d8576b\"], [0.6666666666666666, \"#ed7953\"], [0.7777777777777778, \"#fb9f3a\"], [0.8888888888888888, \"#fdca26\"], [1.0, \"#f0f921\"]], \"type\": \"surface\"}], \"table\": [{\"cells\": {\"fill\": {\"color\": \"#EBF0F8\"}, \"line\": {\"color\": \"white\"}}, \"header\": {\"fill\": {\"color\": \"#C8D4E3\"}, \"line\": {\"color\": \"white\"}}, \"type\": \"table\"}]}, \"layout\": {\"annotationdefaults\": {\"arrowcolor\": \"#2a3f5f\", \"arrowhead\": 0, \"arrowwidth\": 1}, \"colorscale\": {\"diverging\": [[0, \"#8e0152\"], [0.1, \"#c51b7d\"], [0.2, \"#de77ae\"], [0.3, \"#f1b6da\"], [0.4, \"#fde0ef\"], [0.5, \"#f7f7f7\"], [0.6, \"#e6f5d0\"], [0.7, \"#b8e186\"], [0.8, \"#7fbc41\"], [0.9, \"#4d9221\"], [1, \"#276419\"]], \"sequential\": [[0.0, \"#0d0887\"], [0.1111111111111111, \"#46039f\"], [0.2222222222222222, \"#7201a8\"], [0.3333333333333333, \"#9c179e\"], [0.4444444444444444, \"#bd3786\"], [0.5555555555555556, \"#d8576b\"], [0.6666666666666666, \"#ed7953\"], [0.7777777777777778, \"#fb9f3a\"], [0.8888888888888888, \"#fdca26\"], [1.0, \"#f0f921\"]], \"sequentialminus\": [[0.0, \"#0d0887\"], [0.1111111111111111, \"#46039f\"], [0.2222222222222222, \"#7201a8\"], [0.3333333333333333, \"#9c179e\"], [0.4444444444444444, \"#bd3786\"], [0.5555555555555556, \"#d8576b\"], [0.6666666666666666, \"#ed7953\"], [0.7777777777777778, \"#fb9f3a\"], [0.8888888888888888, \"#fdca26\"], [1.0, \"#f0f921\"]]}, \"colorway\": [\"#636efa\", \"#EF553B\", \"#00cc96\", \"#ab63fa\", \"#FFA15A\", \"#19d3f3\", \"#FF6692\", \"#B6E880\", \"#FF97FF\", \"#FECB52\"], \"font\": {\"color\": \"#2a3f5f\"}, \"geo\": {\"bgcolor\": \"white\", \"lakecolor\": \"white\", \"landcolor\": \"#E5ECF6\", \"showlakes\": true, \"showland\": true, \"subunitcolor\": \"white\"}, \"hoverlabel\": {\"align\": \"left\"}, \"hovermode\": \"closest\", \"mapbox\": {\"style\": \"light\"}, \"paper_bgcolor\": \"white\", \"plot_bgcolor\": \"#E5ECF6\", \"polar\": {\"angularaxis\": {\"gridcolor\": \"white\", \"linecolor\": \"white\", \"ticks\": \"\"}, \"bgcolor\": \"#E5ECF6\", \"radialaxis\": {\"gridcolor\": \"white\", \"linecolor\": \"white\", \"ticks\": \"\"}}, \"scene\": {\"xaxis\": {\"backgroundcolor\": \"#E5ECF6\", \"gridcolor\": \"white\", \"gridwidth\": 2, \"linecolor\": \"white\", \"showbackground\": true, \"ticks\": \"\", \"zerolinecolor\": \"white\"}, \"yaxis\": {\"backgroundcolor\": \"#E5ECF6\", \"gridcolor\": \"white\", \"gridwidth\": 2, \"linecolor\": \"white\", \"showbackground\": true, \"ticks\": \"\", \"zerolinecolor\": \"white\"}, \"zaxis\": {\"backgroundcolor\": \"#E5ECF6\", \"gridcolor\": \"white\", \"gridwidth\": 2, \"linecolor\": \"white\", \"showbackground\": true, \"ticks\": \"\", \"zerolinecolor\": \"white\"}}, \"shapedefaults\": {\"line\": {\"color\": \"#2a3f5f\"}}, \"ternary\": {\"aaxis\": {\"gridcolor\": \"white\", \"linecolor\": \"white\", \"ticks\": \"\"}, \"baxis\": {\"gridcolor\": \"white\", \"linecolor\": \"white\", \"ticks\": \"\"}, \"bgcolor\": \"#E5ECF6\", \"caxis\": {\"gridcolor\": \"white\", \"linecolor\": \"white\", \"ticks\": \"\"}}, \"title\": {\"x\": 0.05}, \"xaxis\": {\"automargin\": true, \"gridcolor\": \"white\", \"linecolor\": \"white\", \"ticks\": \"\", \"zerolinecolor\": \"white\", \"zerolinewidth\": 2}, \"yaxis\": {\"automargin\": true, \"gridcolor\": \"white\", \"linecolor\": \"white\", \"ticks\": \"\", \"zerolinecolor\": \"white\", \"zerolinewidth\": 2}}}, \"title\": {\"font\": {\"color\": \"#4D5663\"}, \"text\": \"Bar chart of Distribution of places\"}, \"xaxis\": {\"gridcolor\": \"#E1E5ED\", \"linecolor\": \"black\", \"showgrid\": true, \"tickfont\": {\"color\": \"#4D5663\"}, \"title\": {\"font\": {\"color\": \"#4D5663\"}, \"text\": \"Places\"}, \"zerolinecolor\": \"#E1E5ED\"}, \"yaxis\": {\"gridcolor\": \"#E1E5ED\", \"linecolor\": \"black\", \"showgrid\": true, \"tickfont\": {\"color\": \"#4D5663\"}, \"title\": {\"font\": {\"color\": \"#4D5663\"}, \"text\": \"Count\"}, \"zerolinecolor\": \"#E1E5ED\"}},\n",
       "                        {\"showLink\": true, \"linkText\": \"Export to plot.ly\", \"plotlyServerURL\": \"https://plot.ly\", \"responsive\": true}\n",
       "                    ).then(function(){\n",
       "                            \n",
       "var gd = document.getElementById('125ba99a-4e24-495d-8041-9f426699a6f8');\n",
       "var x = new MutationObserver(function (mutations, observer) {{\n",
       "        var display = window.getComputedStyle(gd).display;\n",
       "        if (!display || display === 'none') {{\n",
       "            console.log([gd, 'removed!']);\n",
       "            Plotly.purge(gd);\n",
       "            observer.disconnect();\n",
       "        }}\n",
       "}});\n",
       "\n",
       "// Listen for the removal of the full notebook cells\n",
       "var notebookContainer = gd.closest('#notebook-container');\n",
       "if (notebookContainer) {{\n",
       "    x.observe(notebookContainer, {childList: true});\n",
       "}}\n",
       "\n",
       "// Listen for the clearing of the current output cell\n",
       "var outputEl = gd.closest('.output');\n",
       "if (outputEl) {{\n",
       "    x.observe(outputEl, {childList: true});\n",
       "}}\n",
       "\n",
       "                        })\n",
       "                };\n",
       "                });\n",
       "            </script>\n",
       "        </div>"
      ]
     },
     "metadata": {},
     "output_type": "display_data"
    }
   ],
   "source": [
    "df_filter.groupby('places').count()['body'].sort_values(ascending=False).iplot(kind='bar', yTitle='Count', linecolor='black', opacity=0.8,\n",
    "                                                           title='Bar chart of Distribution of places', xTitle='Places')"
   ]
  },
  {
   "cell_type": "code",
   "execution_count": 67,
   "metadata": {},
   "outputs": [
    {
     "data": {
      "application/vnd.plotly.v1+json": {
       "config": {
        "linkText": "Export to plot.ly",
        "plotlyServerURL": "https://plot.ly",
        "showLink": true
       },
       "data": [
        {
         "marker": {
          "color": "rgba(255, 153, 51, 0.6)",
          "line": {
           "color": "rgba(255, 153, 51, 1.0)",
           "width": 1
          }
         },
         "name": "count",
         "orientation": "v",
         "text": "",
         "type": "bar",
         "x": [
          "usa",
          "japan",
          "uk",
          "west",
          "germany",
          "canada",
          "france",
          "brazil",
          "arabia",
          "saudi",
          "iran",
          "australia",
          "south",
          "ussr",
          "indonesia",
          "korea",
          "switzerland",
          "kuwait",
          "argentina",
          "china"
         ],
         "y": [
          301,
          96,
          84,
          61,
          61,
          31,
          25,
          22,
          17,
          17,
          16,
          15,
          14,
          13,
          12,
          11,
          11,
          10,
          10,
          9
         ]
        }
       ],
       "layout": {
        "legend": {
         "bgcolor": "#F5F6F9",
         "font": {
          "color": "#4D5663"
         }
        },
        "paper_bgcolor": "#F5F6F9",
        "plot_bgcolor": "#F5F6F9",
        "template": {
         "data": {
          "bar": [
           {
            "error_x": {
             "color": "#2a3f5f"
            },
            "error_y": {
             "color": "#2a3f5f"
            },
            "marker": {
             "line": {
              "color": "#E5ECF6",
              "width": 0.5
             }
            },
            "type": "bar"
           }
          ],
          "barpolar": [
           {
            "marker": {
             "line": {
              "color": "#E5ECF6",
              "width": 0.5
             }
            },
            "type": "barpolar"
           }
          ],
          "carpet": [
           {
            "aaxis": {
             "endlinecolor": "#2a3f5f",
             "gridcolor": "white",
             "linecolor": "white",
             "minorgridcolor": "white",
             "startlinecolor": "#2a3f5f"
            },
            "baxis": {
             "endlinecolor": "#2a3f5f",
             "gridcolor": "white",
             "linecolor": "white",
             "minorgridcolor": "white",
             "startlinecolor": "#2a3f5f"
            },
            "type": "carpet"
           }
          ],
          "choropleth": [
           {
            "colorbar": {
             "outlinewidth": 0,
             "ticks": ""
            },
            "type": "choropleth"
           }
          ],
          "contour": [
           {
            "colorbar": {
             "outlinewidth": 0,
             "ticks": ""
            },
            "colorscale": [
             [
              0,
              "#0d0887"
             ],
             [
              0.1111111111111111,
              "#46039f"
             ],
             [
              0.2222222222222222,
              "#7201a8"
             ],
             [
              0.3333333333333333,
              "#9c179e"
             ],
             [
              0.4444444444444444,
              "#bd3786"
             ],
             [
              0.5555555555555556,
              "#d8576b"
             ],
             [
              0.6666666666666666,
              "#ed7953"
             ],
             [
              0.7777777777777778,
              "#fb9f3a"
             ],
             [
              0.8888888888888888,
              "#fdca26"
             ],
             [
              1,
              "#f0f921"
             ]
            ],
            "type": "contour"
           }
          ],
          "contourcarpet": [
           {
            "colorbar": {
             "outlinewidth": 0,
             "ticks": ""
            },
            "type": "contourcarpet"
           }
          ],
          "heatmap": [
           {
            "colorbar": {
             "outlinewidth": 0,
             "ticks": ""
            },
            "colorscale": [
             [
              0,
              "#0d0887"
             ],
             [
              0.1111111111111111,
              "#46039f"
             ],
             [
              0.2222222222222222,
              "#7201a8"
             ],
             [
              0.3333333333333333,
              "#9c179e"
             ],
             [
              0.4444444444444444,
              "#bd3786"
             ],
             [
              0.5555555555555556,
              "#d8576b"
             ],
             [
              0.6666666666666666,
              "#ed7953"
             ],
             [
              0.7777777777777778,
              "#fb9f3a"
             ],
             [
              0.8888888888888888,
              "#fdca26"
             ],
             [
              1,
              "#f0f921"
             ]
            ],
            "type": "heatmap"
           }
          ],
          "heatmapgl": [
           {
            "colorbar": {
             "outlinewidth": 0,
             "ticks": ""
            },
            "colorscale": [
             [
              0,
              "#0d0887"
             ],
             [
              0.1111111111111111,
              "#46039f"
             ],
             [
              0.2222222222222222,
              "#7201a8"
             ],
             [
              0.3333333333333333,
              "#9c179e"
             ],
             [
              0.4444444444444444,
              "#bd3786"
             ],
             [
              0.5555555555555556,
              "#d8576b"
             ],
             [
              0.6666666666666666,
              "#ed7953"
             ],
             [
              0.7777777777777778,
              "#fb9f3a"
             ],
             [
              0.8888888888888888,
              "#fdca26"
             ],
             [
              1,
              "#f0f921"
             ]
            ],
            "type": "heatmapgl"
           }
          ],
          "histogram": [
           {
            "marker": {
             "colorbar": {
              "outlinewidth": 0,
              "ticks": ""
             }
            },
            "type": "histogram"
           }
          ],
          "histogram2d": [
           {
            "colorbar": {
             "outlinewidth": 0,
             "ticks": ""
            },
            "colorscale": [
             [
              0,
              "#0d0887"
             ],
             [
              0.1111111111111111,
              "#46039f"
             ],
             [
              0.2222222222222222,
              "#7201a8"
             ],
             [
              0.3333333333333333,
              "#9c179e"
             ],
             [
              0.4444444444444444,
              "#bd3786"
             ],
             [
              0.5555555555555556,
              "#d8576b"
             ],
             [
              0.6666666666666666,
              "#ed7953"
             ],
             [
              0.7777777777777778,
              "#fb9f3a"
             ],
             [
              0.8888888888888888,
              "#fdca26"
             ],
             [
              1,
              "#f0f921"
             ]
            ],
            "type": "histogram2d"
           }
          ],
          "histogram2dcontour": [
           {
            "colorbar": {
             "outlinewidth": 0,
             "ticks": ""
            },
            "colorscale": [
             [
              0,
              "#0d0887"
             ],
             [
              0.1111111111111111,
              "#46039f"
             ],
             [
              0.2222222222222222,
              "#7201a8"
             ],
             [
              0.3333333333333333,
              "#9c179e"
             ],
             [
              0.4444444444444444,
              "#bd3786"
             ],
             [
              0.5555555555555556,
              "#d8576b"
             ],
             [
              0.6666666666666666,
              "#ed7953"
             ],
             [
              0.7777777777777778,
              "#fb9f3a"
             ],
             [
              0.8888888888888888,
              "#fdca26"
             ],
             [
              1,
              "#f0f921"
             ]
            ],
            "type": "histogram2dcontour"
           }
          ],
          "mesh3d": [
           {
            "colorbar": {
             "outlinewidth": 0,
             "ticks": ""
            },
            "type": "mesh3d"
           }
          ],
          "parcoords": [
           {
            "line": {
             "colorbar": {
              "outlinewidth": 0,
              "ticks": ""
             }
            },
            "type": "parcoords"
           }
          ],
          "scatter": [
           {
            "marker": {
             "colorbar": {
              "outlinewidth": 0,
              "ticks": ""
             }
            },
            "type": "scatter"
           }
          ],
          "scatter3d": [
           {
            "line": {
             "colorbar": {
              "outlinewidth": 0,
              "ticks": ""
             }
            },
            "marker": {
             "colorbar": {
              "outlinewidth": 0,
              "ticks": ""
             }
            },
            "type": "scatter3d"
           }
          ],
          "scattercarpet": [
           {
            "marker": {
             "colorbar": {
              "outlinewidth": 0,
              "ticks": ""
             }
            },
            "type": "scattercarpet"
           }
          ],
          "scattergeo": [
           {
            "marker": {
             "colorbar": {
              "outlinewidth": 0,
              "ticks": ""
             }
            },
            "type": "scattergeo"
           }
          ],
          "scattergl": [
           {
            "marker": {
             "colorbar": {
              "outlinewidth": 0,
              "ticks": ""
             }
            },
            "type": "scattergl"
           }
          ],
          "scattermapbox": [
           {
            "marker": {
             "colorbar": {
              "outlinewidth": 0,
              "ticks": ""
             }
            },
            "type": "scattermapbox"
           }
          ],
          "scatterpolar": [
           {
            "marker": {
             "colorbar": {
              "outlinewidth": 0,
              "ticks": ""
             }
            },
            "type": "scatterpolar"
           }
          ],
          "scatterpolargl": [
           {
            "marker": {
             "colorbar": {
              "outlinewidth": 0,
              "ticks": ""
             }
            },
            "type": "scatterpolargl"
           }
          ],
          "scatterternary": [
           {
            "marker": {
             "colorbar": {
              "outlinewidth": 0,
              "ticks": ""
             }
            },
            "type": "scatterternary"
           }
          ],
          "surface": [
           {
            "colorbar": {
             "outlinewidth": 0,
             "ticks": ""
            },
            "colorscale": [
             [
              0,
              "#0d0887"
             ],
             [
              0.1111111111111111,
              "#46039f"
             ],
             [
              0.2222222222222222,
              "#7201a8"
             ],
             [
              0.3333333333333333,
              "#9c179e"
             ],
             [
              0.4444444444444444,
              "#bd3786"
             ],
             [
              0.5555555555555556,
              "#d8576b"
             ],
             [
              0.6666666666666666,
              "#ed7953"
             ],
             [
              0.7777777777777778,
              "#fb9f3a"
             ],
             [
              0.8888888888888888,
              "#fdca26"
             ],
             [
              1,
              "#f0f921"
             ]
            ],
            "type": "surface"
           }
          ],
          "table": [
           {
            "cells": {
             "fill": {
              "color": "#EBF0F8"
             },
             "line": {
              "color": "white"
             }
            },
            "header": {
             "fill": {
              "color": "#C8D4E3"
             },
             "line": {
              "color": "white"
             }
            },
            "type": "table"
           }
          ]
         },
         "layout": {
          "annotationdefaults": {
           "arrowcolor": "#2a3f5f",
           "arrowhead": 0,
           "arrowwidth": 1
          },
          "colorscale": {
           "diverging": [
            [
             0,
             "#8e0152"
            ],
            [
             0.1,
             "#c51b7d"
            ],
            [
             0.2,
             "#de77ae"
            ],
            [
             0.3,
             "#f1b6da"
            ],
            [
             0.4,
             "#fde0ef"
            ],
            [
             0.5,
             "#f7f7f7"
            ],
            [
             0.6,
             "#e6f5d0"
            ],
            [
             0.7,
             "#b8e186"
            ],
            [
             0.8,
             "#7fbc41"
            ],
            [
             0.9,
             "#4d9221"
            ],
            [
             1,
             "#276419"
            ]
           ],
           "sequential": [
            [
             0,
             "#0d0887"
            ],
            [
             0.1111111111111111,
             "#46039f"
            ],
            [
             0.2222222222222222,
             "#7201a8"
            ],
            [
             0.3333333333333333,
             "#9c179e"
            ],
            [
             0.4444444444444444,
             "#bd3786"
            ],
            [
             0.5555555555555556,
             "#d8576b"
            ],
            [
             0.6666666666666666,
             "#ed7953"
            ],
            [
             0.7777777777777778,
             "#fb9f3a"
            ],
            [
             0.8888888888888888,
             "#fdca26"
            ],
            [
             1,
             "#f0f921"
            ]
           ],
           "sequentialminus": [
            [
             0,
             "#0d0887"
            ],
            [
             0.1111111111111111,
             "#46039f"
            ],
            [
             0.2222222222222222,
             "#7201a8"
            ],
            [
             0.3333333333333333,
             "#9c179e"
            ],
            [
             0.4444444444444444,
             "#bd3786"
            ],
            [
             0.5555555555555556,
             "#d8576b"
            ],
            [
             0.6666666666666666,
             "#ed7953"
            ],
            [
             0.7777777777777778,
             "#fb9f3a"
            ],
            [
             0.8888888888888888,
             "#fdca26"
            ],
            [
             1,
             "#f0f921"
            ]
           ]
          },
          "colorway": [
           "#636efa",
           "#EF553B",
           "#00cc96",
           "#ab63fa",
           "#FFA15A",
           "#19d3f3",
           "#FF6692",
           "#B6E880",
           "#FF97FF",
           "#FECB52"
          ],
          "font": {
           "color": "#2a3f5f"
          },
          "geo": {
           "bgcolor": "white",
           "lakecolor": "white",
           "landcolor": "#E5ECF6",
           "showlakes": true,
           "showland": true,
           "subunitcolor": "white"
          },
          "hoverlabel": {
           "align": "left"
          },
          "hovermode": "closest",
          "mapbox": {
           "style": "light"
          },
          "paper_bgcolor": "white",
          "plot_bgcolor": "#E5ECF6",
          "polar": {
           "angularaxis": {
            "gridcolor": "white",
            "linecolor": "white",
            "ticks": ""
           },
           "bgcolor": "#E5ECF6",
           "radialaxis": {
            "gridcolor": "white",
            "linecolor": "white",
            "ticks": ""
           }
          },
          "scene": {
           "xaxis": {
            "backgroundcolor": "#E5ECF6",
            "gridcolor": "white",
            "gridwidth": 2,
            "linecolor": "white",
            "showbackground": true,
            "ticks": "",
            "zerolinecolor": "white"
           },
           "yaxis": {
            "backgroundcolor": "#E5ECF6",
            "gridcolor": "white",
            "gridwidth": 2,
            "linecolor": "white",
            "showbackground": true,
            "ticks": "",
            "zerolinecolor": "white"
           },
           "zaxis": {
            "backgroundcolor": "#E5ECF6",
            "gridcolor": "white",
            "gridwidth": 2,
            "linecolor": "white",
            "showbackground": true,
            "ticks": "",
            "zerolinecolor": "white"
           }
          },
          "shapedefaults": {
           "line": {
            "color": "#2a3f5f"
           }
          },
          "ternary": {
           "aaxis": {
            "gridcolor": "white",
            "linecolor": "white",
            "ticks": ""
           },
           "baxis": {
            "gridcolor": "white",
            "linecolor": "white",
            "ticks": ""
           },
           "bgcolor": "#E5ECF6",
           "caxis": {
            "gridcolor": "white",
            "linecolor": "white",
            "ticks": ""
           }
          },
          "title": {
           "x": 0.05
          },
          "xaxis": {
           "automargin": true,
           "gridcolor": "white",
           "linecolor": "white",
           "ticks": "",
           "zerolinecolor": "white",
           "zerolinewidth": 2
          },
          "yaxis": {
           "automargin": true,
           "gridcolor": "white",
           "linecolor": "white",
           "ticks": "",
           "zerolinecolor": "white",
           "zerolinewidth": 2
          }
         }
        },
        "title": {
         "font": {
          "color": "#4D5663"
         },
         "text": "Top 20 words in Places"
        },
        "xaxis": {
         "gridcolor": "#E1E5ED",
         "linecolor": "black",
         "showgrid": true,
         "tickfont": {
          "color": "#4D5663"
         },
         "title": {
          "font": {
           "color": "#4D5663"
          },
          "text": ""
         },
         "zerolinecolor": "#E1E5ED"
        },
        "yaxis": {
         "gridcolor": "#E1E5ED",
         "linecolor": "black",
         "showgrid": true,
         "tickfont": {
          "color": "#4D5663"
         },
         "title": {
          "font": {
           "color": "#4D5663"
          },
          "text": "Count"
         },
         "zerolinecolor": "#E1E5ED"
        }
       }
      },
      "text/html": [
       "<div>\n",
       "        \n",
       "        \n",
       "            <div id=\"c27eb1ec-4f48-4e12-8f14-fb17585c55c3\" class=\"plotly-graph-div\" style=\"height:525px; width:100%;\"></div>\n",
       "            <script type=\"text/javascript\">\n",
       "                require([\"plotly\"], function(Plotly) {\n",
       "                    window.PLOTLYENV=window.PLOTLYENV || {};\n",
       "                    window.PLOTLYENV.BASE_URL='https://plot.ly';\n",
       "                    \n",
       "                if (document.getElementById(\"c27eb1ec-4f48-4e12-8f14-fb17585c55c3\")) {\n",
       "                    Plotly.newPlot(\n",
       "                        'c27eb1ec-4f48-4e12-8f14-fb17585c55c3',\n",
       "                        [{\"marker\": {\"color\": \"rgba(255, 153, 51, 0.6)\", \"line\": {\"color\": \"rgba(255, 153, 51, 1.0)\", \"width\": 1}}, \"name\": \"count\", \"orientation\": \"v\", \"text\": \"\", \"type\": \"bar\", \"x\": [\"usa\", \"japan\", \"uk\", \"west\", \"germany\", \"canada\", \"france\", \"brazil\", \"arabia\", \"saudi\", \"iran\", \"australia\", \"south\", \"ussr\", \"indonesia\", \"korea\", \"switzerland\", \"kuwait\", \"argentina\", \"china\"], \"y\": [301, 96, 84, 61, 61, 31, 25, 22, 17, 17, 16, 15, 14, 13, 12, 11, 11, 10, 10, 9]}],\n",
       "                        {\"legend\": {\"bgcolor\": \"#F5F6F9\", \"font\": {\"color\": \"#4D5663\"}}, \"paper_bgcolor\": \"#F5F6F9\", \"plot_bgcolor\": \"#F5F6F9\", \"template\": {\"data\": {\"bar\": [{\"error_x\": {\"color\": \"#2a3f5f\"}, \"error_y\": {\"color\": \"#2a3f5f\"}, \"marker\": {\"line\": {\"color\": \"#E5ECF6\", \"width\": 0.5}}, \"type\": \"bar\"}], \"barpolar\": [{\"marker\": {\"line\": {\"color\": \"#E5ECF6\", \"width\": 0.5}}, \"type\": \"barpolar\"}], \"carpet\": [{\"aaxis\": {\"endlinecolor\": \"#2a3f5f\", \"gridcolor\": \"white\", \"linecolor\": \"white\", \"minorgridcolor\": \"white\", \"startlinecolor\": \"#2a3f5f\"}, \"baxis\": {\"endlinecolor\": \"#2a3f5f\", \"gridcolor\": \"white\", \"linecolor\": \"white\", \"minorgridcolor\": \"white\", \"startlinecolor\": \"#2a3f5f\"}, \"type\": \"carpet\"}], \"choropleth\": [{\"colorbar\": {\"outlinewidth\": 0, \"ticks\": \"\"}, \"type\": \"choropleth\"}], \"contour\": [{\"colorbar\": {\"outlinewidth\": 0, \"ticks\": \"\"}, \"colorscale\": [[0.0, \"#0d0887\"], [0.1111111111111111, \"#46039f\"], [0.2222222222222222, \"#7201a8\"], [0.3333333333333333, \"#9c179e\"], [0.4444444444444444, \"#bd3786\"], [0.5555555555555556, \"#d8576b\"], [0.6666666666666666, \"#ed7953\"], [0.7777777777777778, \"#fb9f3a\"], [0.8888888888888888, \"#fdca26\"], [1.0, \"#f0f921\"]], \"type\": \"contour\"}], \"contourcarpet\": [{\"colorbar\": {\"outlinewidth\": 0, \"ticks\": \"\"}, \"type\": \"contourcarpet\"}], \"heatmap\": [{\"colorbar\": {\"outlinewidth\": 0, \"ticks\": \"\"}, \"colorscale\": [[0.0, \"#0d0887\"], [0.1111111111111111, \"#46039f\"], [0.2222222222222222, \"#7201a8\"], [0.3333333333333333, \"#9c179e\"], [0.4444444444444444, \"#bd3786\"], [0.5555555555555556, \"#d8576b\"], [0.6666666666666666, \"#ed7953\"], [0.7777777777777778, \"#fb9f3a\"], [0.8888888888888888, \"#fdca26\"], [1.0, \"#f0f921\"]], \"type\": \"heatmap\"}], \"heatmapgl\": [{\"colorbar\": {\"outlinewidth\": 0, \"ticks\": \"\"}, \"colorscale\": [[0.0, \"#0d0887\"], [0.1111111111111111, \"#46039f\"], [0.2222222222222222, \"#7201a8\"], [0.3333333333333333, \"#9c179e\"], [0.4444444444444444, \"#bd3786\"], [0.5555555555555556, \"#d8576b\"], [0.6666666666666666, \"#ed7953\"], [0.7777777777777778, \"#fb9f3a\"], [0.8888888888888888, \"#fdca26\"], [1.0, \"#f0f921\"]], \"type\": \"heatmapgl\"}], \"histogram\": [{\"marker\": {\"colorbar\": {\"outlinewidth\": 0, \"ticks\": \"\"}}, \"type\": \"histogram\"}], \"histogram2d\": [{\"colorbar\": {\"outlinewidth\": 0, \"ticks\": \"\"}, \"colorscale\": [[0.0, \"#0d0887\"], [0.1111111111111111, \"#46039f\"], [0.2222222222222222, \"#7201a8\"], [0.3333333333333333, \"#9c179e\"], [0.4444444444444444, \"#bd3786\"], [0.5555555555555556, \"#d8576b\"], [0.6666666666666666, \"#ed7953\"], [0.7777777777777778, \"#fb9f3a\"], [0.8888888888888888, \"#fdca26\"], [1.0, \"#f0f921\"]], \"type\": \"histogram2d\"}], \"histogram2dcontour\": [{\"colorbar\": {\"outlinewidth\": 0, \"ticks\": \"\"}, \"colorscale\": [[0.0, \"#0d0887\"], [0.1111111111111111, \"#46039f\"], [0.2222222222222222, \"#7201a8\"], [0.3333333333333333, \"#9c179e\"], [0.4444444444444444, \"#bd3786\"], [0.5555555555555556, \"#d8576b\"], [0.6666666666666666, \"#ed7953\"], [0.7777777777777778, \"#fb9f3a\"], [0.8888888888888888, \"#fdca26\"], [1.0, \"#f0f921\"]], \"type\": \"histogram2dcontour\"}], \"mesh3d\": [{\"colorbar\": {\"outlinewidth\": 0, \"ticks\": \"\"}, \"type\": \"mesh3d\"}], \"parcoords\": [{\"line\": {\"colorbar\": {\"outlinewidth\": 0, \"ticks\": \"\"}}, \"type\": \"parcoords\"}], \"scatter\": [{\"marker\": {\"colorbar\": {\"outlinewidth\": 0, \"ticks\": \"\"}}, \"type\": \"scatter\"}], \"scatter3d\": [{\"line\": {\"colorbar\": {\"outlinewidth\": 0, \"ticks\": \"\"}}, \"marker\": {\"colorbar\": {\"outlinewidth\": 0, \"ticks\": \"\"}}, \"type\": \"scatter3d\"}], \"scattercarpet\": [{\"marker\": {\"colorbar\": {\"outlinewidth\": 0, \"ticks\": \"\"}}, \"type\": \"scattercarpet\"}], \"scattergeo\": [{\"marker\": {\"colorbar\": {\"outlinewidth\": 0, \"ticks\": \"\"}}, \"type\": \"scattergeo\"}], \"scattergl\": [{\"marker\": {\"colorbar\": {\"outlinewidth\": 0, \"ticks\": \"\"}}, \"type\": \"scattergl\"}], \"scattermapbox\": [{\"marker\": {\"colorbar\": {\"outlinewidth\": 0, \"ticks\": \"\"}}, \"type\": \"scattermapbox\"}], \"scatterpolar\": [{\"marker\": {\"colorbar\": {\"outlinewidth\": 0, \"ticks\": \"\"}}, \"type\": \"scatterpolar\"}], \"scatterpolargl\": [{\"marker\": {\"colorbar\": {\"outlinewidth\": 0, \"ticks\": \"\"}}, \"type\": \"scatterpolargl\"}], \"scatterternary\": [{\"marker\": {\"colorbar\": {\"outlinewidth\": 0, \"ticks\": \"\"}}, \"type\": \"scatterternary\"}], \"surface\": [{\"colorbar\": {\"outlinewidth\": 0, \"ticks\": \"\"}, \"colorscale\": [[0.0, \"#0d0887\"], [0.1111111111111111, \"#46039f\"], [0.2222222222222222, \"#7201a8\"], [0.3333333333333333, \"#9c179e\"], [0.4444444444444444, \"#bd3786\"], [0.5555555555555556, \"#d8576b\"], [0.6666666666666666, \"#ed7953\"], [0.7777777777777778, \"#fb9f3a\"], [0.8888888888888888, \"#fdca26\"], [1.0, \"#f0f921\"]], \"type\": \"surface\"}], \"table\": [{\"cells\": {\"fill\": {\"color\": \"#EBF0F8\"}, \"line\": {\"color\": \"white\"}}, \"header\": {\"fill\": {\"color\": \"#C8D4E3\"}, \"line\": {\"color\": \"white\"}}, \"type\": \"table\"}]}, \"layout\": {\"annotationdefaults\": {\"arrowcolor\": \"#2a3f5f\", \"arrowhead\": 0, \"arrowwidth\": 1}, \"colorscale\": {\"diverging\": [[0, \"#8e0152\"], [0.1, \"#c51b7d\"], [0.2, \"#de77ae\"], [0.3, \"#f1b6da\"], [0.4, \"#fde0ef\"], [0.5, \"#f7f7f7\"], [0.6, \"#e6f5d0\"], [0.7, \"#b8e186\"], [0.8, \"#7fbc41\"], [0.9, \"#4d9221\"], [1, \"#276419\"]], \"sequential\": [[0.0, \"#0d0887\"], [0.1111111111111111, \"#46039f\"], [0.2222222222222222, \"#7201a8\"], [0.3333333333333333, \"#9c179e\"], [0.4444444444444444, \"#bd3786\"], [0.5555555555555556, \"#d8576b\"], [0.6666666666666666, \"#ed7953\"], [0.7777777777777778, \"#fb9f3a\"], [0.8888888888888888, \"#fdca26\"], [1.0, \"#f0f921\"]], \"sequentialminus\": [[0.0, \"#0d0887\"], [0.1111111111111111, \"#46039f\"], [0.2222222222222222, \"#7201a8\"], [0.3333333333333333, \"#9c179e\"], [0.4444444444444444, \"#bd3786\"], [0.5555555555555556, \"#d8576b\"], [0.6666666666666666, \"#ed7953\"], [0.7777777777777778, \"#fb9f3a\"], [0.8888888888888888, \"#fdca26\"], [1.0, \"#f0f921\"]]}, \"colorway\": [\"#636efa\", \"#EF553B\", \"#00cc96\", \"#ab63fa\", \"#FFA15A\", \"#19d3f3\", \"#FF6692\", \"#B6E880\", \"#FF97FF\", \"#FECB52\"], \"font\": {\"color\": \"#2a3f5f\"}, \"geo\": {\"bgcolor\": \"white\", \"lakecolor\": \"white\", \"landcolor\": \"#E5ECF6\", \"showlakes\": true, \"showland\": true, \"subunitcolor\": \"white\"}, \"hoverlabel\": {\"align\": \"left\"}, \"hovermode\": \"closest\", \"mapbox\": {\"style\": \"light\"}, \"paper_bgcolor\": \"white\", \"plot_bgcolor\": \"#E5ECF6\", \"polar\": {\"angularaxis\": {\"gridcolor\": \"white\", \"linecolor\": \"white\", \"ticks\": \"\"}, \"bgcolor\": \"#E5ECF6\", \"radialaxis\": {\"gridcolor\": \"white\", \"linecolor\": \"white\", \"ticks\": \"\"}}, \"scene\": {\"xaxis\": {\"backgroundcolor\": \"#E5ECF6\", \"gridcolor\": \"white\", \"gridwidth\": 2, \"linecolor\": \"white\", \"showbackground\": true, \"ticks\": \"\", \"zerolinecolor\": \"white\"}, \"yaxis\": {\"backgroundcolor\": \"#E5ECF6\", \"gridcolor\": \"white\", \"gridwidth\": 2, \"linecolor\": \"white\", \"showbackground\": true, \"ticks\": \"\", \"zerolinecolor\": \"white\"}, \"zaxis\": {\"backgroundcolor\": \"#E5ECF6\", \"gridcolor\": \"white\", \"gridwidth\": 2, \"linecolor\": \"white\", \"showbackground\": true, \"ticks\": \"\", \"zerolinecolor\": \"white\"}}, \"shapedefaults\": {\"line\": {\"color\": \"#2a3f5f\"}}, \"ternary\": {\"aaxis\": {\"gridcolor\": \"white\", \"linecolor\": \"white\", \"ticks\": \"\"}, \"baxis\": {\"gridcolor\": \"white\", \"linecolor\": \"white\", \"ticks\": \"\"}, \"bgcolor\": \"#E5ECF6\", \"caxis\": {\"gridcolor\": \"white\", \"linecolor\": \"white\", \"ticks\": \"\"}}, \"title\": {\"x\": 0.05}, \"xaxis\": {\"automargin\": true, \"gridcolor\": \"white\", \"linecolor\": \"white\", \"ticks\": \"\", \"zerolinecolor\": \"white\", \"zerolinewidth\": 2}, \"yaxis\": {\"automargin\": true, \"gridcolor\": \"white\", \"linecolor\": \"white\", \"ticks\": \"\", \"zerolinecolor\": \"white\", \"zerolinewidth\": 2}}}, \"title\": {\"font\": {\"color\": \"#4D5663\"}, \"text\": \"Top 20 words in Places\"}, \"xaxis\": {\"gridcolor\": \"#E1E5ED\", \"linecolor\": \"black\", \"showgrid\": true, \"tickfont\": {\"color\": \"#4D5663\"}, \"title\": {\"font\": {\"color\": \"#4D5663\"}, \"text\": \"\"}, \"zerolinecolor\": \"#E1E5ED\"}, \"yaxis\": {\"gridcolor\": \"#E1E5ED\", \"linecolor\": \"black\", \"showgrid\": true, \"tickfont\": {\"color\": \"#4D5663\"}, \"title\": {\"font\": {\"color\": \"#4D5663\"}, \"text\": \"Count\"}, \"zerolinecolor\": \"#E1E5ED\"}},\n",
       "                        {\"showLink\": true, \"linkText\": \"Export to plot.ly\", \"plotlyServerURL\": \"https://plot.ly\", \"responsive\": true}\n",
       "                    ).then(function(){\n",
       "                            \n",
       "var gd = document.getElementById('c27eb1ec-4f48-4e12-8f14-fb17585c55c3');\n",
       "var x = new MutationObserver(function (mutations, observer) {{\n",
       "        var display = window.getComputedStyle(gd).display;\n",
       "        if (!display || display === 'none') {{\n",
       "            console.log([gd, 'removed!']);\n",
       "            Plotly.purge(gd);\n",
       "            observer.disconnect();\n",
       "        }}\n",
       "}});\n",
       "\n",
       "// Listen for the removal of the full notebook cells\n",
       "var notebookContainer = gd.closest('#notebook-container');\n",
       "if (notebookContainer) {{\n",
       "    x.observe(notebookContainer, {childList: true});\n",
       "}}\n",
       "\n",
       "// Listen for the clearing of the current output cell\n",
       "var outputEl = gd.closest('.output');\n",
       "if (outputEl) {{\n",
       "    x.observe(outputEl, {childList: true});\n",
       "}}\n",
       "\n",
       "                        })\n",
       "                };\n",
       "                });\n",
       "            </script>\n",
       "        </div>"
      ]
     },
     "metadata": {},
     "output_type": "display_data"
    }
   ],
   "source": [
    "df_places_no_nan = df_filter['places'].dropna()\n",
    "\n",
    "common_words = get_top_n_words(df_places_no_nan, 20)\n",
    "#for word, freq in common_words:\n",
    "    #print(word, freq)\n",
    "df2 = pd.DataFrame(common_words, columns = ['PlaceText' , 'count'])\n",
    "df2.groupby('PlaceText').sum()['count'].sort_values(ascending=False).iplot(\n",
    "    kind='bar', yTitle='Count', linecolor='black', title='Top 20 words in Places')"
   ]
  },
  {
   "cell_type": "markdown",
   "metadata": {},
   "source": [
    "**Group by Title**"
   ]
  },
  {
   "cell_type": "code",
   "execution_count": 69,
   "metadata": {},
   "outputs": [
    {
     "data": {
      "application/vnd.plotly.v1+json": {
       "config": {
        "linkText": "Export to plot.ly",
        "plotlyServerURL": "https://plot.ly",
        "showLink": true
       },
       "data": [
        {
         "marker": {
          "color": "rgba(255, 153, 51, 0.6)",
          "line": {
           "color": "rgba(255, 153, 51, 1.0)",
           "width": 1
          }
         },
         "name": "count",
         "orientation": "v",
         "text": "",
         "type": "bar",
         "x": [
          "seen",
          "trade",
          "japan",
          "talk",
          "econom",
          "bank",
          "rate",
          "market",
          "polici",
          "spotlight",
          "rise",
          "debt",
          "dollar",
          "coffe",
          "analyst",
          "economi",
          "fall",
          "chang",
          "offer",
          "german"
         ],
         "y": [
          55,
          51,
          41,
          29,
          28,
          25,
          24,
          23,
          20,
          19,
          19,
          19,
          17,
          17,
          17,
          16,
          15,
          15,
          15,
          15
         ]
        }
       ],
       "layout": {
        "legend": {
         "bgcolor": "#F5F6F9",
         "font": {
          "color": "#4D5663"
         }
        },
        "paper_bgcolor": "#F5F6F9",
        "plot_bgcolor": "#F5F6F9",
        "template": {
         "data": {
          "bar": [
           {
            "error_x": {
             "color": "#2a3f5f"
            },
            "error_y": {
             "color": "#2a3f5f"
            },
            "marker": {
             "line": {
              "color": "#E5ECF6",
              "width": 0.5
             }
            },
            "type": "bar"
           }
          ],
          "barpolar": [
           {
            "marker": {
             "line": {
              "color": "#E5ECF6",
              "width": 0.5
             }
            },
            "type": "barpolar"
           }
          ],
          "carpet": [
           {
            "aaxis": {
             "endlinecolor": "#2a3f5f",
             "gridcolor": "white",
             "linecolor": "white",
             "minorgridcolor": "white",
             "startlinecolor": "#2a3f5f"
            },
            "baxis": {
             "endlinecolor": "#2a3f5f",
             "gridcolor": "white",
             "linecolor": "white",
             "minorgridcolor": "white",
             "startlinecolor": "#2a3f5f"
            },
            "type": "carpet"
           }
          ],
          "choropleth": [
           {
            "colorbar": {
             "outlinewidth": 0,
             "ticks": ""
            },
            "type": "choropleth"
           }
          ],
          "contour": [
           {
            "colorbar": {
             "outlinewidth": 0,
             "ticks": ""
            },
            "colorscale": [
             [
              0,
              "#0d0887"
             ],
             [
              0.1111111111111111,
              "#46039f"
             ],
             [
              0.2222222222222222,
              "#7201a8"
             ],
             [
              0.3333333333333333,
              "#9c179e"
             ],
             [
              0.4444444444444444,
              "#bd3786"
             ],
             [
              0.5555555555555556,
              "#d8576b"
             ],
             [
              0.6666666666666666,
              "#ed7953"
             ],
             [
              0.7777777777777778,
              "#fb9f3a"
             ],
             [
              0.8888888888888888,
              "#fdca26"
             ],
             [
              1,
              "#f0f921"
             ]
            ],
            "type": "contour"
           }
          ],
          "contourcarpet": [
           {
            "colorbar": {
             "outlinewidth": 0,
             "ticks": ""
            },
            "type": "contourcarpet"
           }
          ],
          "heatmap": [
           {
            "colorbar": {
             "outlinewidth": 0,
             "ticks": ""
            },
            "colorscale": [
             [
              0,
              "#0d0887"
             ],
             [
              0.1111111111111111,
              "#46039f"
             ],
             [
              0.2222222222222222,
              "#7201a8"
             ],
             [
              0.3333333333333333,
              "#9c179e"
             ],
             [
              0.4444444444444444,
              "#bd3786"
             ],
             [
              0.5555555555555556,
              "#d8576b"
             ],
             [
              0.6666666666666666,
              "#ed7953"
             ],
             [
              0.7777777777777778,
              "#fb9f3a"
             ],
             [
              0.8888888888888888,
              "#fdca26"
             ],
             [
              1,
              "#f0f921"
             ]
            ],
            "type": "heatmap"
           }
          ],
          "heatmapgl": [
           {
            "colorbar": {
             "outlinewidth": 0,
             "ticks": ""
            },
            "colorscale": [
             [
              0,
              "#0d0887"
             ],
             [
              0.1111111111111111,
              "#46039f"
             ],
             [
              0.2222222222222222,
              "#7201a8"
             ],
             [
              0.3333333333333333,
              "#9c179e"
             ],
             [
              0.4444444444444444,
              "#bd3786"
             ],
             [
              0.5555555555555556,
              "#d8576b"
             ],
             [
              0.6666666666666666,
              "#ed7953"
             ],
             [
              0.7777777777777778,
              "#fb9f3a"
             ],
             [
              0.8888888888888888,
              "#fdca26"
             ],
             [
              1,
              "#f0f921"
             ]
            ],
            "type": "heatmapgl"
           }
          ],
          "histogram": [
           {
            "marker": {
             "colorbar": {
              "outlinewidth": 0,
              "ticks": ""
             }
            },
            "type": "histogram"
           }
          ],
          "histogram2d": [
           {
            "colorbar": {
             "outlinewidth": 0,
             "ticks": ""
            },
            "colorscale": [
             [
              0,
              "#0d0887"
             ],
             [
              0.1111111111111111,
              "#46039f"
             ],
             [
              0.2222222222222222,
              "#7201a8"
             ],
             [
              0.3333333333333333,
              "#9c179e"
             ],
             [
              0.4444444444444444,
              "#bd3786"
             ],
             [
              0.5555555555555556,
              "#d8576b"
             ],
             [
              0.6666666666666666,
              "#ed7953"
             ],
             [
              0.7777777777777778,
              "#fb9f3a"
             ],
             [
              0.8888888888888888,
              "#fdca26"
             ],
             [
              1,
              "#f0f921"
             ]
            ],
            "type": "histogram2d"
           }
          ],
          "histogram2dcontour": [
           {
            "colorbar": {
             "outlinewidth": 0,
             "ticks": ""
            },
            "colorscale": [
             [
              0,
              "#0d0887"
             ],
             [
              0.1111111111111111,
              "#46039f"
             ],
             [
              0.2222222222222222,
              "#7201a8"
             ],
             [
              0.3333333333333333,
              "#9c179e"
             ],
             [
              0.4444444444444444,
              "#bd3786"
             ],
             [
              0.5555555555555556,
              "#d8576b"
             ],
             [
              0.6666666666666666,
              "#ed7953"
             ],
             [
              0.7777777777777778,
              "#fb9f3a"
             ],
             [
              0.8888888888888888,
              "#fdca26"
             ],
             [
              1,
              "#f0f921"
             ]
            ],
            "type": "histogram2dcontour"
           }
          ],
          "mesh3d": [
           {
            "colorbar": {
             "outlinewidth": 0,
             "ticks": ""
            },
            "type": "mesh3d"
           }
          ],
          "parcoords": [
           {
            "line": {
             "colorbar": {
              "outlinewidth": 0,
              "ticks": ""
             }
            },
            "type": "parcoords"
           }
          ],
          "scatter": [
           {
            "marker": {
             "colorbar": {
              "outlinewidth": 0,
              "ticks": ""
             }
            },
            "type": "scatter"
           }
          ],
          "scatter3d": [
           {
            "line": {
             "colorbar": {
              "outlinewidth": 0,
              "ticks": ""
             }
            },
            "marker": {
             "colorbar": {
              "outlinewidth": 0,
              "ticks": ""
             }
            },
            "type": "scatter3d"
           }
          ],
          "scattercarpet": [
           {
            "marker": {
             "colorbar": {
              "outlinewidth": 0,
              "ticks": ""
             }
            },
            "type": "scattercarpet"
           }
          ],
          "scattergeo": [
           {
            "marker": {
             "colorbar": {
              "outlinewidth": 0,
              "ticks": ""
             }
            },
            "type": "scattergeo"
           }
          ],
          "scattergl": [
           {
            "marker": {
             "colorbar": {
              "outlinewidth": 0,
              "ticks": ""
             }
            },
            "type": "scattergl"
           }
          ],
          "scattermapbox": [
           {
            "marker": {
             "colorbar": {
              "outlinewidth": 0,
              "ticks": ""
             }
            },
            "type": "scattermapbox"
           }
          ],
          "scatterpolar": [
           {
            "marker": {
             "colorbar": {
              "outlinewidth": 0,
              "ticks": ""
             }
            },
            "type": "scatterpolar"
           }
          ],
          "scatterpolargl": [
           {
            "marker": {
             "colorbar": {
              "outlinewidth": 0,
              "ticks": ""
             }
            },
            "type": "scatterpolargl"
           }
          ],
          "scatterternary": [
           {
            "marker": {
             "colorbar": {
              "outlinewidth": 0,
              "ticks": ""
             }
            },
            "type": "scatterternary"
           }
          ],
          "surface": [
           {
            "colorbar": {
             "outlinewidth": 0,
             "ticks": ""
            },
            "colorscale": [
             [
              0,
              "#0d0887"
             ],
             [
              0.1111111111111111,
              "#46039f"
             ],
             [
              0.2222222222222222,
              "#7201a8"
             ],
             [
              0.3333333333333333,
              "#9c179e"
             ],
             [
              0.4444444444444444,
              "#bd3786"
             ],
             [
              0.5555555555555556,
              "#d8576b"
             ],
             [
              0.6666666666666666,
              "#ed7953"
             ],
             [
              0.7777777777777778,
              "#fb9f3a"
             ],
             [
              0.8888888888888888,
              "#fdca26"
             ],
             [
              1,
              "#f0f921"
             ]
            ],
            "type": "surface"
           }
          ],
          "table": [
           {
            "cells": {
             "fill": {
              "color": "#EBF0F8"
             },
             "line": {
              "color": "white"
             }
            },
            "header": {
             "fill": {
              "color": "#C8D4E3"
             },
             "line": {
              "color": "white"
             }
            },
            "type": "table"
           }
          ]
         },
         "layout": {
          "annotationdefaults": {
           "arrowcolor": "#2a3f5f",
           "arrowhead": 0,
           "arrowwidth": 1
          },
          "colorscale": {
           "diverging": [
            [
             0,
             "#8e0152"
            ],
            [
             0.1,
             "#c51b7d"
            ],
            [
             0.2,
             "#de77ae"
            ],
            [
             0.3,
             "#f1b6da"
            ],
            [
             0.4,
             "#fde0ef"
            ],
            [
             0.5,
             "#f7f7f7"
            ],
            [
             0.6,
             "#e6f5d0"
            ],
            [
             0.7,
             "#b8e186"
            ],
            [
             0.8,
             "#7fbc41"
            ],
            [
             0.9,
             "#4d9221"
            ],
            [
             1,
             "#276419"
            ]
           ],
           "sequential": [
            [
             0,
             "#0d0887"
            ],
            [
             0.1111111111111111,
             "#46039f"
            ],
            [
             0.2222222222222222,
             "#7201a8"
            ],
            [
             0.3333333333333333,
             "#9c179e"
            ],
            [
             0.4444444444444444,
             "#bd3786"
            ],
            [
             0.5555555555555556,
             "#d8576b"
            ],
            [
             0.6666666666666666,
             "#ed7953"
            ],
            [
             0.7777777777777778,
             "#fb9f3a"
            ],
            [
             0.8888888888888888,
             "#fdca26"
            ],
            [
             1,
             "#f0f921"
            ]
           ],
           "sequentialminus": [
            [
             0,
             "#0d0887"
            ],
            [
             0.1111111111111111,
             "#46039f"
            ],
            [
             0.2222222222222222,
             "#7201a8"
            ],
            [
             0.3333333333333333,
             "#9c179e"
            ],
            [
             0.4444444444444444,
             "#bd3786"
            ],
            [
             0.5555555555555556,
             "#d8576b"
            ],
            [
             0.6666666666666666,
             "#ed7953"
            ],
            [
             0.7777777777777778,
             "#fb9f3a"
            ],
            [
             0.8888888888888888,
             "#fdca26"
            ],
            [
             1,
             "#f0f921"
            ]
           ]
          },
          "colorway": [
           "#636efa",
           "#EF553B",
           "#00cc96",
           "#ab63fa",
           "#FFA15A",
           "#19d3f3",
           "#FF6692",
           "#B6E880",
           "#FF97FF",
           "#FECB52"
          ],
          "font": {
           "color": "#2a3f5f"
          },
          "geo": {
           "bgcolor": "white",
           "lakecolor": "white",
           "landcolor": "#E5ECF6",
           "showlakes": true,
           "showland": true,
           "subunitcolor": "white"
          },
          "hoverlabel": {
           "align": "left"
          },
          "hovermode": "closest",
          "mapbox": {
           "style": "light"
          },
          "paper_bgcolor": "white",
          "plot_bgcolor": "#E5ECF6",
          "polar": {
           "angularaxis": {
            "gridcolor": "white",
            "linecolor": "white",
            "ticks": ""
           },
           "bgcolor": "#E5ECF6",
           "radialaxis": {
            "gridcolor": "white",
            "linecolor": "white",
            "ticks": ""
           }
          },
          "scene": {
           "xaxis": {
            "backgroundcolor": "#E5ECF6",
            "gridcolor": "white",
            "gridwidth": 2,
            "linecolor": "white",
            "showbackground": true,
            "ticks": "",
            "zerolinecolor": "white"
           },
           "yaxis": {
            "backgroundcolor": "#E5ECF6",
            "gridcolor": "white",
            "gridwidth": 2,
            "linecolor": "white",
            "showbackground": true,
            "ticks": "",
            "zerolinecolor": "white"
           },
           "zaxis": {
            "backgroundcolor": "#E5ECF6",
            "gridcolor": "white",
            "gridwidth": 2,
            "linecolor": "white",
            "showbackground": true,
            "ticks": "",
            "zerolinecolor": "white"
           }
          },
          "shapedefaults": {
           "line": {
            "color": "#2a3f5f"
           }
          },
          "ternary": {
           "aaxis": {
            "gridcolor": "white",
            "linecolor": "white",
            "ticks": ""
           },
           "baxis": {
            "gridcolor": "white",
            "linecolor": "white",
            "ticks": ""
           },
           "bgcolor": "#E5ECF6",
           "caxis": {
            "gridcolor": "white",
            "linecolor": "white",
            "ticks": ""
           }
          },
          "title": {
           "x": 0.05
          },
          "xaxis": {
           "automargin": true,
           "gridcolor": "white",
           "linecolor": "white",
           "ticks": "",
           "zerolinecolor": "white",
           "zerolinewidth": 2
          },
          "yaxis": {
           "automargin": true,
           "gridcolor": "white",
           "linecolor": "white",
           "ticks": "",
           "zerolinecolor": "white",
           "zerolinewidth": 2
          }
         }
        },
        "title": {
         "font": {
          "color": "#4D5663"
         },
         "text": "Top 20 words in Title"
        },
        "xaxis": {
         "gridcolor": "#E1E5ED",
         "linecolor": "black",
         "showgrid": true,
         "tickfont": {
          "color": "#4D5663"
         },
         "title": {
          "font": {
           "color": "#4D5663"
          },
          "text": ""
         },
         "zerolinecolor": "#E1E5ED"
        },
        "yaxis": {
         "gridcolor": "#E1E5ED",
         "linecolor": "black",
         "showgrid": true,
         "tickfont": {
          "color": "#4D5663"
         },
         "title": {
          "font": {
           "color": "#4D5663"
          },
          "text": "Count"
         },
         "zerolinecolor": "#E1E5ED"
        }
       }
      },
      "text/html": [
       "<div>\n",
       "        \n",
       "        \n",
       "            <div id=\"11e9d77d-2e52-4684-93ce-cbe7db2255e2\" class=\"plotly-graph-div\" style=\"height:525px; width:100%;\"></div>\n",
       "            <script type=\"text/javascript\">\n",
       "                require([\"plotly\"], function(Plotly) {\n",
       "                    window.PLOTLYENV=window.PLOTLYENV || {};\n",
       "                    window.PLOTLYENV.BASE_URL='https://plot.ly';\n",
       "                    \n",
       "                if (document.getElementById(\"11e9d77d-2e52-4684-93ce-cbe7db2255e2\")) {\n",
       "                    Plotly.newPlot(\n",
       "                        '11e9d77d-2e52-4684-93ce-cbe7db2255e2',\n",
       "                        [{\"marker\": {\"color\": \"rgba(255, 153, 51, 0.6)\", \"line\": {\"color\": \"rgba(255, 153, 51, 1.0)\", \"width\": 1}}, \"name\": \"count\", \"orientation\": \"v\", \"text\": \"\", \"type\": \"bar\", \"x\": [\"seen\", \"trade\", \"japan\", \"talk\", \"econom\", \"bank\", \"rate\", \"market\", \"polici\", \"spotlight\", \"rise\", \"debt\", \"dollar\", \"coffe\", \"analyst\", \"economi\", \"fall\", \"chang\", \"offer\", \"german\"], \"y\": [55, 51, 41, 29, 28, 25, 24, 23, 20, 19, 19, 19, 17, 17, 17, 16, 15, 15, 15, 15]}],\n",
       "                        {\"legend\": {\"bgcolor\": \"#F5F6F9\", \"font\": {\"color\": \"#4D5663\"}}, \"paper_bgcolor\": \"#F5F6F9\", \"plot_bgcolor\": \"#F5F6F9\", \"template\": {\"data\": {\"bar\": [{\"error_x\": {\"color\": \"#2a3f5f\"}, \"error_y\": {\"color\": \"#2a3f5f\"}, \"marker\": {\"line\": {\"color\": \"#E5ECF6\", \"width\": 0.5}}, \"type\": \"bar\"}], \"barpolar\": [{\"marker\": {\"line\": {\"color\": \"#E5ECF6\", \"width\": 0.5}}, \"type\": \"barpolar\"}], \"carpet\": [{\"aaxis\": {\"endlinecolor\": \"#2a3f5f\", \"gridcolor\": \"white\", \"linecolor\": \"white\", \"minorgridcolor\": \"white\", \"startlinecolor\": \"#2a3f5f\"}, \"baxis\": {\"endlinecolor\": \"#2a3f5f\", \"gridcolor\": \"white\", \"linecolor\": \"white\", \"minorgridcolor\": \"white\", \"startlinecolor\": \"#2a3f5f\"}, \"type\": \"carpet\"}], \"choropleth\": [{\"colorbar\": {\"outlinewidth\": 0, \"ticks\": \"\"}, \"type\": \"choropleth\"}], \"contour\": [{\"colorbar\": {\"outlinewidth\": 0, \"ticks\": \"\"}, \"colorscale\": [[0.0, \"#0d0887\"], [0.1111111111111111, \"#46039f\"], [0.2222222222222222, \"#7201a8\"], [0.3333333333333333, \"#9c179e\"], [0.4444444444444444, \"#bd3786\"], [0.5555555555555556, \"#d8576b\"], [0.6666666666666666, \"#ed7953\"], [0.7777777777777778, \"#fb9f3a\"], [0.8888888888888888, \"#fdca26\"], [1.0, \"#f0f921\"]], \"type\": \"contour\"}], \"contourcarpet\": [{\"colorbar\": {\"outlinewidth\": 0, \"ticks\": \"\"}, \"type\": \"contourcarpet\"}], \"heatmap\": [{\"colorbar\": {\"outlinewidth\": 0, \"ticks\": \"\"}, \"colorscale\": [[0.0, \"#0d0887\"], [0.1111111111111111, \"#46039f\"], [0.2222222222222222, \"#7201a8\"], [0.3333333333333333, \"#9c179e\"], [0.4444444444444444, \"#bd3786\"], [0.5555555555555556, \"#d8576b\"], [0.6666666666666666, \"#ed7953\"], [0.7777777777777778, \"#fb9f3a\"], [0.8888888888888888, \"#fdca26\"], [1.0, \"#f0f921\"]], \"type\": \"heatmap\"}], \"heatmapgl\": [{\"colorbar\": {\"outlinewidth\": 0, \"ticks\": \"\"}, \"colorscale\": [[0.0, \"#0d0887\"], [0.1111111111111111, \"#46039f\"], [0.2222222222222222, \"#7201a8\"], [0.3333333333333333, \"#9c179e\"], [0.4444444444444444, \"#bd3786\"], [0.5555555555555556, \"#d8576b\"], [0.6666666666666666, \"#ed7953\"], [0.7777777777777778, \"#fb9f3a\"], [0.8888888888888888, \"#fdca26\"], [1.0, \"#f0f921\"]], \"type\": \"heatmapgl\"}], \"histogram\": [{\"marker\": {\"colorbar\": {\"outlinewidth\": 0, \"ticks\": \"\"}}, \"type\": \"histogram\"}], \"histogram2d\": [{\"colorbar\": {\"outlinewidth\": 0, \"ticks\": \"\"}, \"colorscale\": [[0.0, \"#0d0887\"], [0.1111111111111111, \"#46039f\"], [0.2222222222222222, \"#7201a8\"], [0.3333333333333333, \"#9c179e\"], [0.4444444444444444, \"#bd3786\"], [0.5555555555555556, \"#d8576b\"], [0.6666666666666666, \"#ed7953\"], [0.7777777777777778, \"#fb9f3a\"], [0.8888888888888888, \"#fdca26\"], [1.0, \"#f0f921\"]], \"type\": \"histogram2d\"}], \"histogram2dcontour\": [{\"colorbar\": {\"outlinewidth\": 0, \"ticks\": \"\"}, \"colorscale\": [[0.0, \"#0d0887\"], [0.1111111111111111, \"#46039f\"], [0.2222222222222222, \"#7201a8\"], [0.3333333333333333, \"#9c179e\"], [0.4444444444444444, \"#bd3786\"], [0.5555555555555556, \"#d8576b\"], [0.6666666666666666, \"#ed7953\"], [0.7777777777777778, \"#fb9f3a\"], [0.8888888888888888, \"#fdca26\"], [1.0, \"#f0f921\"]], \"type\": \"histogram2dcontour\"}], \"mesh3d\": [{\"colorbar\": {\"outlinewidth\": 0, \"ticks\": \"\"}, \"type\": \"mesh3d\"}], \"parcoords\": [{\"line\": {\"colorbar\": {\"outlinewidth\": 0, \"ticks\": \"\"}}, \"type\": \"parcoords\"}], \"scatter\": [{\"marker\": {\"colorbar\": {\"outlinewidth\": 0, \"ticks\": \"\"}}, \"type\": \"scatter\"}], \"scatter3d\": [{\"line\": {\"colorbar\": {\"outlinewidth\": 0, \"ticks\": \"\"}}, \"marker\": {\"colorbar\": {\"outlinewidth\": 0, \"ticks\": \"\"}}, \"type\": \"scatter3d\"}], \"scattercarpet\": [{\"marker\": {\"colorbar\": {\"outlinewidth\": 0, \"ticks\": \"\"}}, \"type\": \"scattercarpet\"}], \"scattergeo\": [{\"marker\": {\"colorbar\": {\"outlinewidth\": 0, \"ticks\": \"\"}}, \"type\": \"scattergeo\"}], \"scattergl\": [{\"marker\": {\"colorbar\": {\"outlinewidth\": 0, \"ticks\": \"\"}}, \"type\": \"scattergl\"}], \"scattermapbox\": [{\"marker\": {\"colorbar\": {\"outlinewidth\": 0, \"ticks\": \"\"}}, \"type\": \"scattermapbox\"}], \"scatterpolar\": [{\"marker\": {\"colorbar\": {\"outlinewidth\": 0, \"ticks\": \"\"}}, \"type\": \"scatterpolar\"}], \"scatterpolargl\": [{\"marker\": {\"colorbar\": {\"outlinewidth\": 0, \"ticks\": \"\"}}, \"type\": \"scatterpolargl\"}], \"scatterternary\": [{\"marker\": {\"colorbar\": {\"outlinewidth\": 0, \"ticks\": \"\"}}, \"type\": \"scatterternary\"}], \"surface\": [{\"colorbar\": {\"outlinewidth\": 0, \"ticks\": \"\"}, \"colorscale\": [[0.0, \"#0d0887\"], [0.1111111111111111, \"#46039f\"], [0.2222222222222222, \"#7201a8\"], [0.3333333333333333, \"#9c179e\"], [0.4444444444444444, \"#bd3786\"], [0.5555555555555556, \"#d8576b\"], [0.6666666666666666, \"#ed7953\"], [0.7777777777777778, \"#fb9f3a\"], [0.8888888888888888, \"#fdca26\"], [1.0, \"#f0f921\"]], \"type\": \"surface\"}], \"table\": [{\"cells\": {\"fill\": {\"color\": \"#EBF0F8\"}, \"line\": {\"color\": \"white\"}}, \"header\": {\"fill\": {\"color\": \"#C8D4E3\"}, \"line\": {\"color\": \"white\"}}, \"type\": \"table\"}]}, \"layout\": {\"annotationdefaults\": {\"arrowcolor\": \"#2a3f5f\", \"arrowhead\": 0, \"arrowwidth\": 1}, \"colorscale\": {\"diverging\": [[0, \"#8e0152\"], [0.1, \"#c51b7d\"], [0.2, \"#de77ae\"], [0.3, \"#f1b6da\"], [0.4, \"#fde0ef\"], [0.5, \"#f7f7f7\"], [0.6, \"#e6f5d0\"], [0.7, \"#b8e186\"], [0.8, \"#7fbc41\"], [0.9, \"#4d9221\"], [1, \"#276419\"]], \"sequential\": [[0.0, \"#0d0887\"], [0.1111111111111111, \"#46039f\"], [0.2222222222222222, \"#7201a8\"], [0.3333333333333333, \"#9c179e\"], [0.4444444444444444, \"#bd3786\"], [0.5555555555555556, \"#d8576b\"], [0.6666666666666666, \"#ed7953\"], [0.7777777777777778, \"#fb9f3a\"], [0.8888888888888888, \"#fdca26\"], [1.0, \"#f0f921\"]], \"sequentialminus\": [[0.0, \"#0d0887\"], [0.1111111111111111, \"#46039f\"], [0.2222222222222222, \"#7201a8\"], [0.3333333333333333, \"#9c179e\"], [0.4444444444444444, \"#bd3786\"], [0.5555555555555556, \"#d8576b\"], [0.6666666666666666, \"#ed7953\"], [0.7777777777777778, \"#fb9f3a\"], [0.8888888888888888, \"#fdca26\"], [1.0, \"#f0f921\"]]}, \"colorway\": [\"#636efa\", \"#EF553B\", \"#00cc96\", \"#ab63fa\", \"#FFA15A\", \"#19d3f3\", \"#FF6692\", \"#B6E880\", \"#FF97FF\", \"#FECB52\"], \"font\": {\"color\": \"#2a3f5f\"}, \"geo\": {\"bgcolor\": \"white\", \"lakecolor\": \"white\", \"landcolor\": \"#E5ECF6\", \"showlakes\": true, \"showland\": true, \"subunitcolor\": \"white\"}, \"hoverlabel\": {\"align\": \"left\"}, \"hovermode\": \"closest\", \"mapbox\": {\"style\": \"light\"}, \"paper_bgcolor\": \"white\", \"plot_bgcolor\": \"#E5ECF6\", \"polar\": {\"angularaxis\": {\"gridcolor\": \"white\", \"linecolor\": \"white\", \"ticks\": \"\"}, \"bgcolor\": \"#E5ECF6\", \"radialaxis\": {\"gridcolor\": \"white\", \"linecolor\": \"white\", \"ticks\": \"\"}}, \"scene\": {\"xaxis\": {\"backgroundcolor\": \"#E5ECF6\", \"gridcolor\": \"white\", \"gridwidth\": 2, \"linecolor\": \"white\", \"showbackground\": true, \"ticks\": \"\", \"zerolinecolor\": \"white\"}, \"yaxis\": {\"backgroundcolor\": \"#E5ECF6\", \"gridcolor\": \"white\", \"gridwidth\": 2, \"linecolor\": \"white\", \"showbackground\": true, \"ticks\": \"\", \"zerolinecolor\": \"white\"}, \"zaxis\": {\"backgroundcolor\": \"#E5ECF6\", \"gridcolor\": \"white\", \"gridwidth\": 2, \"linecolor\": \"white\", \"showbackground\": true, \"ticks\": \"\", \"zerolinecolor\": \"white\"}}, \"shapedefaults\": {\"line\": {\"color\": \"#2a3f5f\"}}, \"ternary\": {\"aaxis\": {\"gridcolor\": \"white\", \"linecolor\": \"white\", \"ticks\": \"\"}, \"baxis\": {\"gridcolor\": \"white\", \"linecolor\": \"white\", \"ticks\": \"\"}, \"bgcolor\": \"#E5ECF6\", \"caxis\": {\"gridcolor\": \"white\", \"linecolor\": \"white\", \"ticks\": \"\"}}, \"title\": {\"x\": 0.05}, \"xaxis\": {\"automargin\": true, \"gridcolor\": \"white\", \"linecolor\": \"white\", \"ticks\": \"\", \"zerolinecolor\": \"white\", \"zerolinewidth\": 2}, \"yaxis\": {\"automargin\": true, \"gridcolor\": \"white\", \"linecolor\": \"white\", \"ticks\": \"\", \"zerolinecolor\": \"white\", \"zerolinewidth\": 2}}}, \"title\": {\"font\": {\"color\": \"#4D5663\"}, \"text\": \"Top 20 words in Title\"}, \"xaxis\": {\"gridcolor\": \"#E1E5ED\", \"linecolor\": \"black\", \"showgrid\": true, \"tickfont\": {\"color\": \"#4D5663\"}, \"title\": {\"font\": {\"color\": \"#4D5663\"}, \"text\": \"\"}, \"zerolinecolor\": \"#E1E5ED\"}, \"yaxis\": {\"gridcolor\": \"#E1E5ED\", \"linecolor\": \"black\", \"showgrid\": true, \"tickfont\": {\"color\": \"#4D5663\"}, \"title\": {\"font\": {\"color\": \"#4D5663\"}, \"text\": \"Count\"}, \"zerolinecolor\": \"#E1E5ED\"}},\n",
       "                        {\"showLink\": true, \"linkText\": \"Export to plot.ly\", \"plotlyServerURL\": \"https://plot.ly\", \"responsive\": true}\n",
       "                    ).then(function(){\n",
       "                            \n",
       "var gd = document.getElementById('11e9d77d-2e52-4684-93ce-cbe7db2255e2');\n",
       "var x = new MutationObserver(function (mutations, observer) {{\n",
       "        var display = window.getComputedStyle(gd).display;\n",
       "        if (!display || display === 'none') {{\n",
       "            console.log([gd, 'removed!']);\n",
       "            Plotly.purge(gd);\n",
       "            observer.disconnect();\n",
       "        }}\n",
       "}});\n",
       "\n",
       "// Listen for the removal of the full notebook cells\n",
       "var notebookContainer = gd.closest('#notebook-container');\n",
       "if (notebookContainer) {{\n",
       "    x.observe(notebookContainer, {childList: true});\n",
       "}}\n",
       "\n",
       "// Listen for the clearing of the current output cell\n",
       "var outputEl = gd.closest('.output');\n",
       "if (outputEl) {{\n",
       "    x.observe(outputEl, {childList: true});\n",
       "}}\n",
       "\n",
       "                        })\n",
       "                };\n",
       "                });\n",
       "            </script>\n",
       "        </div>"
      ]
     },
     "metadata": {},
     "output_type": "display_data"
    }
   ],
   "source": [
    "common_words = get_top_n_words(df_filter['title'], 20)\n",
    "#for word, freq in common_words:\n",
    "#    print(word, freq)\n",
    "df2 = pd.DataFrame(common_words, columns = ['TitleText' , 'count'])\n",
    "df2.groupby('TitleText').sum()['count'].sort_values(ascending=False).iplot(\n",
    "    kind='bar', yTitle='Count', linecolor='black', title='Top 20 words in Title')"
   ]
  },
  {
   "cell_type": "code",
   "execution_count": null,
   "metadata": {},
   "outputs": [],
   "source": []
  },
  {
   "cell_type": "code",
   "execution_count": null,
   "metadata": {},
   "outputs": [],
   "source": []
  }
 ],
 "metadata": {
  "kernelspec": {
   "display_name": "Python 3",
   "language": "python",
   "name": "python3"
  },
  "language_info": {
   "codemirror_mode": {
    "name": "ipython",
    "version": 3
   },
   "file_extension": ".py",
   "mimetype": "text/x-python",
   "name": "python",
   "nbconvert_exporter": "python",
   "pygments_lexer": "ipython3",
   "version": "3.7.3"
  }
 },
 "nbformat": 4,
 "nbformat_minor": 2
}
